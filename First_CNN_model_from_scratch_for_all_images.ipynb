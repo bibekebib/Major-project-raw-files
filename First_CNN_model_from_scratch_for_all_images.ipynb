{
  "nbformat": 4,
  "nbformat_minor": 0,
  "metadata": {
    "colab": {
      "provenance": [],
      "mount_file_id": "1kg938jfXtIF1bmykY1rFRIV5ImxIic6v",
      "authorship_tag": "ABX9TyOcLGpqLA8FzkL24WuCMG8S",
      "include_colab_link": true
    },
    "kernelspec": {
      "name": "python3",
      "display_name": "Python 3"
    },
    "language_info": {
      "name": "python"
    },
    "gpuClass": "standard",
    "accelerator": "GPU"
  },
  "cells": [
    {
      "cell_type": "markdown",
      "metadata": {
        "id": "view-in-github",
        "colab_type": "text"
      },
      "source": [
        "<a href=\"https://colab.research.google.com/github/bibekebib/Major-project-raw-files/blob/main/First_CNN_model_from_scratch_for_all_images.ipynb\" target=\"_parent\"><img src=\"https://colab.research.google.com/assets/colab-badge.svg\" alt=\"Open In Colab\"/></a>"
      ]
    },
    {
      "cell_type": "code",
      "source": [
        "from google.colab import drive\n",
        "drive.mount('/content/drive')\n"
      ],
      "metadata": {
        "id": "UWMcpTB5vnUi",
        "outputId": "20e99e87-975a-48fe-883c-d360864fe741",
        "colab": {
          "base_uri": "https://localhost:8080/"
        }
      },
      "execution_count": null,
      "outputs": [
        {
          "output_type": "stream",
          "name": "stdout",
          "text": [
            "Drive already mounted at /content/drive; to attempt to forcibly remount, call drive.mount(\"/content/drive\", force_remount=True).\n"
          ]
        }
      ]
    },
    {
      "cell_type": "code",
      "source": [
        "dataset_path = '/content/drive/MyDrive/dataset'"
      ],
      "metadata": {
        "id": "uILOoRcKv330"
      },
      "execution_count": null,
      "outputs": []
    },
    {
      "cell_type": "code",
      "source": [
        "from glob import glob\n",
        "import pandas as pd\n",
        "import cv2 as cv2\n",
        "import matplotlib.pyplot as plt\n",
        "import numpy as np\n",
        "import torch\n",
        "import torchvision\n",
        "from torch.utils.data import DataLoader, Dataset\n",
        "from sklearn.preprocessing import LabelEncoder"
      ],
      "metadata": {
        "id": "lCZty5b9v-v5"
      },
      "execution_count": null,
      "outputs": []
    },
    {
      "cell_type": "code",
      "source": [
        "device = 'cuda' if torch.cuda.is_available() else 'cpu'"
      ],
      "metadata": {
        "id": "BS7lLtj_FEmd"
      },
      "execution_count": null,
      "outputs": []
    },
    {
      "cell_type": "code",
      "source": [
        "df = pd.read_csv('/content/drive/MyDrive/dataset/newdf_image_path.csv')"
      ],
      "metadata": {
        "id": "p2oDrRX2Od3i"
      },
      "execution_count": null,
      "outputs": []
    },
    {
      "cell_type": "code",
      "source": [
        "lbe = LabelEncoder()"
      ],
      "metadata": {
        "id": "etOSk0Lj_p4K"
      },
      "execution_count": null,
      "outputs": []
    },
    {
      "cell_type": "code",
      "source": [
        "df.head()"
      ],
      "metadata": {
        "colab": {
          "base_uri": "https://localhost:8080/",
          "height": 206
        },
        "id": "OSt_JAjSPOO1",
        "outputId": "eed5faf5-9e55-4883-bd21-9d1058438195"
      },
      "execution_count": null,
      "outputs": [
        {
          "output_type": "execute_result",
          "data": {
            "text/plain": [
              "   Unnamed: 0                                               path        label\n",
              "0        1992  /content/drive/MyDrive/NewDataset/brikshasana/...  brikshasana\n",
              "1         939  /content/drive/MyDrive/NewDataset/trikonasana/...  trikonasana\n",
              "2        1188  /content/drive/MyDrive/NewDataset/trikonasana/...  trikonasana\n",
              "3         253  /content/drive/MyDrive/NewDataset/cat_cow/ cat...      cat_cow\n",
              "4        1690  /content/drive/MyDrive/NewDataset/brikshasana/...  brikshasana"
            ],
            "text/html": [
              "\n",
              "  <div id=\"df-5f768cbd-8302-4ad2-893f-62a6b33aaf3b\">\n",
              "    <div class=\"colab-df-container\">\n",
              "      <div>\n",
              "<style scoped>\n",
              "    .dataframe tbody tr th:only-of-type {\n",
              "        vertical-align: middle;\n",
              "    }\n",
              "\n",
              "    .dataframe tbody tr th {\n",
              "        vertical-align: top;\n",
              "    }\n",
              "\n",
              "    .dataframe thead th {\n",
              "        text-align: right;\n",
              "    }\n",
              "</style>\n",
              "<table border=\"1\" class=\"dataframe\">\n",
              "  <thead>\n",
              "    <tr style=\"text-align: right;\">\n",
              "      <th></th>\n",
              "      <th>Unnamed: 0</th>\n",
              "      <th>path</th>\n",
              "      <th>label</th>\n",
              "    </tr>\n",
              "  </thead>\n",
              "  <tbody>\n",
              "    <tr>\n",
              "      <th>0</th>\n",
              "      <td>1992</td>\n",
              "      <td>/content/drive/MyDrive/NewDataset/brikshasana/...</td>\n",
              "      <td>brikshasana</td>\n",
              "    </tr>\n",
              "    <tr>\n",
              "      <th>1</th>\n",
              "      <td>939</td>\n",
              "      <td>/content/drive/MyDrive/NewDataset/trikonasana/...</td>\n",
              "      <td>trikonasana</td>\n",
              "    </tr>\n",
              "    <tr>\n",
              "      <th>2</th>\n",
              "      <td>1188</td>\n",
              "      <td>/content/drive/MyDrive/NewDataset/trikonasana/...</td>\n",
              "      <td>trikonasana</td>\n",
              "    </tr>\n",
              "    <tr>\n",
              "      <th>3</th>\n",
              "      <td>253</td>\n",
              "      <td>/content/drive/MyDrive/NewDataset/cat_cow/ cat...</td>\n",
              "      <td>cat_cow</td>\n",
              "    </tr>\n",
              "    <tr>\n",
              "      <th>4</th>\n",
              "      <td>1690</td>\n",
              "      <td>/content/drive/MyDrive/NewDataset/brikshasana/...</td>\n",
              "      <td>brikshasana</td>\n",
              "    </tr>\n",
              "  </tbody>\n",
              "</table>\n",
              "</div>\n",
              "      <button class=\"colab-df-convert\" onclick=\"convertToInteractive('df-5f768cbd-8302-4ad2-893f-62a6b33aaf3b')\"\n",
              "              title=\"Convert this dataframe to an interactive table.\"\n",
              "              style=\"display:none;\">\n",
              "        \n",
              "  <svg xmlns=\"http://www.w3.org/2000/svg\" height=\"24px\"viewBox=\"0 0 24 24\"\n",
              "       width=\"24px\">\n",
              "    <path d=\"M0 0h24v24H0V0z\" fill=\"none\"/>\n",
              "    <path d=\"M18.56 5.44l.94 2.06.94-2.06 2.06-.94-2.06-.94-.94-2.06-.94 2.06-2.06.94zm-11 1L8.5 8.5l.94-2.06 2.06-.94-2.06-.94L8.5 2.5l-.94 2.06-2.06.94zm10 10l.94 2.06.94-2.06 2.06-.94-2.06-.94-.94-2.06-.94 2.06-2.06.94z\"/><path d=\"M17.41 7.96l-1.37-1.37c-.4-.4-.92-.59-1.43-.59-.52 0-1.04.2-1.43.59L10.3 9.45l-7.72 7.72c-.78.78-.78 2.05 0 2.83L4 21.41c.39.39.9.59 1.41.59.51 0 1.02-.2 1.41-.59l7.78-7.78 2.81-2.81c.8-.78.8-2.07 0-2.86zM5.41 20L4 18.59l7.72-7.72 1.47 1.35L5.41 20z\"/>\n",
              "  </svg>\n",
              "      </button>\n",
              "      \n",
              "  <style>\n",
              "    .colab-df-container {\n",
              "      display:flex;\n",
              "      flex-wrap:wrap;\n",
              "      gap: 12px;\n",
              "    }\n",
              "\n",
              "    .colab-df-convert {\n",
              "      background-color: #E8F0FE;\n",
              "      border: none;\n",
              "      border-radius: 50%;\n",
              "      cursor: pointer;\n",
              "      display: none;\n",
              "      fill: #1967D2;\n",
              "      height: 32px;\n",
              "      padding: 0 0 0 0;\n",
              "      width: 32px;\n",
              "    }\n",
              "\n",
              "    .colab-df-convert:hover {\n",
              "      background-color: #E2EBFA;\n",
              "      box-shadow: 0px 1px 2px rgba(60, 64, 67, 0.3), 0px 1px 3px 1px rgba(60, 64, 67, 0.15);\n",
              "      fill: #174EA6;\n",
              "    }\n",
              "\n",
              "    [theme=dark] .colab-df-convert {\n",
              "      background-color: #3B4455;\n",
              "      fill: #D2E3FC;\n",
              "    }\n",
              "\n",
              "    [theme=dark] .colab-df-convert:hover {\n",
              "      background-color: #434B5C;\n",
              "      box-shadow: 0px 1px 3px 1px rgba(0, 0, 0, 0.15);\n",
              "      filter: drop-shadow(0px 1px 2px rgba(0, 0, 0, 0.3));\n",
              "      fill: #FFFFFF;\n",
              "    }\n",
              "  </style>\n",
              "\n",
              "      <script>\n",
              "        const buttonEl =\n",
              "          document.querySelector('#df-5f768cbd-8302-4ad2-893f-62a6b33aaf3b button.colab-df-convert');\n",
              "        buttonEl.style.display =\n",
              "          google.colab.kernel.accessAllowed ? 'block' : 'none';\n",
              "\n",
              "        async function convertToInteractive(key) {\n",
              "          const element = document.querySelector('#df-5f768cbd-8302-4ad2-893f-62a6b33aaf3b');\n",
              "          const dataTable =\n",
              "            await google.colab.kernel.invokeFunction('convertToInteractive',\n",
              "                                                     [key], {});\n",
              "          if (!dataTable) return;\n",
              "\n",
              "          const docLinkHtml = 'Like what you see? Visit the ' +\n",
              "            '<a target=\"_blank\" href=https://colab.research.google.com/notebooks/data_table.ipynb>data table notebook</a>'\n",
              "            + ' to learn more about interactive tables.';\n",
              "          element.innerHTML = '';\n",
              "          dataTable['output_type'] = 'display_data';\n",
              "          await google.colab.output.renderOutput(dataTable, element);\n",
              "          const docLink = document.createElement('div');\n",
              "          docLink.innerHTML = docLinkHtml;\n",
              "          element.appendChild(docLink);\n",
              "        }\n",
              "      </script>\n",
              "    </div>\n",
              "  </div>\n",
              "  "
            ]
          },
          "metadata": {},
          "execution_count": 7
        }
      ]
    },
    {
      "cell_type": "code",
      "source": [
        "df.label = lbe.fit_transform(df.label)"
      ],
      "metadata": {
        "id": "dB2HutWv_fjP"
      },
      "execution_count": null,
      "outputs": []
    },
    {
      "cell_type": "code",
      "source": [
        "df.head()"
      ],
      "metadata": {
        "colab": {
          "base_uri": "https://localhost:8080/",
          "height": 206
        },
        "id": "pwqDp9FJD3rA",
        "outputId": "0d163896-9006-4dc3-eece-8618bc732ae0"
      },
      "execution_count": null,
      "outputs": [
        {
          "output_type": "execute_result",
          "data": {
            "text/plain": [
              "   Unnamed: 0                                               path  label\n",
              "0        1992  /content/drive/MyDrive/NewDataset/brikshasana/...      0\n",
              "1         939  /content/drive/MyDrive/NewDataset/trikonasana/...      2\n",
              "2        1188  /content/drive/MyDrive/NewDataset/trikonasana/...      2\n",
              "3         253  /content/drive/MyDrive/NewDataset/cat_cow/ cat...      1\n",
              "4        1690  /content/drive/MyDrive/NewDataset/brikshasana/...      0"
            ],
            "text/html": [
              "\n",
              "  <div id=\"df-dc0d71f4-e389-47b2-8896-1da6541c1976\">\n",
              "    <div class=\"colab-df-container\">\n",
              "      <div>\n",
              "<style scoped>\n",
              "    .dataframe tbody tr th:only-of-type {\n",
              "        vertical-align: middle;\n",
              "    }\n",
              "\n",
              "    .dataframe tbody tr th {\n",
              "        vertical-align: top;\n",
              "    }\n",
              "\n",
              "    .dataframe thead th {\n",
              "        text-align: right;\n",
              "    }\n",
              "</style>\n",
              "<table border=\"1\" class=\"dataframe\">\n",
              "  <thead>\n",
              "    <tr style=\"text-align: right;\">\n",
              "      <th></th>\n",
              "      <th>Unnamed: 0</th>\n",
              "      <th>path</th>\n",
              "      <th>label</th>\n",
              "    </tr>\n",
              "  </thead>\n",
              "  <tbody>\n",
              "    <tr>\n",
              "      <th>0</th>\n",
              "      <td>1992</td>\n",
              "      <td>/content/drive/MyDrive/NewDataset/brikshasana/...</td>\n",
              "      <td>0</td>\n",
              "    </tr>\n",
              "    <tr>\n",
              "      <th>1</th>\n",
              "      <td>939</td>\n",
              "      <td>/content/drive/MyDrive/NewDataset/trikonasana/...</td>\n",
              "      <td>2</td>\n",
              "    </tr>\n",
              "    <tr>\n",
              "      <th>2</th>\n",
              "      <td>1188</td>\n",
              "      <td>/content/drive/MyDrive/NewDataset/trikonasana/...</td>\n",
              "      <td>2</td>\n",
              "    </tr>\n",
              "    <tr>\n",
              "      <th>3</th>\n",
              "      <td>253</td>\n",
              "      <td>/content/drive/MyDrive/NewDataset/cat_cow/ cat...</td>\n",
              "      <td>1</td>\n",
              "    </tr>\n",
              "    <tr>\n",
              "      <th>4</th>\n",
              "      <td>1690</td>\n",
              "      <td>/content/drive/MyDrive/NewDataset/brikshasana/...</td>\n",
              "      <td>0</td>\n",
              "    </tr>\n",
              "  </tbody>\n",
              "</table>\n",
              "</div>\n",
              "      <button class=\"colab-df-convert\" onclick=\"convertToInteractive('df-dc0d71f4-e389-47b2-8896-1da6541c1976')\"\n",
              "              title=\"Convert this dataframe to an interactive table.\"\n",
              "              style=\"display:none;\">\n",
              "        \n",
              "  <svg xmlns=\"http://www.w3.org/2000/svg\" height=\"24px\"viewBox=\"0 0 24 24\"\n",
              "       width=\"24px\">\n",
              "    <path d=\"M0 0h24v24H0V0z\" fill=\"none\"/>\n",
              "    <path d=\"M18.56 5.44l.94 2.06.94-2.06 2.06-.94-2.06-.94-.94-2.06-.94 2.06-2.06.94zm-11 1L8.5 8.5l.94-2.06 2.06-.94-2.06-.94L8.5 2.5l-.94 2.06-2.06.94zm10 10l.94 2.06.94-2.06 2.06-.94-2.06-.94-.94-2.06-.94 2.06-2.06.94z\"/><path d=\"M17.41 7.96l-1.37-1.37c-.4-.4-.92-.59-1.43-.59-.52 0-1.04.2-1.43.59L10.3 9.45l-7.72 7.72c-.78.78-.78 2.05 0 2.83L4 21.41c.39.39.9.59 1.41.59.51 0 1.02-.2 1.41-.59l7.78-7.78 2.81-2.81c.8-.78.8-2.07 0-2.86zM5.41 20L4 18.59l7.72-7.72 1.47 1.35L5.41 20z\"/>\n",
              "  </svg>\n",
              "      </button>\n",
              "      \n",
              "  <style>\n",
              "    .colab-df-container {\n",
              "      display:flex;\n",
              "      flex-wrap:wrap;\n",
              "      gap: 12px;\n",
              "    }\n",
              "\n",
              "    .colab-df-convert {\n",
              "      background-color: #E8F0FE;\n",
              "      border: none;\n",
              "      border-radius: 50%;\n",
              "      cursor: pointer;\n",
              "      display: none;\n",
              "      fill: #1967D2;\n",
              "      height: 32px;\n",
              "      padding: 0 0 0 0;\n",
              "      width: 32px;\n",
              "    }\n",
              "\n",
              "    .colab-df-convert:hover {\n",
              "      background-color: #E2EBFA;\n",
              "      box-shadow: 0px 1px 2px rgba(60, 64, 67, 0.3), 0px 1px 3px 1px rgba(60, 64, 67, 0.15);\n",
              "      fill: #174EA6;\n",
              "    }\n",
              "\n",
              "    [theme=dark] .colab-df-convert {\n",
              "      background-color: #3B4455;\n",
              "      fill: #D2E3FC;\n",
              "    }\n",
              "\n",
              "    [theme=dark] .colab-df-convert:hover {\n",
              "      background-color: #434B5C;\n",
              "      box-shadow: 0px 1px 3px 1px rgba(0, 0, 0, 0.15);\n",
              "      filter: drop-shadow(0px 1px 2px rgba(0, 0, 0, 0.3));\n",
              "      fill: #FFFFFF;\n",
              "    }\n",
              "  </style>\n",
              "\n",
              "      <script>\n",
              "        const buttonEl =\n",
              "          document.querySelector('#df-dc0d71f4-e389-47b2-8896-1da6541c1976 button.colab-df-convert');\n",
              "        buttonEl.style.display =\n",
              "          google.colab.kernel.accessAllowed ? 'block' : 'none';\n",
              "\n",
              "        async function convertToInteractive(key) {\n",
              "          const element = document.querySelector('#df-dc0d71f4-e389-47b2-8896-1da6541c1976');\n",
              "          const dataTable =\n",
              "            await google.colab.kernel.invokeFunction('convertToInteractive',\n",
              "                                                     [key], {});\n",
              "          if (!dataTable) return;\n",
              "\n",
              "          const docLinkHtml = 'Like what you see? Visit the ' +\n",
              "            '<a target=\"_blank\" href=https://colab.research.google.com/notebooks/data_table.ipynb>data table notebook</a>'\n",
              "            + ' to learn more about interactive tables.';\n",
              "          element.innerHTML = '';\n",
              "          dataTable['output_type'] = 'display_data';\n",
              "          await google.colab.output.renderOutput(dataTable, element);\n",
              "          const docLink = document.createElement('div');\n",
              "          docLink.innerHTML = docLinkHtml;\n",
              "          element.appendChild(docLink);\n",
              "        }\n",
              "      </script>\n",
              "    </div>\n",
              "  </div>\n",
              "  "
            ]
          },
          "metadata": {},
          "execution_count": 9
        }
      ]
    },
    {
      "cell_type": "code",
      "source": [
        "df = df.sample(frac=1)"
      ],
      "metadata": {
        "id": "OrzngjgWDvK7"
      },
      "execution_count": null,
      "outputs": []
    },
    {
      "cell_type": "code",
      "source": [
        "plt.imshow(cv2.imread('/content/drive/MyDrive/NewDataset/brikshasana/ brikshasana-2_01 frame108.jpg'))"
      ],
      "metadata": {
        "colab": {
          "base_uri": "https://localhost:8080/",
          "height": 287
        },
        "id": "A8jcOWboQwBx",
        "outputId": "0e44f94b-80cf-401e-be1b-2e02f9a473cc"
      },
      "execution_count": null,
      "outputs": [
        {
          "output_type": "execute_result",
          "data": {
            "text/plain": [
              "<matplotlib.image.AxesImage at 0x7fcc599562d0>"
            ]
          },
          "metadata": {},
          "execution_count": 11
        },
        {
          "output_type": "display_data",
          "data": {
            "text/plain": [
              "<Figure size 432x288 with 1 Axes>"
            ],
            "image/png": "[encoded data removed]"
          },
          "metadata": {
            "needs_background": "light"
          }
        }
      ]
    },
    {
      "cell_type": "code",
      "source": [
        "class CustomDataset(Dataset):\n",
        "  def __init__(self, df, transforms=False):  \n",
        "    self.imgpath = df.path \n",
        "    self.label = df.label\n",
        "    # self.transforms = torchvision.transforms.Compose([\n",
        "    #     torchvision.transforms.ToTensor(),\n",
        "    #     torchvision.transforms.ToPILImage(),\n",
        "    #     # torchvision.transforms.ToTensor(),\n",
        "    #     # torchvision.transforms.functional.crop(100,100, 324,324)\n",
        "    # ])\n",
        "    self.transforms = torchvision.transforms.Compose([\n",
        "        torchvision.transforms.ToTensor(),\n",
        "        torchvision.transforms.ToPILImage(),\n",
        "        torchvision.transforms.ToTensor(),\n",
        "        torchvision.transforms.Resize(224)\n",
        "        # torchvision.transforms.functional.crop(100,100, 324,324)\n",
        "    ])\n",
        "\n",
        "  def __len__(self):\n",
        "    return len(self.imgpath)\n",
        "  \n",
        "  def __getitem__(self, ix):\n",
        "    f = self.imgpath[ix]\n",
        "    target = (self.label[ix])\n",
        "    im = cv2.imread(f)\n",
        "    im = cv2.resize(im, (224,224))\n",
        "    im = cv2.cvtColor(im, cv2.COLOR_BGR2RGB)\n",
        "    im = cv2.cvtColor(im, cv2.COLOR_RGB2GRAY)\n",
        "    im = self.transforms(im)\n",
        "    return torch.tensor(im).to(device).float(), torch.tensor(target).long().to(device)\n",
        " \n"
      ],
      "metadata": {
        "id": "1iKQD7-oD4wt"
      },
      "execution_count": null,
      "outputs": []
    },
    {
      "cell_type": "code",
      "source": [
        "data = CustomDataset(df)"
      ],
      "metadata": {
        "id": "7yX-yxM_FSSy"
      },
      "execution_count": null,
      "outputs": []
    },
    {
      "cell_type": "code",
      "source": [
        "im, label = data[600]"
      ],
      "metadata": {
        "id": "kAfUAVamFf5k",
        "colab": {
          "base_uri": "https://localhost:8080/"
        },
        "outputId": "62cded04-5b57-460f-f7d2-8984a44f4c28"
      },
      "execution_count": null,
      "outputs": [
        {
          "output_type": "stream",
          "name": "stderr",
          "text": [
            "/usr/local/lib/python3.7/dist-packages/ipykernel_launcher.py:30: UserWarning: To copy construct from a tensor, it is recommended to use sourceTensor.clone().detach() or sourceTensor.clone().detach().requires_grad_(True), rather than torch.tensor(sourceTensor).\n"
          ]
        }
      ]
    },
    {
      "cell_type": "code",
      "source": [
        "print(im.shape)"
      ],
      "metadata": {
        "colab": {
          "base_uri": "https://localhost:8080/"
        },
        "id": "YRyz1cjAFEVt",
        "outputId": "35a033d6-d8c6-49c9-c212-29e840a2814d"
      },
      "execution_count": null,
      "outputs": [
        {
          "output_type": "stream",
          "name": "stdout",
          "text": [
            "torch.Size([1, 224, 224])\n"
          ]
        }
      ]
    },
    {
      "cell_type": "code",
      "source": [
        "plt.imshow(im.reshape(224,224).detach().cpu())\n",
        "print(label)\n",
        "print(im.shape)"
      ],
      "metadata": {
        "colab": {
          "base_uri": "https://localhost:8080/",
          "height": 305
        },
        "id": "EnAoBUSsFhjp",
        "outputId": "64a3dad5-70d4-4fa2-b9f0-ab9b58a276e9"
      },
      "execution_count": null,
      "outputs": [
        {
          "output_type": "stream",
          "name": "stdout",
          "text": [
            "tensor(0, device='cuda:0')\n",
            "torch.Size([1, 224, 224])\n"
          ]
        },
        {
          "output_type": "display_data",
          "data": {
            "text/plain": [
              "<Figure size 432x288 with 1 Axes>"
            ],
            "image/png": "[encoded data removed]"
          },
          "metadata": {
            "needs_background": "light"
          }
        }
      ]
    },
    {
      "cell_type": "code",
      "source": [
        "import torch.nn as nn\n",
        "\n",
        "def conv_layer(ni, no, kernel_size, stride=1):\n",
        "  return nn.Sequential(\n",
        "      nn.Conv2d(ni, no, kernel_size, stride),\n",
        "      nn.ReLU(),\n",
        "      nn.BatchNorm2d(no),\n",
        "      nn.MaxPool2d(2)\n",
        "  )"
      ],
      "metadata": {
        "id": "apE7uCwkHz1k"
      },
      "execution_count": null,
      "outputs": []
    },
    {
      "cell_type": "code",
      "source": [
        "def get_model():\n",
        "  model = nn.Sequential(\n",
        "      conv_layer(1,16,3),\n",
        "      conv_layer(16,64, 3),\n",
        "      conv_layer(64, 256, 2),\n",
        "      conv_layer(256, 512,2),\n",
        "      conv_layer(512,512,2),\n",
        "      nn.Flatten(),\n",
        "      nn.Linear(512*25,1000),\n",
        "      nn.ReLU(),\n",
        "      nn.Linear(1000, 192),\n",
        "      nn.ReLU(),\n",
        "      nn.Linear(192, 3),\n",
        "      nn.Softmax()\n",
        "  ).to(device)\n",
        "  loss_fn = nn.CrossEntropyLoss()\n",
        "  optimizer = torch.optim.Adam(model.parameters(), lr=1e-3)\n",
        "  return model, loss_fn, optimizer"
      ],
      "metadata": {
        "id": "lJvgZj_xH5vW"
      },
      "execution_count": null,
      "outputs": []
    },
    {
      "cell_type": "code",
      "source": [
        "def calculateHWOUT(H_in, W_IN, padding, kernel_size, stride, max_pool_num):\n",
        "    H_out = (((H_in + 2*padding - kernel_size) / stride ) +1) / max_pool_num\n",
        "    W_out = (((W_IN + 2*padding - kernel_size) / stride ) +1) / max_pool_num\n",
        "    return (int(H_out), int(W_out))"
      ],
      "metadata": {
        "id": "VHsSy1Tm-VsS"
      },
      "execution_count": null,
      "outputs": []
    },
    {
      "cell_type": "code",
      "source": [
        "calculateHWOUT(H_in=12, W_IN=12, padding=0, kernel_size=2, stride=1, max_pool_num=2)"
      ],
      "metadata": {
        "colab": {
          "base_uri": "https://localhost:8080/"
        },
        "id": "hQgwJhjsXCk0",
        "outputId": "8346b1b9-bd4e-494f-cd8a-1453977f22c6"
      },
      "execution_count": null,
      "outputs": [
        {
          "output_type": "execute_result",
          "data": {
            "text/plain": [
              "(5, 5)"
            ]
          },
          "metadata": {},
          "execution_count": 20
        }
      ]
    },
    {
      "cell_type": "code",
      "source": [
        "\n",
        "model, loss_fn, optimizer = get_model()\n",
        "from torchsummary import summary\n",
        "summary(model, (1, 224,224))"
      ],
      "metadata": {
        "id": "IfJ-djrrIA0f",
        "colab": {
          "base_uri": "https://localhost:8080/"
        },
        "outputId": "e39a866d-3311-4de1-f291-bfe7eac2c5f2"
      },
      "execution_count": null,
      "outputs": [
        {
          "output_type": "stream",
          "name": "stdout",
          "text": [
            "----------------------------------------------------------------\n",
            "        Layer (type)               Output Shape         Param #\n",
            "================================================================\n",
            "            Conv2d-1         [-1, 16, 222, 222]             160\n",
            "              ReLU-2         [-1, 16, 222, 222]               0\n",
            "       BatchNorm2d-3         [-1, 16, 222, 222]              32\n",
            "         MaxPool2d-4         [-1, 16, 111, 111]               0\n",
            "            Conv2d-5         [-1, 64, 109, 109]           9,280\n",
            "              ReLU-6         [-1, 64, 109, 109]               0\n",
            "       BatchNorm2d-7         [-1, 64, 109, 109]             128\n",
            "         MaxPool2d-8           [-1, 64, 54, 54]               0\n",
            "            Conv2d-9          [-1, 256, 53, 53]          65,792\n",
            "             ReLU-10          [-1, 256, 53, 53]               0\n",
            "      BatchNorm2d-11          [-1, 256, 53, 53]             512\n",
            "        MaxPool2d-12          [-1, 256, 26, 26]               0\n",
            "           Conv2d-13          [-1, 512, 25, 25]         524,800\n",
            "             ReLU-14          [-1, 512, 25, 25]               0\n",
            "      BatchNorm2d-15          [-1, 512, 25, 25]           1,024\n",
            "        MaxPool2d-16          [-1, 512, 12, 12]               0\n",
            "           Conv2d-17          [-1, 512, 11, 11]       1,049,088\n",
            "             ReLU-18          [-1, 512, 11, 11]               0\n",
            "      BatchNorm2d-19          [-1, 512, 11, 11]           1,024\n",
            "        MaxPool2d-20            [-1, 512, 5, 5]               0\n",
            "          Flatten-21                [-1, 12800]               0\n",
            "           Linear-22                 [-1, 1000]      12,801,000\n",
            "             ReLU-23                 [-1, 1000]               0\n",
            "           Linear-24                  [-1, 192]         192,192\n",
            "             ReLU-25                  [-1, 192]               0\n",
            "           Linear-26                    [-1, 3]             579\n",
            "          Softmax-27                    [-1, 3]               0\n",
            "================================================================\n",
            "Total params: 14,645,611\n",
            "Trainable params: 14,645,611\n",
            "Non-trainable params: 0\n",
            "----------------------------------------------------------------\n",
            "Input size (MB): 0.19\n",
            "Forward/backward pass size (MB): 65.68\n",
            "Params size (MB): 55.87\n",
            "Estimated Total Size (MB): 121.74\n",
            "----------------------------------------------------------------\n"
          ]
        },
        {
          "output_type": "stream",
          "name": "stderr",
          "text": [
            "/usr/local/lib/python3.7/dist-packages/torch/nn/modules/container.py:139: UserWarning: Implicit dimension choice for softmax has been deprecated. Change the call to include dim=X as an argument.\n",
            "  input = module(input)\n"
          ]
        }
      ]
    },
    {
      "cell_type": "code",
      "source": [
        "def get_data():\n",
        "  train = CustomDataset(df)\n",
        "  trn_dl = DataLoader(train, batch_size=32,shuffle=True, drop_last=True)\n",
        "  return trn_dl"
      ],
      "metadata": {
        "id": "VBpZUn6bIDtX"
      },
      "execution_count": null,
      "outputs": []
    },
    {
      "cell_type": "code",
      "source": [
        "def train_batch(x, y, model, loss_fn, opt):\n",
        "  model.train()\n",
        "  prediction = model(x)\n",
        "  batch_loss = loss_fn(prediction, y)\n",
        "  batch_loss.backward()\n",
        "  optimizer.step()\n",
        "  optimizer.zero_grad()\n",
        "  return batch_loss.item()"
      ],
      "metadata": {
        "id": "tAGdC9lkJBTA"
      },
      "execution_count": null,
      "outputs": []
    },
    {
      "cell_type": "code",
      "source": [
        "@torch.no_grad()\n",
        "def accuracy(x, y, model):\n",
        "  model.eval()\n",
        "  pred = model(x)\n",
        "  _, is_correct = torch.max(pred.data,1)\n",
        "  acc_all = (is_correct==y).detach().cpu().numpy()\n",
        "  return acc_all"
      ],
      "metadata": {
        "id": "XeJXaEkGJKTA"
      },
      "execution_count": null,
      "outputs": []
    },
    {
      "cell_type": "code",
      "source": [
        "trn_ldr = get_data()\n",
        "model, loss_fn, optimizer = get_model()"
      ],
      "metadata": {
        "id": "oYDfjAp0JOoy"
      },
      "execution_count": null,
      "outputs": []
    },
    {
      "cell_type": "code",
      "source": [
        "model, loss_fn, optimizer"
      ],
      "metadata": {
        "colab": {
          "base_uri": "https://localhost:8080/"
        },
        "id": "9qSBfN0BTmsA",
        "outputId": "f2fd27fd-61d2-459f-87b5-950b945c5685"
      },
      "execution_count": null,
      "outputs": [
        {
          "output_type": "execute_result",
          "data": {
            "text/plain": [
              "(Sequential(\n",
              "   (0): Sequential(\n",
              "     (0): Conv2d(1, 16, kernel_size=(3, 3), stride=(1, 1))\n",
              "     (1): ReLU()\n",
              "     (2): BatchNorm2d(16, eps=1e-05, momentum=0.1, affine=True, track_running_stats=True)\n",
              "     (3): MaxPool2d(kernel_size=2, stride=2, padding=0, dilation=1, ceil_mode=False)\n",
              "   )\n",
              "   (1): Sequential(\n",
              "     (0): Conv2d(16, 64, kernel_size=(3, 3), stride=(1, 1))\n",
              "     (1): ReLU()\n",
              "     (2): BatchNorm2d(64, eps=1e-05, momentum=0.1, affine=True, track_running_stats=True)\n",
              "     (3): MaxPool2d(kernel_size=2, stride=2, padding=0, dilation=1, ceil_mode=False)\n",
              "   )\n",
              "   (2): Sequential(\n",
              "     (0): Conv2d(64, 256, kernel_size=(2, 2), stride=(1, 1))\n",
              "     (1): ReLU()\n",
              "     (2): BatchNorm2d(256, eps=1e-05, momentum=0.1, affine=True, track_running_stats=True)\n",
              "     (3): MaxPool2d(kernel_size=2, stride=2, padding=0, dilation=1, ceil_mode=False)\n",
              "   )\n",
              "   (3): Sequential(\n",
              "     (0): Conv2d(256, 512, kernel_size=(2, 2), stride=(1, 1))\n",
              "     (1): ReLU()\n",
              "     (2): BatchNorm2d(512, eps=1e-05, momentum=0.1, affine=True, track_running_stats=True)\n",
              "     (3): MaxPool2d(kernel_size=2, stride=2, padding=0, dilation=1, ceil_mode=False)\n",
              "   )\n",
              "   (4): Sequential(\n",
              "     (0): Conv2d(512, 512, kernel_size=(2, 2), stride=(1, 1))\n",
              "     (1): ReLU()\n",
              "     (2): BatchNorm2d(512, eps=1e-05, momentum=0.1, affine=True, track_running_stats=True)\n",
              "     (3): MaxPool2d(kernel_size=2, stride=2, padding=0, dilation=1, ceil_mode=False)\n",
              "   )\n",
              "   (5): Flatten(start_dim=1, end_dim=-1)\n",
              "   (6): Linear(in_features=12800, out_features=1000, bias=True)\n",
              "   (7): ReLU()\n",
              "   (8): Linear(in_features=1000, out_features=192, bias=True)\n",
              "   (9): ReLU()\n",
              "   (10): Linear(in_features=192, out_features=3, bias=True)\n",
              "   (11): Softmax(dim=None)\n",
              " ), CrossEntropyLoss(), Adam (\n",
              " Parameter Group 0\n",
              "     amsgrad: False\n",
              "     betas: (0.9, 0.999)\n",
              "     capturable: False\n",
              "     eps: 1e-08\n",
              "     foreach: None\n",
              "     lr: 0.001\n",
              "     maximize: False\n",
              "     weight_decay: 0\n",
              " ))"
            ]
          },
          "metadata": {},
          "execution_count": 26
        }
      ]
    },
    {
      "cell_type": "code",
      "source": [
        "# train_losses, train_accuracies = [], []\n",
        "# val_losses, val_accuracies = [], []\n",
        "# for epoch in range(5):\n",
        "    \n",
        "#     print(epoch)\n",
        "#     train_epoch_losses, train_epoch_accuracies = [], []\n",
        "#     val_epoch_accuracies = []\n",
        "#     for ix, batch in enumerate(iter(trn_dl)):\n",
        "#         #print(ix)\n",
        "#         x, y = batch\n",
        "#         x = x.reshape(32,1, 224,224)\n",
        "  \n",
        "#         batch_loss = train_batch(x, y, model, optimizer, loss_fn)\n",
        "#         train_epoch_losses.append(batch_loss)        \n",
        "#     train_epoch_loss = np.array(train_epoch_losses).mean()\n",
        "\n",
        "#     for ix, batch in enumerate(iter(trn_dl)):\n",
        "#         x, y = batch\n",
        "#         x = x.reshape(32, 1, 224, 224)\n",
        "#         is_correct = accuracy(x, y, model)\n",
        "#         train_epoch_accuracies.extend(is_correct)\n",
        "#     train_epoch_accuracy = np.mean(train_epoch_accuracies)\n",
        "\n",
        "\n",
        "\n",
        "#     train_losses.append(train_epoch_loss)\n",
        "#     train_accuracies.append(train_epoch_accuracy)\n",
        "#     #val_losses.append(validation_loss)\n"
      ],
      "metadata": {
        "id": "VAkFEPytJcBd"
      },
      "execution_count": null,
      "outputs": []
    },
    {
      "cell_type": "code",
      "source": [
        "train_loss = []\n",
        "train_accuracies= []\n",
        "val_loss = [] \n",
        "val_accuracies = []\n",
        "\n",
        "for i in range(10):\n",
        "  print(f'Epoch: _________*****{i}*****_______')\n",
        "  train_epoch_losses, train_epoch_accuracies = [], []\n",
        "  val_epoch_accuracies, val_epoch_losses = [], []\n",
        "\n",
        "\n",
        "\n",
        "  for ix, batch in (enumerate(iter(trn_ldr))):\n",
        "      x, y = batch\n",
        "      train_epoch_losses.append(train_batch(x, y, model, loss_fn, optimizer))\n",
        "  train_epoch_loss = np.array(train_epoch_losses).mean()\n",
        "  print(f'Epoch: _________*****{i} Training Loss : {train_epoch_loss} *****_______')\n",
        "\n",
        "\n",
        "\n",
        "  for ix, batch in (enumerate(iter(trn_ldr))):\n",
        "    x, y = batch\n",
        "    train_epoch_accuracies.append(sum(accuracy(x, y, model)) / len(y))\n",
        "  train_epoch_accuracy = np.array(train_epoch_accuracies).mean()\n",
        "  print(f'Epoch: _________*****{i} Training Accuracy: {train_epoch_accuracy} *****_______')\n",
        "\n",
        "\n",
        "  # for ix, batch in (enumerate(iter(test_ldr))):\n",
        "  #   x, y = batch\n",
        "  #   val_epoch_losses.append(val_loss_trn(x, y, model, loss_fn))\n",
        "  # val_epoch_loss = np.array(val_epoch_losses).mean()\n",
        "  # print(f'Epoch: _________*****{i} Validation Loss : {val_epoch_loss} *****_______')\n",
        "\n",
        "  # for ix, batch in (enumerate(iter(test_ldr))):\n",
        "  #   x, y = batch\n",
        "  #   val_epoch_accuracies.append(sum(accuracy(x, y, model)) / len(y))\n",
        "  # print(f'Epoch: _________*****{i} Validation Accuracy. {val_epoch_accuracy} *****_______')\n",
        "  # val_epoch_accuracy = np.array(val_epoch_accuracies).mean()\n",
        "  # print('\\n')\n",
        "\n",
        "  train_loss.append(train_epoch_loss)\n",
        "  train_accuracies.append(train_epoch_accuracy)\n",
        "  # val_accuracies.append(val_epoch_accuracy)\n",
        "  # val_loss.append(val_epoch_loss)"
      ],
      "metadata": {
        "colab": {
          "base_uri": "https://localhost:8080/"
        },
        "id": "EdbeGAH0S9NX",
        "outputId": "00da9e83-e138-4d93-de88-9fa667148b8d"
      },
      "execution_count": null,
      "outputs": [
        {
          "output_type": "stream",
          "name": "stdout",
          "text": [
            "Epoch: _________*****0*****_______\n"
          ]
        },
        {
          "output_type": "stream",
          "name": "stderr",
          "text": [
            "/usr/local/lib/python3.7/dist-packages/ipykernel_launcher.py:30: UserWarning: To copy construct from a tensor, it is recommended to use sourceTensor.clone().detach() or sourceTensor.clone().detach().requires_grad_(True), rather than torch.tensor(sourceTensor).\n"
          ]
        },
        {
          "output_type": "stream",
          "name": "stdout",
          "text": [
            "Epoch: _________*****0 Training Loss : 0.7391021403055342 *****_______\n",
            "Epoch: _________*****0 Training Accuracy: 0.7405753968253969 *****_______\n",
            "Epoch: _________*****1*****_______\n",
            "Epoch: _________*****1 Training Loss : 0.6313400136099921 *****_______\n",
            "Epoch: _________*****1 Training Accuracy: 0.9221230158730159 *****_______\n",
            "Epoch: _________*****2*****_______\n",
            "Epoch: _________*****2 Training Loss : 0.6293221409358676 *****_______\n",
            "Epoch: _________*****2 Training Accuracy: 0.9226190476190477 *****_______\n",
            "Epoch: _________*****3*****_______\n",
            "Epoch: _________*****3 Training Loss : 0.9566683409705995 *****_______\n",
            "Epoch: _________*****3 Training Accuracy: 0.3948412698412698 *****_______\n",
            "Epoch: _________*****4*****_______\n",
            "Epoch: _________*****4 Training Loss : 1.0896393429665339 *****_______\n",
            "Epoch: _________*****4 Training Accuracy: 0.4712301587301587 *****_______\n",
            "Epoch: _________*****5*****_______\n",
            "Epoch: _________*****5 Training Loss : 1.0871331001084947 *****_______\n",
            "Epoch: _________*****5 Training Accuracy: 0.46875 *****_______\n",
            "Epoch: _________*****6*****_______\n",
            "Epoch: _________*****6 Training Loss : 1.0827380163328988 *****_______\n",
            "Epoch: _________*****6 Training Accuracy: 0.4697420634920635 *****_______\n",
            "Epoch: _________*****7*****_______\n",
            "Epoch: _________*****7 Training Loss : 1.083686962014153 *****_______\n",
            "Epoch: _________*****7 Training Accuracy: 0.46924603174603174 *****_______\n",
            "Epoch: _________*****8*****_______\n",
            "Epoch: _________*****8 Training Loss : 1.0861727377725026 *****_______\n",
            "Epoch: _________*****8 Training Accuracy: 0.470734126984127 *****_______\n",
            "Epoch: _________*****9*****_______\n",
            "Epoch: _________*****9 Training Loss : 1.084182652216109 *****_______\n",
            "Epoch: _________*****9 Training Accuracy: 0.4697420634920635 *****_______\n"
          ]
        }
      ]
    },
    {
      "cell_type": "code",
      "source": [
        "epochs = np.arange(10) + 1\n",
        "import matplotlib.ticker as mtick\n",
        "import matplotlib.pyplot as plt\n",
        "%matplotlib inline\n",
        "\n",
        "plt.plot(epochs, train_accuracies , label='Training accuracy')\n",
        "plt.plot(epochs, train_loss, label='Train Loss')\n",
        "plt.gca().xaxis.set_major_locator(mtick.MultipleLocator(1))\n",
        "\n",
        "plt.xlabel('epochs')\n",
        "\n",
        "plt.legend()\n",
        "plt.gca().set_yticklabels(['{:.0f}%'.format(x*100) for x in plt.gca().get_yticks()])\n",
        "plt.grid('off')\n",
        "plt.show()"
      ],
      "metadata": {
        "id": "BuEta64CJmop",
        "colab": {
          "base_uri": "https://localhost:8080/",
          "height": 279
        },
        "outputId": "87d3aa53-c8f8-4078-be2e-9fc6ea5dfcc9"
      },
      "execution_count": null,
      "outputs": [
        {
          "output_type": "display_data",
          "data": {
            "text/plain": [
              "<Figure size 432x288 with 1 Axes>"
            ],
            "image/png": "[encoded data removed]"
          },
          "metadata": {
            "needs_background": "light"
          }
        }
      ]
    },
    {
      "cell_type": "code",
      "source": [],
      "metadata": {
        "id": "uHT-I0p0N2pC"
      },
      "execution_count": null,
      "outputs": []
    },
    {
      "cell_type": "code",
      "source": [],
      "metadata": {
        "id": "v0DfG57dO1Fr"
      },
      "execution_count": null,
      "outputs": []
    }
  ]
}