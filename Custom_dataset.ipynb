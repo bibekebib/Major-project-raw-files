{
  "nbformat": 4,
  "nbformat_minor": 0,
  "metadata": {
    "colab": {
      "provenance": [],
      "collapsed_sections": [],
      "mount_file_id": "1kg938jfXtIF1bmykY1rFRIV5ImxIic6v",
      "authorship_tag": "ABX9TyNDdWUdf3d+hRVM54an9Z1y",
      "include_colab_link": true
    },
    "kernelspec": {
      "name": "python3",
      "display_name": "Python 3"
    },
    "language_info": {
      "name": "python"
    },
    "gpuClass": "standard",
    "accelerator": "GPU"
  },
  "cells": [
    {
      "cell_type": "markdown",
      "metadata": {
        "id": "view-in-github",
        "colab_type": "text"
      },
      "source": [
        "<a href=\"https://colab.research.google.com/github/bibekebib/Major-project-raw-files/blob/main/Custom_dataset.ipynb\" target=\"_parent\"><img src=\"https://colab.research.google.com/assets/colab-badge.svg\" alt=\"Open In Colab\"/></a>"
      ]
    },
    {
      "cell_type": "code",
      "source": [
        "from google.colab import drive\n",
        "drive.mount('/content/drive')\n"
      ],
      "metadata": {
        "id": "UWMcpTB5vnUi",
        "colab": {
          "base_uri": "https://localhost:8080/"
        },
        "outputId": "1ce20898-134b-4744-d2a5-efbf98689e25"
      },
      "execution_count": 1,
      "outputs": [
        {
          "output_type": "stream",
          "name": "stdout",
          "text": [
            "Mounted at /content/drive\n"
          ]
        }
      ]
    },
    {
      "cell_type": "code",
      "source": [
        "dataset_path = '/content/drive/MyDrive/dataset'"
      ],
      "metadata": {
        "id": "uILOoRcKv330"
      },
      "execution_count": 2,
      "outputs": []
    },
    {
      "cell_type": "code",
      "source": [
        "from glob import glob\n",
        "import pandas as pd\n",
        "import cv2 as cv2\n",
        "import matplotlib.pyplot as plt\n",
        "import numpy as np\n",
        "import torch\n",
        "import torchvision\n",
        "from torch.utils.data import DataLoader, Dataset"
      ],
      "metadata": {
        "id": "lCZty5b9v-v5"
      },
      "execution_count": 3,
      "outputs": []
    },
    {
      "cell_type": "code",
      "source": [
        "device = 'cuda' if torch.cuda.is_available() else 'cpu'"
      ],
      "metadata": {
        "id": "BS7lLtj_FEmd"
      },
      "execution_count": 4,
      "outputs": []
    },
    {
      "cell_type": "code",
      "source": [
        "df = pd.read_csv('/content/drive/MyDrive/dataset/image_path.csv')"
      ],
      "metadata": {
        "id": "p2oDrRX2Od3i"
      },
      "execution_count": 5,
      "outputs": []
    },
    {
      "cell_type": "code",
      "source": [
        "df.head()"
      ],
      "metadata": {
        "colab": {
          "base_uri": "https://localhost:8080/",
          "height": 206
        },
        "id": "pwqDp9FJD3rA",
        "outputId": "2228d063-4fa9-43df-d15d-c3e4be802fd8"
      },
      "execution_count": 6,
      "outputs": [
        {
          "output_type": "execute_result",
          "data": {
            "text/plain": [
              "   Unnamed: 0                                               path  label\n",
              "0           0  /content/drive/MyDrive/TestFolder/vriksh-deepa...      1\n",
              "1           1  /content/drive/MyDrive/TestFolder/vriksh-deepa...      1\n",
              "2           2  /content/drive/MyDrive/TestFolder/vriksh-deepa...      1\n",
              "3           3  /content/drive/MyDrive/TestFolder/vriksh-deepa...      1\n",
              "4           4  /content/drive/MyDrive/TestFolder/vriksh-deepa...      1"
            ],
            "text/html": [
              "\n",
              "  <div id=\"df-fcd685f7-7f1f-4d9a-8551-7544fc62e040\">\n",
              "    <div class=\"colab-df-container\">\n",
              "      <div>\n",
              "<style scoped>\n",
              "    .dataframe tbody tr th:only-of-type {\n",
              "        vertical-align: middle;\n",
              "    }\n",
              "\n",
              "    .dataframe tbody tr th {\n",
              "        vertical-align: top;\n",
              "    }\n",
              "\n",
              "    .dataframe thead th {\n",
              "        text-align: right;\n",
              "    }\n",
              "</style>\n",
              "<table border=\"1\" class=\"dataframe\">\n",
              "  <thead>\n",
              "    <tr style=\"text-align: right;\">\n",
              "      <th></th>\n",
              "      <th>Unnamed: 0</th>\n",
              "      <th>path</th>\n",
              "      <th>label</th>\n",
              "    </tr>\n",
              "  </thead>\n",
              "  <tbody>\n",
              "    <tr>\n",
              "      <th>0</th>\n",
              "      <td>0</td>\n",
              "      <td>/content/drive/MyDrive/TestFolder/vriksh-deepa...</td>\n",
              "      <td>1</td>\n",
              "    </tr>\n",
              "    <tr>\n",
              "      <th>1</th>\n",
              "      <td>1</td>\n",
              "      <td>/content/drive/MyDrive/TestFolder/vriksh-deepa...</td>\n",
              "      <td>1</td>\n",
              "    </tr>\n",
              "    <tr>\n",
              "      <th>2</th>\n",
              "      <td>2</td>\n",
              "      <td>/content/drive/MyDrive/TestFolder/vriksh-deepa...</td>\n",
              "      <td>1</td>\n",
              "    </tr>\n",
              "    <tr>\n",
              "      <th>3</th>\n",
              "      <td>3</td>\n",
              "      <td>/content/drive/MyDrive/TestFolder/vriksh-deepa...</td>\n",
              "      <td>1</td>\n",
              "    </tr>\n",
              "    <tr>\n",
              "      <th>4</th>\n",
              "      <td>4</td>\n",
              "      <td>/content/drive/MyDrive/TestFolder/vriksh-deepa...</td>\n",
              "      <td>1</td>\n",
              "    </tr>\n",
              "  </tbody>\n",
              "</table>\n",
              "</div>\n",
              "      <button class=\"colab-df-convert\" onclick=\"convertToInteractive('df-fcd685f7-7f1f-4d9a-8551-7544fc62e040')\"\n",
              "              title=\"Convert this dataframe to an interactive table.\"\n",
              "              style=\"display:none;\">\n",
              "        \n",
              "  <svg xmlns=\"http://www.w3.org/2000/svg\" height=\"24px\"viewBox=\"0 0 24 24\"\n",
              "       width=\"24px\">\n",
              "    <path d=\"M0 0h24v24H0V0z\" fill=\"none\"/>\n",
              "    <path d=\"M18.56 5.44l.94 2.06.94-2.06 2.06-.94-2.06-.94-.94-2.06-.94 2.06-2.06.94zm-11 1L8.5 8.5l.94-2.06 2.06-.94-2.06-.94L8.5 2.5l-.94 2.06-2.06.94zm10 10l.94 2.06.94-2.06 2.06-.94-2.06-.94-.94-2.06-.94 2.06-2.06.94z\"/><path d=\"M17.41 7.96l-1.37-1.37c-.4-.4-.92-.59-1.43-.59-.52 0-1.04.2-1.43.59L10.3 9.45l-7.72 7.72c-.78.78-.78 2.05 0 2.83L4 21.41c.39.39.9.59 1.41.59.51 0 1.02-.2 1.41-.59l7.78-7.78 2.81-2.81c.8-.78.8-2.07 0-2.86zM5.41 20L4 18.59l7.72-7.72 1.47 1.35L5.41 20z\"/>\n",
              "  </svg>\n",
              "      </button>\n",
              "      \n",
              "  <style>\n",
              "    .colab-df-container {\n",
              "      display:flex;\n",
              "      flex-wrap:wrap;\n",
              "      gap: 12px;\n",
              "    }\n",
              "\n",
              "    .colab-df-convert {\n",
              "      background-color: #E8F0FE;\n",
              "      border: none;\n",
              "      border-radius: 50%;\n",
              "      cursor: pointer;\n",
              "      display: none;\n",
              "      fill: #1967D2;\n",
              "      height: 32px;\n",
              "      padding: 0 0 0 0;\n",
              "      width: 32px;\n",
              "    }\n",
              "\n",
              "    .colab-df-convert:hover {\n",
              "      background-color: #E2EBFA;\n",
              "      box-shadow: 0px 1px 2px rgba(60, 64, 67, 0.3), 0px 1px 3px 1px rgba(60, 64, 67, 0.15);\n",
              "      fill: #174EA6;\n",
              "    }\n",
              "\n",
              "    [theme=dark] .colab-df-convert {\n",
              "      background-color: #3B4455;\n",
              "      fill: #D2E3FC;\n",
              "    }\n",
              "\n",
              "    [theme=dark] .colab-df-convert:hover {\n",
              "      background-color: #434B5C;\n",
              "      box-shadow: 0px 1px 3px 1px rgba(0, 0, 0, 0.15);\n",
              "      filter: drop-shadow(0px 1px 2px rgba(0, 0, 0, 0.3));\n",
              "      fill: #FFFFFF;\n",
              "    }\n",
              "  </style>\n",
              "\n",
              "      <script>\n",
              "        const buttonEl =\n",
              "          document.querySelector('#df-fcd685f7-7f1f-4d9a-8551-7544fc62e040 button.colab-df-convert');\n",
              "        buttonEl.style.display =\n",
              "          google.colab.kernel.accessAllowed ? 'block' : 'none';\n",
              "\n",
              "        async function convertToInteractive(key) {\n",
              "          const element = document.querySelector('#df-fcd685f7-7f1f-4d9a-8551-7544fc62e040');\n",
              "          const dataTable =\n",
              "            await google.colab.kernel.invokeFunction('convertToInteractive',\n",
              "                                                     [key], {});\n",
              "          if (!dataTable) return;\n",
              "\n",
              "          const docLinkHtml = 'Like what you see? Visit the ' +\n",
              "            '<a target=\"_blank\" href=https://colab.research.google.com/notebooks/data_table.ipynb>data table notebook</a>'\n",
              "            + ' to learn more about interactive tables.';\n",
              "          element.innerHTML = '';\n",
              "          dataTable['output_type'] = 'display_data';\n",
              "          await google.colab.output.renderOutput(dataTable, element);\n",
              "          const docLink = document.createElement('div');\n",
              "          docLink.innerHTML = docLinkHtml;\n",
              "          element.appendChild(docLink);\n",
              "        }\n",
              "      </script>\n",
              "    </div>\n",
              "  </div>\n",
              "  "
            ]
          },
          "metadata": {},
          "execution_count": 6
        }
      ]
    },
    {
      "cell_type": "code",
      "source": [],
      "metadata": {
        "id": "OrzngjgWDvK7"
      },
      "execution_count": 70,
      "outputs": []
    },
    {
      "cell_type": "code",
      "source": [
        "\n",
        "class CustomDataset(Dataset):\n",
        "  def __init__(self, df, transforms=False):  \n",
        "    self.imgpath = df.path \n",
        "    self.label = df.label\n",
        "\n",
        "  def __len__(self):\n",
        "    return len(self.imgpath)\n",
        "  \n",
        "  def __getitem__(self, ix):\n",
        "    f = self.imgpath[ix]\n",
        "    target = (self.label[ix])\n",
        "    im = cv2.imread(f)[:,:,::-1]\n",
        "    im - cv2.resize(im, (224,224))\n",
        "    im = cv2.cvtColor(im, cv2.COLOR_BGR2GRAY)\n",
        "    return torch.tensor(im/255).to(device).float(), torch.tensor(target).long().to(device)\n",
        " \n"
      ],
      "metadata": {
        "id": "1iKQD7-oD4wt"
      },
      "execution_count": 75,
      "outputs": []
    },
    {
      "cell_type": "code",
      "source": [
        "data = CustomDataset(df)"
      ],
      "metadata": {
        "id": "7yX-yxM_FSSy"
      },
      "execution_count": 76,
      "outputs": []
    },
    {
      "cell_type": "code",
      "source": [
        "im, label = data[100]"
      ],
      "metadata": {
        "id": "kAfUAVamFf5k"
      },
      "execution_count": 77,
      "outputs": []
    },
    {
      "cell_type": "code",
      "source": [
        "plt.imshow(im.cpu())\n",
        "print(label)\n",
        "print(im.shape)"
      ],
      "metadata": {
        "colab": {
          "base_uri": "https://localhost:8080/",
          "height": 302
        },
        "id": "EnAoBUSsFhjp",
        "outputId": "9a144fd2-56e2-40f4-e5dd-af0dce8a9891"
      },
      "execution_count": 82,
      "outputs": [
        {
          "output_type": "display_data",
          "data": {
            "text/plain": [
              "\u001b[1;35mtensor\u001b[0m\u001b[1m(\u001b[0m\u001b[1;36m1\u001b[0m, \u001b[33mdevice\u001b[0m=\u001b[32m'cuda:0'\u001b[0m\u001b[1m)\u001b[0m\n"
            ],
            "text/html": [
              "<pre style=\"white-space:pre;overflow-x:auto;line-height:normal;font-family:Menlo,'DejaVu Sans Mono',consolas,'Courier New',monospace\"><span style=\"color: #800080; text-decoration-color: #800080; font-weight: bold\">tensor</span><span style=\"font-weight: bold\">(</span><span style=\"color: #008080; text-decoration-color: #008080; font-weight: bold\">1</span>, <span style=\"color: #808000; text-decoration-color: #808000\">device</span>=<span style=\"color: #008000; text-decoration-color: #008000\">'cuda:0'</span><span style=\"font-weight: bold\">)</span>\n",
              "</pre>\n"
            ]
          },
          "metadata": {}
        },
        {
          "output_type": "display_data",
          "data": {
            "text/plain": [
              "\u001b[1;35mtorch.Size\u001b[0m\u001b[1m(\u001b[0m\u001b[1m[\u001b[0m\u001b[1;36m224\u001b[0m, \u001b[1;36m224\u001b[0m\u001b[1m]\u001b[0m\u001b[1m)\u001b[0m\n"
            ],
            "text/html": [
              "<pre style=\"white-space:pre;overflow-x:auto;line-height:normal;font-family:Menlo,'DejaVu Sans Mono',consolas,'Courier New',monospace\"><span style=\"color: #800080; text-decoration-color: #800080; font-weight: bold\">torch.Size</span><span style=\"font-weight: bold\">([</span><span style=\"color: #008080; text-decoration-color: #008080; font-weight: bold\">224</span>, <span style=\"color: #008080; text-decoration-color: #008080; font-weight: bold\">224</span><span style=\"font-weight: bold\">])</span>\n",
              "</pre>\n"
            ]
          },
          "metadata": {}
        },
        {
          "output_type": "display_data",
          "data": {
            "text/plain": [
              "<Figure size 432x288 with 1 Axes>"
            ],
            "image/png": "[encoded data removed]"
          },
          "metadata": {
            "needs_background": "light"
          }
        }
      ]
    },
    {
      "cell_type": "code",
      "source": [
        "import torch.nn as nn\n",
        "\n",
        "def conv_layer(ni, no, kernel_size, stride=1):\n",
        "  return nn.Sequential(\n",
        "      nn.Conv2d(ni, no, kernel_size, stride),\n",
        "      nn.ReLU(),\n",
        "      nn.BatchNorm2d(no),\n",
        "      nn.MaxPool2d(2)\n",
        "  )"
      ],
      "metadata": {
        "id": "apE7uCwkHz1k"
      },
      "execution_count": 83,
      "outputs": []
    },
    {
      "cell_type": "code",
      "source": [
        "def get_model():\n",
        "  model = nn.Sequential(\n",
        "      conv_layer(1,8,2),\n",
        "      conv_layer(8,16, 2),\n",
        "      nn.Flatten(),\n",
        "      nn.Linear(48400,10),\n",
        "      nn.Sigmoid(),\n",
        "  ).to(device)\n",
        "  loss_fn = nn.CrossEntropyLoss()\n",
        "  optimizer = torch.optim.Adam(model.parameters(), lr=1e-3)\n",
        "  return model, loss_fn, optimizer"
      ],
      "metadata": {
        "id": "lJvgZj_xH5vW"
      },
      "execution_count": 102,
      "outputs": []
    },
    {
      "cell_type": "code",
      "source": [],
      "metadata": {
        "id": "VHsSy1Tm-VsS"
      },
      "execution_count": 102,
      "outputs": []
    },
    {
      "cell_type": "code",
      "source": [
        "\n",
        "model, loss_fn, optimizer = get_model()\n",
        "from torchsummary import summary\n",
        "summary(model, (1, 224,224))"
      ],
      "metadata": {
        "id": "IfJ-djrrIA0f",
        "colab": {
          "base_uri": "https://localhost:8080/"
        },
        "outputId": "036af6eb-14ec-47bc-d5bf-8060e9bbfa29"
      },
      "execution_count": 103,
      "outputs": [
        {
          "output_type": "stream",
          "name": "stdout",
          "text": [
            "----------------------------------------------------------------\n",
            "        Layer (type)               Output Shape         Param #\n",
            "================================================================\n",
            "            Conv2d-1          [-1, 8, 223, 223]              40\n",
            "              ReLU-2          [-1, 8, 223, 223]               0\n",
            "       BatchNorm2d-3          [-1, 8, 223, 223]              16\n",
            "         MaxPool2d-4          [-1, 8, 111, 111]               0\n",
            "            Conv2d-5         [-1, 16, 110, 110]             528\n",
            "              ReLU-6         [-1, 16, 110, 110]               0\n",
            "       BatchNorm2d-7         [-1, 16, 110, 110]              32\n",
            "         MaxPool2d-8           [-1, 16, 55, 55]               0\n",
            "           Flatten-9                [-1, 48400]               0\n",
            "           Linear-10                   [-1, 10]         484,010\n",
            "          Sigmoid-11                   [-1, 10]               0\n",
            "================================================================\n",
            "Total params: 484,626\n",
            "Trainable params: 484,626\n",
            "Non-trainable params: 0\n",
            "----------------------------------------------------------------\n",
            "Input size (MB): 0.19\n",
            "Forward/backward pass size (MB): 15.03\n",
            "Params size (MB): 1.85\n",
            "Estimated Total Size (MB): 17.07\n",
            "----------------------------------------------------------------\n"
          ]
        }
      ]
    },
    {
      "cell_type": "code",
      "source": [
        "def get_data():\n",
        "  train = CustomDataset(df)\n",
        "  trn_dl = DataLoader(train, batch_size=32,shuffle=True, drop_last=True)\n",
        "  return trn_dl"
      ],
      "metadata": {
        "id": "VBpZUn6bIDtX"
      },
      "execution_count": 104,
      "outputs": []
    },
    {
      "cell_type": "code",
      "source": [
        "def train_batch(x, y, model, opt, loss_fn):\n",
        "  model.train()\n",
        "  prediction = model(x)\n",
        "  batch_loss = loss_fn(prediction, y)\n",
        "  batch_loss.backward()\n",
        "  optimizer.step()\n",
        "  optimizer.zero_grad()\n",
        "  return batch_loss.item()"
      ],
      "metadata": {
        "id": "tAGdC9lkJBTA"
      },
      "execution_count": 105,
      "outputs": []
    },
    {
      "cell_type": "code",
      "source": [
        "@torch.no_grad()\n",
        "def accuracy(x, y, model):\n",
        "  prediction = model(x)\n",
        "  is_correct = (prediction > 0.5) ==1\n",
        "  return is_correct.cpu().numpy().tolist()"
      ],
      "metadata": {
        "id": "XeJXaEkGJKTA"
      },
      "execution_count": 106,
      "outputs": []
    },
    {
      "cell_type": "code",
      "source": [
        "trn_dl = get_data()\n",
        "model, loss_fn, optimizer = get_model()"
      ],
      "metadata": {
        "id": "oYDfjAp0JOoy"
      },
      "execution_count": 107,
      "outputs": []
    },
    {
      "cell_type": "code",
      "source": [
        "train_losses, train_accuracies = [], []\n",
        "val_losses, val_accuracies = [], []\n",
        "for epoch in range(5):\n",
        "    \n",
        "    print(epoch)\n",
        "    train_epoch_losses, train_epoch_accuracies = [], []\n",
        "    val_epoch_accuracies = []\n",
        "    for ix, batch in enumerate(iter(trn_dl)):\n",
        "        #print(ix)\n",
        "        x, y = batch\n",
        "        x = x.reshape(32,1, 224,224)\n",
        "  \n",
        "        batch_loss = train_batch(x, y, model, optimizer, loss_fn)\n",
        "        train_epoch_losses.append(batch_loss)        \n",
        "    train_epoch_loss = np.array(train_epoch_losses).mean()\n",
        "\n",
        "    for ix, batch in enumerate(iter(trn_dl)):\n",
        "        x, y = batch\n",
        "        x = x.reshape(32, 1, 224, 224)\n",
        "        is_correct = accuracy(x, y, model)\n",
        "        train_epoch_accuracies.extend(is_correct)\n",
        "    train_epoch_accuracy = np.mean(train_epoch_accuracies)\n",
        "\n",
        "\n",
        "\n",
        "    train_losses.append(train_epoch_loss)\n",
        "    train_accuracies.append(train_epoch_accuracy)\n",
        "    #val_losses.append(validation_loss)\n"
      ],
      "metadata": {
        "colab": {
          "base_uri": "https://localhost:8080/",
          "height": 100
        },
        "id": "VAkFEPytJcBd",
        "outputId": "785f6ca0-6bbb-4f63-e829-9295e3650edb"
      },
      "execution_count": 109,
      "outputs": [
        {
          "output_type": "display_data",
          "data": {
            "text/plain": [
              "\u001b[1;36m0\u001b[0m\n"
            ],
            "text/html": [
              "<pre style=\"white-space:pre;overflow-x:auto;line-height:normal;font-family:Menlo,'DejaVu Sans Mono',consolas,'Courier New',monospace\"><span style=\"color: #008080; text-decoration-color: #008080; font-weight: bold\">0</span>\n",
              "</pre>\n"
            ]
          },
          "metadata": {}
        },
        {
          "output_type": "display_data",
          "data": {
            "text/plain": [
              "\u001b[1;36m1\u001b[0m\n"
            ],
            "text/html": [
              "<pre style=\"white-space:pre;overflow-x:auto;line-height:normal;font-family:Menlo,'DejaVu Sans Mono',consolas,'Courier New',monospace\"><span style=\"color: #008080; text-decoration-color: #008080; font-weight: bold\">1</span>\n",
              "</pre>\n"
            ]
          },
          "metadata": {}
        },
        {
          "output_type": "display_data",
          "data": {
            "text/plain": [
              "\u001b[1;36m2\u001b[0m\n"
            ],
            "text/html": [
              "<pre style=\"white-space:pre;overflow-x:auto;line-height:normal;font-family:Menlo,'DejaVu Sans Mono',consolas,'Courier New',monospace\"><span style=\"color: #008080; text-decoration-color: #008080; font-weight: bold\">2</span>\n",
              "</pre>\n"
            ]
          },
          "metadata": {}
        },
        {
          "output_type": "display_data",
          "data": {
            "text/plain": [
              "\u001b[1;36m3\u001b[0m\n"
            ],
            "text/html": [
              "<pre style=\"white-space:pre;overflow-x:auto;line-height:normal;font-family:Menlo,'DejaVu Sans Mono',consolas,'Courier New',monospace\"><span style=\"color: #008080; text-decoration-color: #008080; font-weight: bold\">3</span>\n",
              "</pre>\n"
            ]
          },
          "metadata": {}
        },
        {
          "output_type": "display_data",
          "data": {
            "text/plain": [
              "\u001b[1;36m4\u001b[0m\n"
            ],
            "text/html": [
              "<pre style=\"white-space:pre;overflow-x:auto;line-height:normal;font-family:Menlo,'DejaVu Sans Mono',consolas,'Courier New',monospace\"><span style=\"color: #008080; text-decoration-color: #008080; font-weight: bold\">4</span>\n",
              "</pre>\n"
            ]
          },
          "metadata": {}
        }
      ]
    },
    {
      "cell_type": "code",
      "source": [
        "epochs = np.arange(5) + 1\n",
        "import matplotlib.ticker as mtick\n",
        "import matplotlib.pyplot as plt\n",
        "%matplotlib inline\n",
        "\n",
        "plt.plot(epochs, train_accuracies, 'bo', label='Training accuracy')\n",
        "# plt.plot(epochs, val_accuracies, 'r', label='Validation accuracy')\n",
        "plt.gca().xaxis.set_major_locator(mtick.MultipleLocator(1))\n",
        "plt.title('Training and Validation accuracy with 4k data points used for training')\n",
        "plt.xlabel('epochs')\n",
        "plt.ylabel('accuracy')\n",
        "plt.gca().set_yticklabels(['{:.0f}%'.format(x*100) for x in plt.gca().get_yticks()])\n",
        "plt.grid('off')\n",
        "plt.show()"
      ],
      "metadata": {
        "id": "BuEta64CJmop",
        "colab": {
          "base_uri": "https://localhost:8080/",
          "height": 295
        },
        "outputId": "2391f063-b974-4e26-e7e0-26247512ee52"
      },
      "execution_count": 110,
      "outputs": [
        {
          "output_type": "display_data",
          "data": {
            "text/plain": [
              "<Figure size 432x288 with 1 Axes>"
            ],
            "image/png": "[encoded data removed]"
          },
          "metadata": {
            "needs_background": "light"
          }
        }
      ]
    },
    {
      "cell_type": "code",
      "source": [],
      "metadata": {
        "colab": {
          "base_uri": "https://localhost:8080/"
        },
        "id": "uHT-I0p0N2pC",
        "outputId": "0d7ade74-e40e-4c3a-cbba-cf6e65903ce5"
      },
      "execution_count": null,
      "outputs": [
        {
          "output_type": "stream",
          "name": "stdout",
          "text": [
            "|===========================================================================|\n",
            "|                  PyTorch CUDA memory summary, device ID 0                 |\n",
            "|---------------------------------------------------------------------------|\n",
            "|            CUDA OOMs: 1            |        cudaMalloc retries: 1         |\n",
            "|===========================================================================|\n",
            "|        Metric         | Cur Usage  | Peak Usage | Tot Alloc  | Tot Freed  |\n",
            "|---------------------------------------------------------------------------|\n",
            "| Allocated memory      |   12050 MB |   12904 MB |   19470 MB |    7419 MB |\n",
            "|       from large pool |   12049 MB |   12904 MB |   19382 MB |    7333 MB |\n",
            "|       from small pool |       0 MB |      86 MB |      87 MB |      86 MB |\n",
            "|---------------------------------------------------------------------------|\n",
            "| Active memory         |   12050 MB |   12904 MB |   19470 MB |    7419 MB |\n",
            "|       from large pool |   12049 MB |   12904 MB |   19382 MB |    7333 MB |\n",
            "|       from small pool |       0 MB |      86 MB |      87 MB |      86 MB |\n",
            "|---------------------------------------------------------------------------|\n",
            "| GPU reserved memory   |   12938 MB |   13912 MB |   13912 MB |     974 MB |\n",
            "|       from large pool |   12936 MB |   13810 MB |   13810 MB |     874 MB |\n",
            "|       from small pool |       2 MB |     102 MB |     102 MB |     100 MB |\n",
            "|---------------------------------------------------------------------------|\n",
            "| Non-releasable memory |   32355 KB |   43224 KB |  563762 KB |  531407 KB |\n",
            "|       from large pool |   30985 KB |   41856 KB |  430047 KB |  399062 KB |\n",
            "|       from small pool |    1370 KB |   15502 KB |  133715 KB |  132345 KB |\n",
            "|---------------------------------------------------------------------------|\n",
            "| Allocations           |      58    |     348    |     558    |     500    |\n",
            "|       from large pool |      12    |      13    |     172    |     160    |\n",
            "|       from small pool |      46    |     342    |     386    |     340    |\n",
            "|---------------------------------------------------------------------------|\n",
            "| Active allocs         |      58    |     348    |     558    |     500    |\n",
            "|       from large pool |      12    |      13    |     172    |     160    |\n",
            "|       from small pool |      46    |     342    |     386    |     340    |\n",
            "|---------------------------------------------------------------------------|\n",
            "| GPU reserved segments |      12    |      64    |      64    |      52    |\n",
            "|       from large pool |      11    |      13    |      13    |       2    |\n",
            "|       from small pool |       1    |      51    |      51    |      50    |\n",
            "|---------------------------------------------------------------------------|\n",
            "| Non-releasable allocs |      12    |      57    |     225    |     213    |\n",
            "|       from large pool |       9    |      10    |     166    |     157    |\n",
            "|       from small pool |       3    |      53    |      59    |      56    |\n",
            "|---------------------------------------------------------------------------|\n",
            "| Oversize allocations  |       0    |       0    |       0    |       0    |\n",
            "|---------------------------------------------------------------------------|\n",
            "| Oversize GPU segments |       0    |       0    |       0    |       0    |\n",
            "|===========================================================================|\n",
            "\n"
          ]
        }
      ]
    },
    {
      "cell_type": "code",
      "source": [],
      "metadata": {
        "id": "v0DfG57dO1Fr"
      },
      "execution_count": null,
      "outputs": []
    }
  ]
}