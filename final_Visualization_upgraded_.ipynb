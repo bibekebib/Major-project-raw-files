{
  "cells": [
    {
      "cell_type": "code",
      "execution_count": 1,
      "metadata": {
        "id": "noAOCXnjE72s",
        "colab": {
          "base_uri": "https://localhost:8080/"
        },
        "outputId": "c31399bd-1197-4ce2-98b6-e1692649154e"
      },
      "outputs": [
        {
          "output_type": "stream",
          "name": "stdout",
          "text": [
            "Mounted at /content/drive\n"
          ]
        }
      ],
      "source": [
        "from google.colab import drive\n",
        "drive.mount('/content/drive')"
      ]
    },
    {
      "cell_type": "code",
      "execution_count": 2,
      "metadata": {
        "id": "8FFWNvYGFbzF"
      },
      "outputs": [],
      "source": [
        "import pandas as pd\n",
        "import numpy as np\n",
        "from sklearn.metrics import classification_report, ConfusionMatrixDisplay"
      ]
    },
    {
      "cell_type": "code",
      "execution_count": 3,
      "metadata": {
        "id": "dlG98oieFm4U"
      },
      "outputs": [],
      "source": [
        "df = pd.read_csv('/content/drive/MyDrive/keypoints_final_256.csv')\n",
        "df_test = pd.read_csv('/content/drive/MyDrive/keypoints_final_test_256.csv')"
      ]
    },
    {
      "cell_type": "code",
      "execution_count": 4,
      "metadata": {
        "id": "BEI3i23WFtV6",
        "colab": {
          "base_uri": "https://localhost:8080/"
        },
        "outputId": "659a0a7b-4cd9-454d-a50a-2b69ff46da06"
      },
      "outputs": [
        {
          "output_type": "stream",
          "name": "stderr",
          "text": [
            "<ipython-input-4-2408e182c2cf>:1: FutureWarning: In a future version of pandas all arguments of DataFrame.drop except for the argument 'labels' will be keyword-only.\n",
            "  df = df.drop('Unnamed: 0',1)\n",
            "<ipython-input-4-2408e182c2cf>:2: FutureWarning: In a future version of pandas all arguments of DataFrame.drop except for the argument 'labels' will be keyword-only.\n",
            "  df_test = df_test.drop('Unnamed: 0',1)\n"
          ]
        }
      ],
      "source": [
        "df = df.drop('Unnamed: 0',1)\n",
        "df_test = df_test.drop('Unnamed: 0',1)"
      ]
    },
    {
      "cell_type": "code",
      "execution_count": 5,
      "metadata": {
        "id": "1SDKesvSFuEe",
        "colab": {
          "base_uri": "https://localhost:8080/",
          "height": 488
        },
        "outputId": "87faeee9-588b-40db-86a7-354c2762e818"
      },
      "outputs": [
        {
          "output_type": "execute_result",
          "data": {
            "text/plain": [
              "              0         1         2         3         4         5         6  \\\n",
              "0      0.561012  0.302157 -0.123826  0.564638  0.289460 -0.105465  0.567299   \n",
              "1      0.561800  0.300378 -0.112502  0.564178  0.286860 -0.094147  0.566694   \n",
              "2      0.561128  0.303233 -0.398081  0.564855  0.286085 -0.388905  0.567303   \n",
              "3      0.560880  0.309663 -0.300727  0.564582  0.291333 -0.289611  0.567254   \n",
              "4      0.561824  0.313649 -0.342597  0.565599  0.294846 -0.333475  0.568605   \n",
              "...         ...       ...       ...       ...       ...       ...       ...   \n",
              "13124  0.486648  0.286260 -0.089110  0.490879  0.273558 -0.067470  0.493832   \n",
              "13125  0.482443  0.300422 -0.362747  0.487832  0.286010 -0.350695  0.491121   \n",
              "13126  0.480868  0.294958 -0.321305  0.485442  0.280226 -0.312262  0.488200   \n",
              "13127  0.476346  0.293068 -0.347669  0.480525  0.276444 -0.338560  0.483666   \n",
              "13128  0.474513  0.301189 -0.396490  0.478878  0.286351 -0.384223  0.482274   \n",
              "\n",
              "              7         8         9  ...        90        91        92  \\\n",
              "0      0.289761 -0.105632  0.569772  ...  0.533098  0.883884  0.116445   \n",
              "1      0.287539 -0.094309  0.568935  ...  0.532270  0.883887  0.118631   \n",
              "2      0.285346 -0.389124  0.569531  ...  0.527861  0.878289  0.133518   \n",
              "3      0.290768 -0.289883  0.570002  ...  0.536183  0.912010  0.188811   \n",
              "4      0.294382 -0.333750  0.571083  ...  0.540910  0.887583  0.192771   \n",
              "...         ...       ...       ...  ...       ...       ...       ...   \n",
              "13124  0.272559 -0.067595  0.497064  ...  0.470475  0.872472  0.102894   \n",
              "13125  0.285521 -0.350950  0.493022  ...  0.474411  0.877378  0.126974   \n",
              "13126  0.280182 -0.312505  0.491096  ...  0.473303  0.876180  0.188003   \n",
              "13127  0.276016 -0.338818  0.485902  ...  0.473899  0.877159  0.200288   \n",
              "13128  0.286848 -0.384487  0.484189  ...  0.473569  0.875810  0.184950   \n",
              "\n",
              "             93        94        95        96        97        98       1.1  \n",
              "0      0.566635  0.933335  0.036987  0.536138  0.938561 -0.000178  tadasana  \n",
              "1      0.570173  0.931963  0.035905  0.532538  0.933740 -0.001898  tadasana  \n",
              "2      0.566152  0.918341  0.058699  0.534654  0.928207 -0.001211  tadasana  \n",
              "3      0.567818  0.914286  0.152388  0.530323  0.931029  0.077729  tadasana  \n",
              "4      0.571397  0.923574  0.116451  0.531012  0.930395  0.070042  tadasana  \n",
              "...         ...       ...       ...       ...       ...       ...       ...  \n",
              "13124  0.496999  0.912968  0.022522  0.466042  0.915865 -0.025367  tadasana  \n",
              "13125  0.494784  0.912487  0.072589  0.465412  0.914555  0.006590  tadasana  \n",
              "13126  0.495985  0.914854  0.099370  0.465068  0.916696  0.075990  tadasana  \n",
              "13127  0.494451  0.915021  0.085202  0.464427  0.913910  0.084059  tadasana  \n",
              "13128  0.496280  0.913268  0.085682  0.464682  0.914772  0.071310  tadasana  \n",
              "\n",
              "[13129 rows x 100 columns]"
            ],
            "text/html": [
              "\n",
              "  <div id=\"df-c2e14775-ae16-4f9d-bff0-659cc12bc0c8\">\n",
              "    <div class=\"colab-df-container\">\n",
              "      <div>\n",
              "<style scoped>\n",
              "    .dataframe tbody tr th:only-of-type {\n",
              "        vertical-align: middle;\n",
              "    }\n",
              "\n",
              "    .dataframe tbody tr th {\n",
              "        vertical-align: top;\n",
              "    }\n",
              "\n",
              "    .dataframe thead th {\n",
              "        text-align: right;\n",
              "    }\n",
              "</style>\n",
              "<table border=\"1\" class=\"dataframe\">\n",
              "  <thead>\n",
              "    <tr style=\"text-align: right;\">\n",
              "      <th></th>\n",
              "      <th>0</th>\n",
              "      <th>1</th>\n",
              "      <th>2</th>\n",
              "      <th>3</th>\n",
              "      <th>4</th>\n",
              "      <th>5</th>\n",
              "      <th>6</th>\n",
              "      <th>7</th>\n",
              "      <th>8</th>\n",
              "      <th>9</th>\n",
              "      <th>...</th>\n",
              "      <th>90</th>\n",
              "      <th>91</th>\n",
              "      <th>92</th>\n",
              "      <th>93</th>\n",
              "      <th>94</th>\n",
              "      <th>95</th>\n",
              "      <th>96</th>\n",
              "      <th>97</th>\n",
              "      <th>98</th>\n",
              "      <th>1.1</th>\n",
              "    </tr>\n",
              "  </thead>\n",
              "  <tbody>\n",
              "    <tr>\n",
              "      <th>0</th>\n",
              "      <td>0.561012</td>\n",
              "      <td>0.302157</td>\n",
              "      <td>-0.123826</td>\n",
              "      <td>0.564638</td>\n",
              "      <td>0.289460</td>\n",
              "      <td>-0.105465</td>\n",
              "      <td>0.567299</td>\n",
              "      <td>0.289761</td>\n",
              "      <td>-0.105632</td>\n",
              "      <td>0.569772</td>\n",
              "      <td>...</td>\n",
              "      <td>0.533098</td>\n",
              "      <td>0.883884</td>\n",
              "      <td>0.116445</td>\n",
              "      <td>0.566635</td>\n",
              "      <td>0.933335</td>\n",
              "      <td>0.036987</td>\n",
              "      <td>0.536138</td>\n",
              "      <td>0.938561</td>\n",
              "      <td>-0.000178</td>\n",
              "      <td>tadasana</td>\n",
              "    </tr>\n",
              "    <tr>\n",
              "      <th>1</th>\n",
              "      <td>0.561800</td>\n",
              "      <td>0.300378</td>\n",
              "      <td>-0.112502</td>\n",
              "      <td>0.564178</td>\n",
              "      <td>0.286860</td>\n",
              "      <td>-0.094147</td>\n",
              "      <td>0.566694</td>\n",
              "      <td>0.287539</td>\n",
              "      <td>-0.094309</td>\n",
              "      <td>0.568935</td>\n",
              "      <td>...</td>\n",
              "      <td>0.532270</td>\n",
              "      <td>0.883887</td>\n",
              "      <td>0.118631</td>\n",
              "      <td>0.570173</td>\n",
              "      <td>0.931963</td>\n",
              "      <td>0.035905</td>\n",
              "      <td>0.532538</td>\n",
              "      <td>0.933740</td>\n",
              "      <td>-0.001898</td>\n",
              "      <td>tadasana</td>\n",
              "    </tr>\n",
              "    <tr>\n",
              "      <th>2</th>\n",
              "      <td>0.561128</td>\n",
              "      <td>0.303233</td>\n",
              "      <td>-0.398081</td>\n",
              "      <td>0.564855</td>\n",
              "      <td>0.286085</td>\n",
              "      <td>-0.388905</td>\n",
              "      <td>0.567303</td>\n",
              "      <td>0.285346</td>\n",
              "      <td>-0.389124</td>\n",
              "      <td>0.569531</td>\n",
              "      <td>...</td>\n",
              "      <td>0.527861</td>\n",
              "      <td>0.878289</td>\n",
              "      <td>0.133518</td>\n",
              "      <td>0.566152</td>\n",
              "      <td>0.918341</td>\n",
              "      <td>0.058699</td>\n",
              "      <td>0.534654</td>\n",
              "      <td>0.928207</td>\n",
              "      <td>-0.001211</td>\n",
              "      <td>tadasana</td>\n",
              "    </tr>\n",
              "    <tr>\n",
              "      <th>3</th>\n",
              "      <td>0.560880</td>\n",
              "      <td>0.309663</td>\n",
              "      <td>-0.300727</td>\n",
              "      <td>0.564582</td>\n",
              "      <td>0.291333</td>\n",
              "      <td>-0.289611</td>\n",
              "      <td>0.567254</td>\n",
              "      <td>0.290768</td>\n",
              "      <td>-0.289883</td>\n",
              "      <td>0.570002</td>\n",
              "      <td>...</td>\n",
              "      <td>0.536183</td>\n",
              "      <td>0.912010</td>\n",
              "      <td>0.188811</td>\n",
              "      <td>0.567818</td>\n",
              "      <td>0.914286</td>\n",
              "      <td>0.152388</td>\n",
              "      <td>0.530323</td>\n",
              "      <td>0.931029</td>\n",
              "      <td>0.077729</td>\n",
              "      <td>tadasana</td>\n",
              "    </tr>\n",
              "    <tr>\n",
              "      <th>4</th>\n",
              "      <td>0.561824</td>\n",
              "      <td>0.313649</td>\n",
              "      <td>-0.342597</td>\n",
              "      <td>0.565599</td>\n",
              "      <td>0.294846</td>\n",
              "      <td>-0.333475</td>\n",
              "      <td>0.568605</td>\n",
              "      <td>0.294382</td>\n",
              "      <td>-0.333750</td>\n",
              "      <td>0.571083</td>\n",
              "      <td>...</td>\n",
              "      <td>0.540910</td>\n",
              "      <td>0.887583</td>\n",
              "      <td>0.192771</td>\n",
              "      <td>0.571397</td>\n",
              "      <td>0.923574</td>\n",
              "      <td>0.116451</td>\n",
              "      <td>0.531012</td>\n",
              "      <td>0.930395</td>\n",
              "      <td>0.070042</td>\n",
              "      <td>tadasana</td>\n",
              "    </tr>\n",
              "    <tr>\n",
              "      <th>...</th>\n",
              "      <td>...</td>\n",
              "      <td>...</td>\n",
              "      <td>...</td>\n",
              "      <td>...</td>\n",
              "      <td>...</td>\n",
              "      <td>...</td>\n",
              "      <td>...</td>\n",
              "      <td>...</td>\n",
              "      <td>...</td>\n",
              "      <td>...</td>\n",
              "      <td>...</td>\n",
              "      <td>...</td>\n",
              "      <td>...</td>\n",
              "      <td>...</td>\n",
              "      <td>...</td>\n",
              "      <td>...</td>\n",
              "      <td>...</td>\n",
              "      <td>...</td>\n",
              "      <td>...</td>\n",
              "      <td>...</td>\n",
              "      <td>...</td>\n",
              "    </tr>\n",
              "    <tr>\n",
              "      <th>13124</th>\n",
              "      <td>0.486648</td>\n",
              "      <td>0.286260</td>\n",
              "      <td>-0.089110</td>\n",
              "      <td>0.490879</td>\n",
              "      <td>0.273558</td>\n",
              "      <td>-0.067470</td>\n",
              "      <td>0.493832</td>\n",
              "      <td>0.272559</td>\n",
              "      <td>-0.067595</td>\n",
              "      <td>0.497064</td>\n",
              "      <td>...</td>\n",
              "      <td>0.470475</td>\n",
              "      <td>0.872472</td>\n",
              "      <td>0.102894</td>\n",
              "      <td>0.496999</td>\n",
              "      <td>0.912968</td>\n",
              "      <td>0.022522</td>\n",
              "      <td>0.466042</td>\n",
              "      <td>0.915865</td>\n",
              "      <td>-0.025367</td>\n",
              "      <td>tadasana</td>\n",
              "    </tr>\n",
              "    <tr>\n",
              "      <th>13125</th>\n",
              "      <td>0.482443</td>\n",
              "      <td>0.300422</td>\n",
              "      <td>-0.362747</td>\n",
              "      <td>0.487832</td>\n",
              "      <td>0.286010</td>\n",
              "      <td>-0.350695</td>\n",
              "      <td>0.491121</td>\n",
              "      <td>0.285521</td>\n",
              "      <td>-0.350950</td>\n",
              "      <td>0.493022</td>\n",
              "      <td>...</td>\n",
              "      <td>0.474411</td>\n",
              "      <td>0.877378</td>\n",
              "      <td>0.126974</td>\n",
              "      <td>0.494784</td>\n",
              "      <td>0.912487</td>\n",
              "      <td>0.072589</td>\n",
              "      <td>0.465412</td>\n",
              "      <td>0.914555</td>\n",
              "      <td>0.006590</td>\n",
              "      <td>tadasana</td>\n",
              "    </tr>\n",
              "    <tr>\n",
              "      <th>13126</th>\n",
              "      <td>0.480868</td>\n",
              "      <td>0.294958</td>\n",
              "      <td>-0.321305</td>\n",
              "      <td>0.485442</td>\n",
              "      <td>0.280226</td>\n",
              "      <td>-0.312262</td>\n",
              "      <td>0.488200</td>\n",
              "      <td>0.280182</td>\n",
              "      <td>-0.312505</td>\n",
              "      <td>0.491096</td>\n",
              "      <td>...</td>\n",
              "      <td>0.473303</td>\n",
              "      <td>0.876180</td>\n",
              "      <td>0.188003</td>\n",
              "      <td>0.495985</td>\n",
              "      <td>0.914854</td>\n",
              "      <td>0.099370</td>\n",
              "      <td>0.465068</td>\n",
              "      <td>0.916696</td>\n",
              "      <td>0.075990</td>\n",
              "      <td>tadasana</td>\n",
              "    </tr>\n",
              "    <tr>\n",
              "      <th>13127</th>\n",
              "      <td>0.476346</td>\n",
              "      <td>0.293068</td>\n",
              "      <td>-0.347669</td>\n",
              "      <td>0.480525</td>\n",
              "      <td>0.276444</td>\n",
              "      <td>-0.338560</td>\n",
              "      <td>0.483666</td>\n",
              "      <td>0.276016</td>\n",
              "      <td>-0.338818</td>\n",
              "      <td>0.485902</td>\n",
              "      <td>...</td>\n",
              "      <td>0.473899</td>\n",
              "      <td>0.877159</td>\n",
              "      <td>0.200288</td>\n",
              "      <td>0.494451</td>\n",
              "      <td>0.915021</td>\n",
              "      <td>0.085202</td>\n",
              "      <td>0.464427</td>\n",
              "      <td>0.913910</td>\n",
              "      <td>0.084059</td>\n",
              "      <td>tadasana</td>\n",
              "    </tr>\n",
              "    <tr>\n",
              "      <th>13128</th>\n",
              "      <td>0.474513</td>\n",
              "      <td>0.301189</td>\n",
              "      <td>-0.396490</td>\n",
              "      <td>0.478878</td>\n",
              "      <td>0.286351</td>\n",
              "      <td>-0.384223</td>\n",
              "      <td>0.482274</td>\n",
              "      <td>0.286848</td>\n",
              "      <td>-0.384487</td>\n",
              "      <td>0.484189</td>\n",
              "      <td>...</td>\n",
              "      <td>0.473569</td>\n",
              "      <td>0.875810</td>\n",
              "      <td>0.184950</td>\n",
              "      <td>0.496280</td>\n",
              "      <td>0.913268</td>\n",
              "      <td>0.085682</td>\n",
              "      <td>0.464682</td>\n",
              "      <td>0.914772</td>\n",
              "      <td>0.071310</td>\n",
              "      <td>tadasana</td>\n",
              "    </tr>\n",
              "  </tbody>\n",
              "</table>\n",
              "<p>13129 rows × 100 columns</p>\n",
              "</div>\n",
              "      <button class=\"colab-df-convert\" onclick=\"convertToInteractive('df-c2e14775-ae16-4f9d-bff0-659cc12bc0c8')\"\n",
              "              title=\"Convert this dataframe to an interactive table.\"\n",
              "              style=\"display:none;\">\n",
              "        \n",
              "  <svg xmlns=\"http://www.w3.org/2000/svg\" height=\"24px\"viewBox=\"0 0 24 24\"\n",
              "       width=\"24px\">\n",
              "    <path d=\"M0 0h24v24H0V0z\" fill=\"none\"/>\n",
              "    <path d=\"M18.56 5.44l.94 2.06.94-2.06 2.06-.94-2.06-.94-.94-2.06-.94 2.06-2.06.94zm-11 1L8.5 8.5l.94-2.06 2.06-.94-2.06-.94L8.5 2.5l-.94 2.06-2.06.94zm10 10l.94 2.06.94-2.06 2.06-.94-2.06-.94-.94-2.06-.94 2.06-2.06.94z\"/><path d=\"M17.41 7.96l-1.37-1.37c-.4-.4-.92-.59-1.43-.59-.52 0-1.04.2-1.43.59L10.3 9.45l-7.72 7.72c-.78.78-.78 2.05 0 2.83L4 21.41c.39.39.9.59 1.41.59.51 0 1.02-.2 1.41-.59l7.78-7.78 2.81-2.81c.8-.78.8-2.07 0-2.86zM5.41 20L4 18.59l7.72-7.72 1.47 1.35L5.41 20z\"/>\n",
              "  </svg>\n",
              "      </button>\n",
              "      \n",
              "  <style>\n",
              "    .colab-df-container {\n",
              "      display:flex;\n",
              "      flex-wrap:wrap;\n",
              "      gap: 12px;\n",
              "    }\n",
              "\n",
              "    .colab-df-convert {\n",
              "      background-color: #E8F0FE;\n",
              "      border: none;\n",
              "      border-radius: 50%;\n",
              "      cursor: pointer;\n",
              "      display: none;\n",
              "      fill: #1967D2;\n",
              "      height: 32px;\n",
              "      padding: 0 0 0 0;\n",
              "      width: 32px;\n",
              "    }\n",
              "\n",
              "    .colab-df-convert:hover {\n",
              "      background-color: #E2EBFA;\n",
              "      box-shadow: 0px 1px 2px rgba(60, 64, 67, 0.3), 0px 1px 3px 1px rgba(60, 64, 67, 0.15);\n",
              "      fill: #174EA6;\n",
              "    }\n",
              "\n",
              "    [theme=dark] .colab-df-convert {\n",
              "      background-color: #3B4455;\n",
              "      fill: #D2E3FC;\n",
              "    }\n",
              "\n",
              "    [theme=dark] .colab-df-convert:hover {\n",
              "      background-color: #434B5C;\n",
              "      box-shadow: 0px 1px 3px 1px rgba(0, 0, 0, 0.15);\n",
              "      filter: drop-shadow(0px 1px 2px rgba(0, 0, 0, 0.3));\n",
              "      fill: #FFFFFF;\n",
              "    }\n",
              "  </style>\n",
              "\n",
              "      <script>\n",
              "        const buttonEl =\n",
              "          document.querySelector('#df-c2e14775-ae16-4f9d-bff0-659cc12bc0c8 button.colab-df-convert');\n",
              "        buttonEl.style.display =\n",
              "          google.colab.kernel.accessAllowed ? 'block' : 'none';\n",
              "\n",
              "        async function convertToInteractive(key) {\n",
              "          const element = document.querySelector('#df-c2e14775-ae16-4f9d-bff0-659cc12bc0c8');\n",
              "          const dataTable =\n",
              "            await google.colab.kernel.invokeFunction('convertToInteractive',\n",
              "                                                     [key], {});\n",
              "          if (!dataTable) return;\n",
              "\n",
              "          const docLinkHtml = 'Like what you see? Visit the ' +\n",
              "            '<a target=\"_blank\" href=https://colab.research.google.com/notebooks/data_table.ipynb>data table notebook</a>'\n",
              "            + ' to learn more about interactive tables.';\n",
              "          element.innerHTML = '';\n",
              "          dataTable['output_type'] = 'display_data';\n",
              "          await google.colab.output.renderOutput(dataTable, element);\n",
              "          const docLink = document.createElement('div');\n",
              "          docLink.innerHTML = docLinkHtml;\n",
              "          element.appendChild(docLink);\n",
              "        }\n",
              "      </script>\n",
              "    </div>\n",
              "  </div>\n",
              "  "
            ]
          },
          "metadata": {},
          "execution_count": 5
        }
      ],
      "source": [
        "df"
      ]
    },
    {
      "cell_type": "code",
      "source": [
        "a = df.iloc[0].values"
      ],
      "metadata": {
        "id": "0T11Lczc80yo"
      },
      "execution_count": 6,
      "outputs": []
    },
    {
      "cell_type": "code",
      "source": [
        "a"
      ],
      "metadata": {
        "colab": {
          "base_uri": "https://localhost:8080/"
        },
        "id": "fzrqCu5I9IzU",
        "outputId": "34d814a0-999d-4954-cadb-3bd909d6dd54"
      },
      "execution_count": 7,
      "outputs": [
        {
          "output_type": "execute_result",
          "data": {
            "text/plain": [
              "array([0.5610121488571167, 0.3021573722362518, -0.1238261461257934,\n",
              "       0.5646376013755798, 0.2894602119922638, -0.1054650172591209,\n",
              "       0.5672987103462219, 0.2897613942623138, -0.105631947517395,\n",
              "       0.569772481918335, 0.2902835011482239, -0.1055463477969169,\n",
              "       0.5565555095672607, 0.2891682088375091, -0.1058596149086952,\n",
              "       0.5539022088050842, 0.2893290519714355, -0.1060997918248176,\n",
              "       0.5510416030883789, 0.2895386219024658, -0.1061554849147796,\n",
              "       0.5705021023750305, 0.2935670912265777, -0.0114558367058634,\n",
              "       0.5456047654151917, 0.2917241752147674, -0.0138909174129366,\n",
              "       0.5649600028991699, 0.3148797452449798, -0.0862689837813377,\n",
              "       0.556268036365509, 0.3145413994789123, -0.0888205915689468,\n",
              "       0.5886379480361938, 0.3434101343154907, 0.0246982872486114,\n",
              "       0.5274155139923096, 0.3412458002567291, 0.0200451966375112,\n",
              "       0.6256014108657837, 0.2626210749149322, -0.0154260154813528,\n",
              "       0.5001486539840698, 0.2479017525911331, -0.0202395673841238,\n",
              "       0.5900717377662659, 0.1847677230834961, -0.0632706806063652,\n",
              "       0.5410173535346985, 0.1783140301704406, -0.0605900324881076,\n",
              "       0.5747612714767456, 0.1728443503379821, -0.0846542119979858,\n",
              "       0.5556953549385071, 0.1676894426345825, -0.0869795978069305,\n",
              "       0.5717948079109192, 0.177668884396553, -0.0793445110321044,\n",
              "       0.5584930181503296, 0.1733567267656326, -0.079354390501976,\n",
              "       0.5753644108772278, 0.1850273013114929, -0.0621905364096164,\n",
              "       0.5557900667190552, 0.1797701567411422, -0.0612747073173522,\n",
              "       0.5744230151176453, 0.5458947420120239, 0.0067784320563077,\n",
              "       0.5348880887031555, 0.5458840131759644, -0.0069934660568833,\n",
              "       0.5735927820205688, 0.711009681224823, 0.0144583731889724,\n",
              "       0.5359230041503906, 0.7115612030029297, -0.0202807802706956,\n",
              "       0.5748370289802551, 0.8598378300666809, 0.1456058025360107,\n",
              "       0.5296099185943604, 0.870903491973877, 0.1081042066216468,\n",
              "       0.5704790949821472, 0.8756152987480164, 0.152630016207695,\n",
              "       0.5330984592437744, 0.8838838934898376, 0.1164451390504837,\n",
              "       0.5666353702545166, 0.9333345293998718, 0.0369870625436306,\n",
              "       0.5361384153366089, 0.9385613799095154, -0.0001782568433554,\n",
              "       'tadasana'], dtype=object)"
            ]
          },
          "metadata": {},
          "execution_count": 7
        }
      ]
    },
    {
      "cell_type": "code",
      "execution_count": 8,
      "metadata": {
        "id": "TsIIleLCF0kQ"
      },
      "outputs": [],
      "source": [
        "import torch\n",
        "import torch.nn as nn\n",
        "from torch.utils.data import DataLoader, Dataset\n",
        "from sklearn.preprocessing import LabelEncoder"
      ]
    },
    {
      "cell_type": "code",
      "execution_count": 9,
      "metadata": {
        "id": "mheSh8XMrXRy",
        "colab": {
          "base_uri": "https://localhost:8080/"
        },
        "outputId": "695326fc-3cd3-418a-96ac-5345ad252591"
      },
      "outputs": [
        {
          "output_type": "execute_result",
          "data": {
            "text/plain": [
              "{'bhujan': 0, 'padmasan': 1, 'shav': 2, 'tadasana': 3, 'trik': 4, 'vriksh': 5}"
            ]
          },
          "metadata": {},
          "execution_count": 9
        }
      ],
      "source": [
        "lbe = LabelEncoder()\n",
        "df['1.1']= lbe.fit_transform(df['1.1'])\n",
        "df_test['1.1']= lbe.fit_transform(df_test['1.1'])\n",
        "dict(zip(lbe.classes_, lbe.transform(lbe.classes_)))"
      ]
    },
    {
      "cell_type": "code",
      "execution_count": 10,
      "metadata": {
        "id": "CKmvkqw1EfHM"
      },
      "outputs": [],
      "source": [
        "target = ['bhujan', 'padmasan', 'shav', 'tadasana','trik', 'vriksh' ]"
      ]
    },
    {
      "cell_type": "code",
      "execution_count": 11,
      "metadata": {
        "id": "P8HAO9N7sX4F"
      },
      "outputs": [],
      "source": [
        "device = 'cuda' if torch.cuda.is_available() else 'cpu'"
      ]
    },
    {
      "cell_type": "code",
      "execution_count": 12,
      "metadata": {
        "id": "45ysEV9zjHkD",
        "colab": {
          "base_uri": "https://localhost:8080/",
          "height": 35
        },
        "outputId": "6f7de104-2e51-4b25-a1eb-f82d2e6316e2"
      },
      "outputs": [
        {
          "output_type": "execute_result",
          "data": {
            "text/plain": [
              "'cpu'"
            ],
            "application/vnd.google.colaboratory.intrinsic+json": {
              "type": "string"
            }
          },
          "metadata": {},
          "execution_count": 12
        }
      ],
      "source": [
        "device"
      ]
    },
    {
      "cell_type": "code",
      "execution_count": 13,
      "metadata": {
        "id": "04UjZs3SGFt9"
      },
      "outputs": [],
      "source": [
        "class YogaDataset(Dataset):\n",
        "  def __init__(self, df):\n",
        "    self.features = df.drop(['1.1'], axis=1)\n",
        "    self.target = df['1.1']\n",
        "\n",
        "  def __len__(self):\n",
        "    return len(self.features)\n",
        "  \n",
        "  def __getitem__(self, index):\n",
        "    features = self.features.loc[index]\n",
        "    target = self.target[index]\n",
        "    return torch.tensor(features.tolist()).float().to(device), torch.tensor(target).long().to(device)"
      ]
    },
    {
      "cell_type": "code",
      "execution_count": 14,
      "metadata": {
        "id": "kjn1diRCPPBn"
      },
      "outputs": [],
      "source": [
        "# df_feat = df.drop(['1.1'], axis=1)"
      ]
    },
    {
      "cell_type": "code",
      "execution_count": 15,
      "metadata": {
        "id": "oLFPQdOlPo4_",
        "colab": {
          "base_uri": "https://localhost:8080/",
          "height": 35
        },
        "outputId": "3919e0e1-c23a-419b-8189-890b973a2a52"
      },
      "outputs": [
        {
          "output_type": "execute_result",
          "data": {
            "text/plain": [
              "'cpu'"
            ],
            "application/vnd.google.colaboratory.intrinsic+json": {
              "type": "string"
            }
          },
          "metadata": {},
          "execution_count": 15
        }
      ],
      "source": [
        "device"
      ]
    },
    {
      "cell_type": "code",
      "execution_count": 16,
      "metadata": {
        "id": "6rS3CyegPVHE"
      },
      "outputs": [],
      "source": [
        "# target = df['1.1']"
      ]
    },
    {
      "cell_type": "code",
      "execution_count": 17,
      "metadata": {
        "id": "AUf74C14Pc3u"
      },
      "outputs": [],
      "source": [
        "data = YogaDataset(df)"
      ]
    },
    {
      "cell_type": "code",
      "execution_count": 18,
      "metadata": {
        "id": "LIEICAjrPi7T"
      },
      "outputs": [],
      "source": [
        "feat, target = data[100]"
      ]
    },
    {
      "cell_type": "code",
      "execution_count": 19,
      "metadata": {
        "id": "vZD7k54HhXok",
        "colab": {
          "base_uri": "https://localhost:8080/"
        },
        "outputId": "d75544ed-4b0f-4618-c655-b6c3d8e96f3a"
      },
      "outputs": [
        {
          "output_type": "execute_result",
          "data": {
            "text/plain": [
              "tensor(3)"
            ]
          },
          "metadata": {},
          "execution_count": 19
        }
      ],
      "source": [
        "target"
      ]
    },
    {
      "cell_type": "code",
      "execution_count": 20,
      "metadata": {
        "id": "NHqLquJOhgNQ"
      },
      "outputs": [],
      "source": [
        "class LSTMModel(nn.Module):\n",
        "  def __init__(self,hidden_dim=80, input_dim=99,  n_layers=1):\n",
        "    super(LSTMModel, self).__init__()\n",
        "    self.input_dim = input_dim\n",
        "    self.n_layers = n_layers\n",
        "    self.hidden_dim = hidden_dim\n",
        "    self.rnn = nn.LSTM(input_dim,hidden_dim, n_layers, batch_first=True)\n",
        "    self.fc = nn.Linear(hidden_dim, 64)\n",
        "    self.relu1  = nn.ReLU()\n",
        "    self.fc1 = nn.Linear(64,20)\n",
        "    self.relu2  = nn.ReLU()\n",
        "    self.fc2 = nn.Linear(20,6) \n",
        "  def forward(self, input):\n",
        "    h0 = torch.zeros(self.n_layers,  self.hidden_dim)\n",
        "    c0 = torch.zeros(self.n_layers,  self.hidden_dim)\n",
        "    out,( _,_) = self.rnn(input,(h0, c0))\n",
        "    pred = self.fc(out)\n",
        "    pred = self.relu1(pred)\n",
        "    pred = self.fc1(pred)\n",
        "    pred = self.relu2(pred)\n",
        "    pred = self.fc2(pred)\n",
        "    output = nn.Softmax( dim=1)(pred)\n",
        "    return output"
      ]
    },
    {
      "cell_type": "code",
      "execution_count": 21,
      "metadata": {
        "id": "1RWWhgIds98B"
      },
      "outputs": [],
      "source": [
        "model = LSTMModel().to(device)"
      ]
    },
    {
      "cell_type": "code",
      "execution_count": 22,
      "metadata": {
        "id": "JH5Wcyq4tAd3"
      },
      "outputs": [],
      "source": [
        "loss_fn = nn.CrossEntropyLoss()\n",
        "optimizer = torch.optim.Adam(model.parameters(), lr=1e-3)"
      ]
    },
    {
      "cell_type": "code",
      "execution_count": 23,
      "metadata": {
        "id": "LUqs5IautI7r",
        "colab": {
          "base_uri": "https://localhost:8080/"
        },
        "outputId": "c4445218-17c6-44ad-ecc0-1b9c42838318"
      },
      "outputs": [
        {
          "output_type": "execute_result",
          "data": {
            "text/plain": [
              "LSTMModel(\n",
              "  (rnn): LSTM(99, 80, batch_first=True)\n",
              "  (fc): Linear(in_features=80, out_features=64, bias=True)\n",
              "  (relu1): ReLU()\n",
              "  (fc1): Linear(in_features=64, out_features=20, bias=True)\n",
              "  (relu2): ReLU()\n",
              "  (fc2): Linear(in_features=20, out_features=6, bias=True)\n",
              ")"
            ]
          },
          "metadata": {},
          "execution_count": 23
        }
      ],
      "source": [
        "\n",
        "model"
      ]
    },
    {
      "cell_type": "code",
      "execution_count": 25,
      "metadata": {
        "id": "Xzg1h1i1g9KR",
        "colab": {
          "base_uri": "https://localhost:8080/"
        },
        "outputId": "4816e614-7f3a-4148-a8cb-caab60266d86"
      },
      "outputs": [
        {
          "output_type": "stream",
          "name": "stdout",
          "text": [
            "Looking in indexes: https://pypi.org/simple, https://us-python.pkg.dev/colab-wheels/public/simple/\n",
            "Collecting torchinfo\n",
            "  Downloading torchinfo-1.8.0-py3-none-any.whl (23 kB)\n",
            "Installing collected packages: torchinfo\n",
            "Successfully installed torchinfo-1.8.0\n"
          ]
        },
        {
          "output_type": "execute_result",
          "data": {
            "text/plain": [
              "==========================================================================================\n",
              "Layer (type:depth-idx)                   Output Shape              Param #\n",
              "==========================================================================================\n",
              "LSTMModel                                [80, 6]                   --\n",
              "├─LSTM: 1-1                              [80, 80]                  57,920\n",
              "├─Linear: 1-2                            [80, 64]                  5,184\n",
              "├─ReLU: 1-3                              [80, 64]                  --\n",
              "├─Linear: 1-4                            [80, 20]                  1,300\n",
              "├─ReLU: 1-5                              [80, 20]                  --\n",
              "├─Linear: 1-6                            [80, 6]                   126\n",
              "==========================================================================================\n",
              "Total params: 64,530\n",
              "Trainable params: 64,530\n",
              "Non-trainable params: 0\n",
              "Total mult-adds (M): 371.22\n",
              "==========================================================================================\n",
              "Input size (MB): 0.03\n",
              "Forward/backward pass size (MB): 0.11\n",
              "Params size (MB): 0.26\n",
              "Estimated Total Size (MB): 0.40\n",
              "=========================================================================================="
            ]
          },
          "metadata": {},
          "execution_count": 25
        }
      ],
      "source": [
        "!pip install torchinfo\n",
        "import torchinfo\n",
        "torchinfo.summary(model, input_size=(80, 99), device=\"cpu\")\n"
      ]
    },
    {
      "cell_type": "code",
      "source": [
        "!pip install torchviz\n",
        "from torchviz import make_dot"
      ],
      "metadata": {
        "colab": {
          "base_uri": "https://localhost:8080/"
        },
        "id": "X-ALZT6E8ESu",
        "outputId": "06eb31de-436e-4f34-9a17-32ce40640d5c"
      },
      "execution_count": 27,
      "outputs": [
        {
          "output_type": "stream",
          "name": "stdout",
          "text": [
            "Looking in indexes: https://pypi.org/simple, https://us-python.pkg.dev/colab-wheels/public/simple/\n",
            "Collecting torchviz\n",
            "  Downloading torchviz-0.0.2.tar.gz (4.9 kB)\n",
            "  Preparing metadata (setup.py) ... \u001b[?25l\u001b[?25hdone\n",
            "Requirement already satisfied: torch in /usr/local/lib/python3.10/dist-packages (from torchviz) (2.0.1+cu118)\n",
            "Requirement already satisfied: graphviz in /usr/local/lib/python3.10/dist-packages (from torchviz) (0.20.1)\n",
            "Requirement already satisfied: filelock in /usr/local/lib/python3.10/dist-packages (from torch->torchviz) (3.12.0)\n",
            "Requirement already satisfied: typing-extensions in /usr/local/lib/python3.10/dist-packages (from torch->torchviz) (4.5.0)\n",
            "Requirement already satisfied: sympy in /usr/local/lib/python3.10/dist-packages (from torch->torchviz) (1.11.1)\n",
            "Requirement already satisfied: networkx in /usr/local/lib/python3.10/dist-packages (from torch->torchviz) (3.1)\n",
            "Requirement already satisfied: jinja2 in /usr/local/lib/python3.10/dist-packages (from torch->torchviz) (3.1.2)\n",
            "Requirement already satisfied: triton==2.0.0 in /usr/local/lib/python3.10/dist-packages (from torch->torchviz) (2.0.0)\n",
            "Requirement already satisfied: cmake in /usr/local/lib/python3.10/dist-packages (from triton==2.0.0->torch->torchviz) (3.25.2)\n",
            "Requirement already satisfied: lit in /usr/local/lib/python3.10/dist-packages (from triton==2.0.0->torch->torchviz) (16.0.5)\n",
            "Requirement already satisfied: MarkupSafe>=2.0 in /usr/local/lib/python3.10/dist-packages (from jinja2->torch->torchviz) (2.1.2)\n",
            "Requirement already satisfied: mpmath>=0.19 in /usr/local/lib/python3.10/dist-packages (from sympy->torch->torchviz) (1.3.0)\n",
            "Building wheels for collected packages: torchviz\n",
            "  Building wheel for torchviz (setup.py) ... \u001b[?25l\u001b[?25hdone\n",
            "  Created wheel for torchviz: filename=torchviz-0.0.2-py3-none-any.whl size=4131 sha256=42610687e96322eaa8b814d07414b37b94dee495fcf0e757f58799edadca060b\n",
            "  Stored in directory: /root/.cache/pip/wheels/4c/97/88/a02973217949e0db0c9f4346d154085f4725f99c4f15a87094\n",
            "Successfully built torchviz\n",
            "Installing collected packages: torchviz\n",
            "Successfully installed torchviz-0.0.2\n"
          ]
        }
      ]
    },
    {
      "cell_type": "code",
      "source": [
        "y = model(bib)\n",
        "make_dot(y.mean(), params=dict(model.named_parameters())).render(\"rnn_torchviz\", format=\"png\")\n"
      ],
      "metadata": {
        "colab": {
          "base_uri": "https://localhost:8080/",
          "height": 35
        },
        "id": "MwtiyAwg4ZUh",
        "outputId": "7db0f355-370d-4442-f87e-42752113916c"
      },
      "execution_count": 76,
      "outputs": [
        {
          "output_type": "execute_result",
          "data": {
            "text/plain": [
              "'rnn_torchviz.png'"
            ],
            "application/vnd.google.colaboratory.intrinsic+json": {
              "type": "string"
            }
          },
          "metadata": {},
          "execution_count": 76
        }
      ]
    },
    {
      "cell_type": "code",
      "source": [],
      "metadata": {
        "id": "VWHGUFW95RuY"
      },
      "execution_count": 70,
      "outputs": []
    },
    {
      "cell_type": "code",
      "source": [],
      "metadata": {
        "colab": {
          "base_uri": "https://localhost:8080/",
          "height": 35
        },
        "id": "LhCXKAd46JRn",
        "outputId": "646dde14-efa3-46c7-beca-7a62f31637db"
      },
      "execution_count": 55,
      "outputs": [
        {
          "output_type": "execute_result",
          "data": {
            "text/plain": [
              "'tadasana'"
            ],
            "application/vnd.google.colaboratory.intrinsic+json": {
              "type": "string"
            }
          },
          "metadata": {},
          "execution_count": 55
        }
      ]
    },
    {
      "cell_type": "code",
      "execution_count": 56,
      "metadata": {
        "id": "lslJszPoXFq-"
      },
      "outputs": [],
      "source": [
        "def get_data():\n",
        "    train = YogaDataset(df)\n",
        "    test = YogaDataset(df_test)\n",
        "    trn_dl = DataLoader(train, batch_size=32,shuffle=True, drop_last=True)\n",
        "    test_dl = DataLoader(test, batch_size=32, shuffle=True, drop_last=True)\n",
        "    return trn_dl, test_dl"
      ]
    },
    {
      "cell_type": "code",
      "execution_count": 31,
      "metadata": {
        "id": "EMNUp4xCXnuA"
      },
      "outputs": [],
      "source": [
        "trn_ldr, test_ldr = get_data()\n",
        "# for x in trn_ldr:\n",
        "#   print(x)\n",
        "#   break"
      ]
    },
    {
      "cell_type": "code",
      "execution_count": 32,
      "metadata": {
        "id": "Wf3uvwm2Xwjb"
      },
      "outputs": [],
      "source": [
        "def train_batch(x, y, model, loss_fn, opt):\n",
        "    model.train()\n",
        "    prediction = model(x)\n",
        "    # print(y.shape)\n",
        "    # print(y)\n",
        "    # print(prediction.shape)\n",
        "    batch_loss = loss_fn(prediction, y)\n",
        "    batch_loss.backward()\n",
        "    optimizer.step()\n",
        "    optimizer.zero_grad()\n",
        "    return batch_loss.item()"
      ]
    },
    {
      "cell_type": "code",
      "execution_count": 33,
      "metadata": {
        "id": "PEY2jjXIX3nZ"
      },
      "outputs": [],
      "source": [
        "@torch.no_grad()\n",
        "def accuracy(x, y, model, test=False):\n",
        "    model.eval()\n",
        "    pred = model(x)\n",
        "    _, is_correct = torch.max(pred.data,1)\n",
        "    acc_all = (is_correct==y).detach().cpu().numpy()\n",
        "    if test==True:\n",
        "      return acc_all, is_correct\n",
        "    else:\n",
        "      return acc_all"
      ]
    },
    {
      "cell_type": "code",
      "execution_count": 34,
      "metadata": {
        "id": "k4TGtcVqjmIl"
      },
      "outputs": [],
      "source": [
        "@torch.no_grad()\n",
        "def val_loss_trn(x, y, model, loss_fn):\n",
        "  prediction = model(x)\n",
        "  val_loss = loss_fn(prediction, y)\n",
        "  return val_loss.item()"
      ]
    },
    {
      "cell_type": "code",
      "execution_count": 70,
      "metadata": {
        "id": "MjXvedlSnUVa"
      },
      "outputs": [],
      "source": []
    },
    {
      "cell_type": "code",
      "execution_count": 71,
      "metadata": {
        "id": "UV5EmyVioTBV"
      },
      "outputs": [],
      "source": [
        "poses_json = {\n",
        "    0:\"bhujan\",\n",
        "    1:\"padmasan\",\n",
        "    2:\"shav\",\n",
        "    3:\"tadasana\",\n",
        "    4:\"trik\",\n",
        "    5:\"vriksh\"\n",
        "}\n"
      ]
    },
    {
      "cell_type": "code",
      "execution_count": 72,
      "metadata": {
        "id": "oLoo8XM3X6Pn",
        "colab": {
          "base_uri": "https://localhost:8080/",
          "height": 806
        },
        "outputId": "697511c2-1141-49e2-b4f3-afb7b4781f84"
      },
      "outputs": [
        {
          "output_type": "stream",
          "name": "stdout",
          "text": [
            "Epoch: _________*****0*****_______\n",
            "Epoch: _________*****0 Training Loss : 1.0818094628613169 *****_______\n",
            "Epoch: _________*****0 Training Accuracy: 0.973094512195122 *****_______\n",
            "Epoch: _________*****0 Validation Loss : 1.0715227843998196 *****_______\n",
            "Epoch: _________*****0 Validation Accuracy. 0.9779283216783217 *****_______\n",
            "\n",
            "\n"
          ]
        },
        {
          "output_type": "display_data",
          "data": {
            "text/plain": [
              "<Figure size 640x480 with 2 Axes>"
            ],
            "image/png": "[encoded data removed]"
          },
          "metadata": {}
        },
        {
          "output_type": "stream",
          "name": "stdout",
          "text": [
            "              precision    recall  f1-score   support\n",
            "\n",
            "      bhujan       1.00      1.00      1.00       766\n",
            "    padmasan       0.99      0.99      0.99       762\n",
            "        shav       0.99      1.00      1.00       766\n",
            "    tadasana       1.00      0.93      0.96       759\n",
            "        trik       0.94      0.99      0.97       760\n",
            "      vriksh       0.94      0.95      0.95       763\n",
            "\n",
            "    accuracy                           0.98      4576\n",
            "   macro avg       0.98      0.98      0.98      4576\n",
            "weighted avg       0.98      0.98      0.98      4576\n",
            "\n"
          ]
        }
      ],
      "source": [
        "train_loss = []\n",
        "train_accuracies= []\n",
        "val_loss = [] \n",
        "val_accuracies = []\n",
        "\n",
        "for i in range(1):\n",
        "    y_pred= []\n",
        "    y_true = []\n",
        "    print(f'Epoch: _________*****{i}*****_______')\n",
        "    train_epoch_losses, train_epoch_accuracies = [], []\n",
        "    val_epoch_accuracies, val_epoch_losses = [], []\n",
        "\n",
        "\n",
        "\n",
        "    for ix, batch in (enumerate(iter(trn_ldr))):\n",
        "        x, y = batch\n",
        "        bib = x\n",
        "        train_epoch_losses.append(train_batch(x, y, model, loss_fn, optimizer))\n",
        "    train_epoch_loss = np.array(train_epoch_losses).mean()\n",
        "    print(f'Epoch: _________*****{i} Training Loss : {train_epoch_loss} *****_______')\n",
        "\n",
        "\n",
        "\n",
        "    for ix, batch in (enumerate(iter(trn_ldr))):\n",
        "        x, y = batch\n",
        "        # x = x.permute(0, 3,1,2)\n",
        "        train_epoch_accuracies.append(sum(accuracy(x, y, model)) / len(y))\n",
        "    train_epoch_accuracy = np.array(train_epoch_accuracies).mean()\n",
        "    print(f'Epoch: _________*****{i} Training Accuracy: {train_epoch_accuracy} *****_______')\n",
        "\n",
        "\n",
        "    for ix, batch in (enumerate(iter(test_ldr))):\n",
        "        x, y = batch\n",
        "        # x = x.permute(0, 3,1,2)\n",
        "        val_epoch_losses.append(val_loss_trn(x, y, model, loss_fn))\n",
        "    val_epoch_loss = np.array(val_epoch_losses).mean()\n",
        "    print(f'Epoch: _________*****{i} Validation Loss : {val_epoch_loss} *****_______')\n",
        "\n",
        "    for ix, batch in (enumerate(iter(test_ldr))):\n",
        "        x, y = batch\n",
        "        # x = x.permute(0, 3,1,2)\n",
        "        y_true.append(y.tolist())\n",
        "        test_acc_return  = accuracy(x, y, model, test=True)[0].tolist()\n",
        "        y_pred.append(accuracy(x, y, model, test=True)[1])\n",
        "        val_epoch_accuracies.append(sum(test_acc_return) / len(y))\n",
        "    val_epoch_accuracy = np.array(val_epoch_accuracies).mean()\n",
        "    print(f'Epoch: _________*****{i} Validation Accuracy. {val_epoch_accuracy} *****_______')\n",
        "    print('\\n')\n",
        "\n",
        "\n",
        "    all_y_true = []\n",
        "    for x in y_true:\n",
        "      for y in x:\n",
        "\n",
        "        all_y_true.append(poses_json[y])\n",
        "\n",
        "    all_y_pred = []\n",
        "    for x in y_pred:\n",
        "      # print(x)\n",
        "      for y in x:\n",
        "        all_y_pred.append(poses_json[y.item()])\n",
        "    # print(all_y_true, all_y_pred)\n",
        "    from sklearn.metrics import confusion_matrix, ConfusionMatrixDisplay, classification_report\n",
        "    cm = confusion_matrix(all_y_true, all_y_pred, labels = ['bhujan', 'padmasan', 'shav', 'tadasana','trik', 'vriksh' ])\n",
        "    disp= ConfusionMatrixDisplay(confusion_matrix=cm, display_labels=['bhujan', 'padmasan', 'shav', 'tadasana','trik', 'vriksh' ])\n",
        "    disp.plot()\n",
        "    import matplotlib.pyplot as plt\n",
        "    plt.show()\n",
        "    print(classification_report(all_y_true, all_y_pred,labels = ['bhujan', 'padmasan', 'shav', 'tadasana','trik', 'vriksh' ]))\n",
        "\n",
        "    train_loss.append(train_epoch_loss)\n",
        "    train_accuracies.append(train_epoch_accuracy)\n",
        "    val_accuracies.append(val_epoch_accuracy)\n",
        "    val_loss.append(val_epoch_loss)"
      ]
    },
    {
      "cell_type": "code",
      "execution_count": null,
      "metadata": {
        "id": "SCHXhp05Fi5v"
      },
      "outputs": [],
      "source": [
        "all_y_true = []\n",
        "for x in y_true:\n",
        "  for y in x:\n",
        "    all_y_true.append(poses_json[y])\n",
        "\n",
        "all_y_pred = []\n",
        "for x in y_pred:\n",
        "  for y in x:\n",
        "    all_y_pred.append(poses_json[y.item()])"
      ]
    },
    {
      "cell_type": "code",
      "execution_count": null,
      "metadata": {
        "id": "2eeVYkIbLVUX"
      },
      "outputs": [],
      "source": [
        "# [all_y_true.append(y) for y in x in y_true]"
      ]
    },
    {
      "cell_type": "code",
      "execution_count": null,
      "metadata": {
        "id": "JL3-rbigJZ40"
      },
      "outputs": [],
      "source": [
        "from sklearn.metrics import confusion_matrix\n",
        "import seaborn as sns\n",
        "import matplotlib.pyplot as plt\n",
        "# sns.set_style(\"darkgrid\")\n",
        "# plt.figure(figsize=(12,8))\n",
        "colors = [\"#807fff\", \"#fd7f82\", \"#84a97e\"]\n",
        "sns.set_palette(sns.color_palette(colors))\n",
        "cm = confusion_matrix(all_y_true, all_y_pred,labels = ['bhujan', 'padmasan', 'shav', 'tadasana','trik', 'vriksh' ])\n",
        "disp= ConfusionMatrixDisplay(confusion_matrix=cm, display_labels=['bhujan', 'padmasan', 'shav', 'tadasana','trik', 'vriksh' ])\n",
        "# import matplotlib.pyplot as plt\n",
        "disp.plot()\n",
        "# plt.show()"
      ]
    },
    {
      "cell_type": "code",
      "execution_count": null,
      "metadata": {
        "id": "CjDA9CgOEAoI"
      },
      "outputs": [],
      "source": [
        "print(classification_report(all_y_true, all_y_pred,labels = ['bhujan', 'padmasan', 'shav', 'tadasana','trik', 'vriksh' ]))"
      ]
    },
    {
      "cell_type": "code",
      "execution_count": null,
      "metadata": {
        "id": "fE2v2W1UYH2_"
      },
      "outputs": [],
      "source": [
        "df_val = pd.read_csv('/content/drive/MyDrive/keypoints_final_val_256.csv').drop('Unnamed: 0',1)"
      ]
    },
    {
      "cell_type": "code",
      "execution_count": null,
      "metadata": {
        "id": "bt1ZRN3AConI"
      },
      "outputs": [],
      "source": [
        "df_val[512:(512+256)]"
      ]
    },
    {
      "cell_type": "code",
      "execution_count": null,
      "metadata": {
        "id": "smFI6vRS9u91"
      },
      "outputs": [],
      "source": [
        "tad =  df_val[512:512+256]\n",
        "tad= tad.reset_index( drop=True)\n",
        "# tad_feat = tad.drop('1.1',1)"
      ]
    },
    {
      "cell_type": "code",
      "execution_count": null,
      "metadata": {
        "id": "OJLGT0isAJft"
      },
      "outputs": [],
      "source": [
        "class YogaDataset(Dataset):\n",
        "  def __init__(self, df):\n",
        "    self.features = df.drop(['1.1'], axis=1)\n",
        "    self.target = df['1.1']\n",
        "\n",
        "  def __len__(self):\n",
        "    return len(self.features)\n",
        "  \n",
        "  def __getitem__(self, index):\n",
        "    features = self.features.loc[index]\n",
        "    target = self.target[index]\n",
        "    return torch.tensor(features.tolist()).float().to(device)"
      ]
    },
    {
      "cell_type": "code",
      "execution_count": null,
      "metadata": {
        "id": "ThTIqorZ_CWZ"
      },
      "outputs": [],
      "source": [
        "tad = YogaDataset(tad)\n",
        "tad_dl = DataLoader(tad, batch_size=16,drop_last=False)"
      ]
    },
    {
      "cell_type": "code",
      "execution_count": null,
      "metadata": {
        "id": "u9ZB_bPi_Rq0"
      },
      "outputs": [],
      "source": [
        "for batch in tad_dl:\n",
        "  \n",
        "  pred=(model(batch))\n",
        "  _, is_correct = torch.max(pred.data,1)\n",
        "  print(is_correct)"
      ]
    },
    {
      "cell_type": "code",
      "execution_count": null,
      "metadata": {
        "id": "m_NiIHcC-BW6"
      },
      "outputs": [],
      "source": [
        "{'bhujan': 0, 'padmasan': 1, 'shav': 2, 'tadasana': 3, 'trik': 4, 'vriksh': 5}"
      ]
    },
    {
      "cell_type": "code",
      "execution_count": null,
      "metadata": {
        "id": "Uf35XbtnOSdD"
      },
      "outputs": [],
      "source": [
        "val_accuracies"
      ]
    },
    {
      "cell_type": "code",
      "execution_count": null,
      "metadata": {
        "id": "yhpas1c_NVxE"
      },
      "outputs": [],
      "source": [
        "epochs = np.arange(25)+1\n",
        "import matplotlib.ticker as mtick\n",
        "import matplotlib.pyplot as plt\n",
        "%matplotlib inline\n",
        "import seaborn as sns\n",
        "plt.figure(figsize=(12,8))\n",
        "colors = [\"#807fff\", \"#fd7f82\", \"#84a97e\"]\n",
        "sns.set_palette(sns.color_palette(colors))\n",
        "sns.lineplot(x=epochs, y=val_accuracies , label='Validation Accuracy')\n",
        "sns.lineplot(x=epochs, y=train_accuracies , label='Training accuracy')\n",
        "plt.gca().xaxis.set_major_locator(mtick.MultipleLocator(1))\n",
        "sns.set_style(\"darkgrid\")\n",
        "\n",
        "plt.xlabel('epochs')\n",
        "plt.ylabel('Accuracy in 100%')\n",
        "plt.title('Training and Validation Accuracy with increasing epochs (ADAM Optimizer)')\n",
        "plt.legend()\n",
        "plt.gca().set_yticklabels(['{:.0f}%'.format(x*100) for x in plt.gca().get_yticks()])\n",
        "plt.grid('off')\n",
        "plt.show()"
      ]
    },
    {
      "cell_type": "code",
      "execution_count": null,
      "metadata": {
        "id": "TX1iJnT8NZSe"
      },
      "outputs": [],
      "source": [
        "epochs = np.arange(25) + 1\n",
        "import matplotlib.ticker as mtick\n",
        "import matplotlib.pyplot as plt\n",
        "%matplotlib inline\n",
        "plt.figure(figsize=(12,8))\n",
        "colors = [\"#807fff\", \"#fd7f82\", \"#84a97e\"]\n",
        "sns.set_palette(sns.color_palette(colors))\n",
        "sns.set_style(\"darkgrid\")\n",
        "\n",
        "plt.plot(epochs,  val_loss, label='Validation Loss')\n",
        "plt.plot(epochs, train_loss, label='Training Loss')\n",
        "plt.gca().xaxis.set_major_locator(mtick.MultipleLocator(1))\n",
        "plt.title('Training and Validaiton Loss with incresing epoch (ADAM Optimizer)')\n",
        "plt.xlabel('epochs')\n",
        "plt.ylabel('Loss')\n",
        "plt.legend()\n",
        "plt.gca().set_yticklabels(['{:.0f}'.format(x) for x in plt.gca().get_yticks()])\n",
        "plt.grid('off')\n",
        "plt.show()"
      ]
    },
    {
      "cell_type": "code",
      "execution_count": null,
      "metadata": {
        "id": "o3OVZXKdOwau"
      },
      "outputs": [],
      "source": [
        "\n",
        "# from google.colab import drive\n",
        "# drive.mount('/content/drive')\n",
        "\n",
        "file_path = ''\n",
        "\n",
        "from glob import glob\n",
        "import pandas as pd\n",
        "import cv2 as cv2\n",
        "import matplotlib.pyplot as plt\n",
        "import os\n",
        "import numpy as np\n",
        "import torch\n",
        "from sklearn.model_selection import train_test_split\n",
        "# !pip install mediapipe\n",
        "\n",
        "\n",
        "import mediapipe as mp\n",
        "mp_drawing = mp.solutions.drawing_utils\n",
        "mp_drawing_styles = mp.solutions.drawing_styles\n",
        "mp_pose = mp.solutions.pose\n",
        "\n",
        "BG_COLOR = (192, 192, 192)\n",
        "def landmark_det(image):\n",
        "  with mp_pose.Pose(\n",
        "    static_image_mode=True,\n",
        "    model_complexity=2,\n",
        "    enable_segmentation=True,\n",
        "    min_detection_confidence=0.5) as pose:\n",
        "    a = []\n",
        "    image_height, image_width, _ = image.shape\n",
        "    results = pose.process(cv2.cvtColor(image, cv2.COLOR_BGR2RGB))\n",
        "    for i in range(33):\n",
        "      a.append((results.pose_landmarks.landmark[mp_pose.PoseLandmark(i)].x ,results.pose_landmarks.landmark[mp_pose.PoseLandmark(i)].y ,results.pose_landmarks.landmark[mp_pose.PoseLandmark(i)].z))\n",
        "    b = []\n",
        "\n",
        "    for i in a:\n",
        "      for x in i:\n",
        "        b.append(x)\n",
        "    df = pd.DataFrame(b).T\n",
        "    df = df.to_numpy()\n",
        "    return df\n",
        "\n",
        "\n",
        "import os\n",
        "\n",
        "\n",
        "def listframe(path):\n",
        "  local = []\n",
        "  video = cv2.VideoCapture(path)\n",
        "  frame_num = int(video.get(cv2.CAP_PROP_FRAME_COUNT))\n",
        "  f_img = 0\n",
        "  count = 0\n",
        "  while (count<frame_num): \n",
        "      try:\n",
        "              success, cap = video.read()\n",
        "          # if count % (int(frame_num / 256)) == 0 and (f_img<256):\n",
        "              df  = landmark_det(cap)\n",
        "              local.append(df)\n",
        "              f_img =f_img+1\n",
        "              count = count+1\n",
        "          # else:\n",
        "          #     count = count+1\n",
        "      except:\n",
        "             count = count+1\n",
        "  print(f'done dong doing {path}')\n",
        "\n",
        "  return local\n",
        "\n",
        "\n"
      ]
    },
    {
      "cell_type": "code",
      "execution_count": null,
      "metadata": {
        "id": "UEZe4v95vsel"
      },
      "outputs": [],
      "source": [
        "data = np.array(listframe(\"/content/1_02.mp4\"))\n",
        "globals = []\n",
        "for i in range(len(data)):\n",
        "    for j in range(len(data[i])):\n",
        "        globals.append(data[i][j])\n"
      ]
    },
    {
      "cell_type": "code",
      "execution_count": null,
      "metadata": {
        "id": "_AW9IqRVyubq"
      },
      "outputs": [],
      "source": [
        "class YogaDataset(Dataset):\n",
        "  def __init__(self, df):\n",
        "    self.features = df\n",
        "    # self.target = df['1.1']\n",
        "\n",
        "  def __len__(self):\n",
        "    return len(self.features)\n",
        "  \n",
        "  def __getitem__(self, index):\n",
        "    features = self.features.loc[index]\n",
        "    # target = self.target[index]\n",
        "    return torch.tensor(features.tolist()).float().to(device)"
      ]
    },
    {
      "cell_type": "code",
      "execution_count": null,
      "metadata": {
        "id": "bYrOwfYtx0Y0"
      },
      "outputs": [],
      "source": [
        "total = []\n",
        "for i in range(len(globals)):\n",
        "  total.append((globals[i]))\n",
        "\n",
        "df_test = pd.DataFrame(globals)\n",
        "\n",
        "\n",
        "\n",
        "tad = YogaDataset(df_test)\n",
        "tad_dl = DataLoader(tad, batch_size=16,drop_last=False)\n",
        "for batch in tad_dl:\n",
        "  \n",
        "  pred=(model(batch))\n",
        "\n",
        "  _, is_correct = torch.max(pred.data,1)\n",
        "  print(is_correct)\n"
      ]
    },
    {
      "cell_type": "code",
      "execution_count": null,
      "metadata": {
        "id": "1-ZPbu3Kx1z2"
      },
      "outputs": [],
      "source": [
        "# torch.save(model.to('cpu').state_dict(), 'yoga_fulldatamodel_test.pth')"
      ]
    },
    {
      "cell_type": "code",
      "execution_count": null,
      "metadata": {
        "id": "x4776R7ifIZz"
      },
      "outputs": [],
      "source": [
        "is_correct"
      ]
    },
    {
      "cell_type": "code",
      "execution_count": null,
      "metadata": {
        "id": "mtE_oTMW8gvv"
      },
      "outputs": [],
      "source": []
    }
  ],
  "metadata": {
    "colab": {
      "provenance": []
    },
    "gpuClass": "standard",
    "kernelspec": {
      "display_name": "Python 3",
      "name": "python3"
    },
    "language_info": {
      "name": "python"
    }
  },
  "nbformat": 4,
  "nbformat_minor": 0
}