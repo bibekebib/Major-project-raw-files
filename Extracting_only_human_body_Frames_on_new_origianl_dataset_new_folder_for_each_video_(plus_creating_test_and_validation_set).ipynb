{
  "nbformat": 4,
  "nbformat_minor": 0,
  "metadata": {
    "colab": {
      "provenance": [],
      "mount_file_id": "1kg938jfXtIF1bmykY1rFRIV5ImxIic6v",
      "authorship_tag": "ABX9TyN/3ItaF+HiAvCNGekZ2OEP",
      "include_colab_link": true
    },
    "kernelspec": {
      "name": "python3",
      "display_name": "Python 3"
    },
    "language_info": {
      "name": "python"
    },
    "gpuClass": "standard"
  },
  "cells": [
    {
      "cell_type": "markdown",
      "metadata": {
        "id": "view-in-github",
        "colab_type": "text"
      },
      "source": [
        "<a href=\"https://colab.research.google.com/github/bibekebib/Major-project-raw-files/blob/main/Extracting_only_human_body_Frames_on_new_origianl_dataset_new_folder_for_each_video_(plus_creating_test_and_validation_set).ipynb\" target=\"_parent\"><img src=\"https://colab.research.google.com/assets/colab-badge.svg\" alt=\"Open In Colab\"/></a>"
      ]
    },
    {
      "cell_type": "code",
      "source": [
        "from google.colab import drive\n",
        "drive.mount('/content/drive')"
      ],
      "metadata": {
        "id": "UWMcpTB5vnUi",
        "colab": {
          "base_uri": "https://localhost:8080/"
        },
        "outputId": "1478d1ef-d544-4d21-bdd5-d0e12c0a6f99"
      },
      "execution_count": null,
      "outputs": [
        {
          "output_type": "stream",
          "name": "stdout",
          "text": [
            "Mounted at /content/drive\n"
          ]
        }
      ]
    },
    {
      "cell_type": "code",
      "source": [
        "dataset_path = '/content/drive/MyDrive/dataset'"
      ],
      "metadata": {
        "id": "uILOoRcKv330"
      },
      "execution_count": null,
      "outputs": []
    },
    {
      "cell_type": "code",
      "source": [
        "from glob import glob\n",
        "import pandas as pd\n",
        "import cv2 as cv2\n",
        "import matplotlib.pyplot as plt\n",
        "import os\n",
        "import numpy as np\n",
        "import torch\n",
        "from sklearn.model_selection import train_test_split"
      ],
      "metadata": {
        "id": "lCZty5b9v-v5"
      },
      "execution_count": null,
      "outputs": []
    },
    {
      "cell_type": "code",
      "source": [
        "main_df = pd.read_csv(dataset_path+'/df_original.csv')"
      ],
      "metadata": {
        "id": "p2oDrRX2Od3i"
      },
      "execution_count": null,
      "outputs": []
    },
    {
      "cell_type": "code",
      "source": [
        "main_df.Label.value_counts()"
      ],
      "metadata": {
        "colab": {
          "base_uri": "https://localhost:8080/"
        },
        "id": "9BvJcEU5cAHE",
        "outputId": "4a18a057-549b-4c99-b3dc-d8c0d5a2b9ef"
      },
      "execution_count": null,
      "outputs": [
        {
          "output_type": "execute_result",
          "data": {
            "text/plain": [
              "bhujan      16\n",
              "vriksh      15\n",
              "tadasana    15\n",
              "shav        15\n",
              "padmasan    14\n",
              "trik        13\n",
              "Name: Label, dtype: int64"
            ]
          },
          "metadata": {},
          "execution_count": 36
        }
      ]
    },
    {
      "cell_type": "code",
      "source": [
        "X = main_df.Path\n",
        "y = main_df.Label"
      ],
      "metadata": {
        "id": "h1rYHS4j0bTF"
      },
      "execution_count": null,
      "outputs": []
    },
    {
      "cell_type": "code",
      "source": [
        "X_train, X_test, y_train, y_test = train_test_split(X, y, test_size=0.2, random_state=1, stratify=y)"
      ],
      "metadata": {
        "id": "lJO_hPmtQQRp"
      },
      "execution_count": null,
      "outputs": []
    },
    {
      "cell_type": "code",
      "source": [
        "X_train, X_val, y_train, y_val = train_test_split(X_train, y_train, test_size=0.25, stratify=y_train)"
      ],
      "metadata": {
        "id": "MY0uf9iBQt-T"
      },
      "execution_count": null,
      "outputs": []
    },
    {
      "cell_type": "code",
      "source": [
        "type(X_train), y_train"
      ],
      "metadata": {
        "colab": {
          "base_uri": "https://localhost:8080/"
        },
        "id": "xTvHZ6pHaRBL",
        "outputId": "7e4c13fe-e9e5-414b-dc4e-6db9f06f7c2a"
      },
      "execution_count": null,
      "outputs": [
        {
          "output_type": "execute_result",
          "data": {
            "text/plain": [
              "(pandas.core.series.Series, 68    padmasan\n",
              " 53        trik\n",
              " 48        trik\n",
              " 30      bhujan\n",
              " 6       vriksh\n",
              " 1       vriksh\n",
              " 58        trik\n",
              " 70    padmasan\n",
              " 8       vriksh\n",
              " 60    padmasan\n",
              " 29      bhujan\n",
              " 19      bhujan\n",
              " 59    padmasan\n",
              " 81        shav\n",
              " 84        shav\n",
              " 67    padmasan\n",
              " 74        shav\n",
              " 78        shav\n",
              " 10      vriksh\n",
              " 83        shav\n",
              " 37    tadasana\n",
              " 5       vriksh\n",
              " 31    tadasana\n",
              " 86        shav\n",
              " 77        shav\n",
              " 76        shav\n",
              " 45    tadasana\n",
              " 47        trik\n",
              " 20      bhujan\n",
              " 36    tadasana\n",
              " 12      vriksh\n",
              " 32    tadasana\n",
              " 42    tadasana\n",
              " 26      bhujan\n",
              " 41    tadasana\n",
              " 4       vriksh\n",
              " 85        shav\n",
              " 52        trik\n",
              " 69    padmasan\n",
              " 17      bhujan\n",
              " 18      bhujan\n",
              " 11      vriksh\n",
              " 16      bhujan\n",
              " 2       vriksh\n",
              " 25      bhujan\n",
              " 50        trik\n",
              " 56        trik\n",
              " 15      bhujan\n",
              " 43    tadasana\n",
              " 65    padmasan\n",
              " 40    tadasana\n",
              " 72    padmasan\n",
              " Name: Label, dtype: object)"
            ]
          },
          "metadata": {},
          "execution_count": 57
        }
      ]
    },
    {
      "cell_type": "code",
      "source": [
        "df = pd.concat((X_train, y_train), axis=1).reset_index().drop('index', axis=1)\n",
        "testdf = pd.concat((X_test, y_test), axis=1).reset_index().drop('index', axis=1)\n",
        "valdf = pd.concat((X_val, y_val), axis=1).reset_index().drop('index', axis=1)"
      ],
      "metadata": {
        "id": "_f3o5_S-Kh6E"
      },
      "execution_count": null,
      "outputs": []
    },
    {
      "cell_type": "code",
      "source": [
        "df.Label.value_counts(), testdf.Label.value_counts(),valdf.Label.value_counts()"
      ],
      "metadata": {
        "id": "JmM3jpL7u2IN",
        "colab": {
          "base_uri": "https://localhost:8080/"
        },
        "outputId": "3aae7c8b-8185-4d5b-f9bd-cd113e0dac2e"
      },
      "execution_count": null,
      "outputs": [
        {
          "output_type": "execute_result",
          "data": {
            "text/plain": [
              "(bhujan      10\n",
              " vriksh       9\n",
              " shav         9\n",
              " tadasana     9\n",
              " padmasan     8\n",
              " trik         7\n",
              " Name: Label, dtype: int64, tadasana    3\n",
              " vriksh      3\n",
              " padmasan    3\n",
              " shav        3\n",
              " trik        3\n",
              " bhujan      3\n",
              " Name: Label, dtype: int64, trik        3\n",
              " vriksh      3\n",
              " padmasan    3\n",
              " bhujan      3\n",
              " tadasana    3\n",
              " shav        3\n",
              " Name: Label, dtype: int64)"
            ]
          },
          "metadata": {},
          "execution_count": 59
        }
      ]
    },
    {
      "cell_type": "code",
      "source": [
        "# label_mapping('bhujan')"
      ],
      "metadata": {
        "id": "3qEBjoZUwNgz"
      },
      "execution_count": null,
      "outputs": []
    },
    {
      "cell_type": "code",
      "source": [
        "# #Read frame number 53 of each video:\n",
        "# frame_number=93 #random\n",
        "# import cv2\n",
        "# def showFrame(path):\n",
        "#     cap = cv2.VideoCapture(path)\n",
        "#     cap.set(1, frame_number)\n",
        "#     res, frame = cap.read()\n",
        "#     print(f'Before conversion to grayscale {frame.shape}')\n",
        "#     frame = cv2.cvtColor(frame, cv2.COLOR_RGB2GRAY)\n",
        "#     print(f'afer conversion to grayscale {frame.shape} ')\n",
        "#     frame = frame[30:700,200:1050]\n",
        "#     frame.tolist()\n",
        "#     print(frame/255)\n",
        "#     # plt.title(path.split('/')[-2])\n",
        "#     # plt.axis(False)\n",
        "#     # plt.show()"
      ],
      "metadata": {
        "id": "9Kb8x4YNPyo_"
      },
      "execution_count": null,
      "outputs": []
    },
    {
      "cell_type": "code",
      "source": [
        "# showFrame(testdf.Path[2])"
      ],
      "metadata": {
        "id": "gnmXkiJqR7dI"
      },
      "execution_count": null,
      "outputs": []
    },
    {
      "cell_type": "code",
      "source": [
        "# padding_frame = 1500\n",
        "# video = cv2.VideoCapture(testdf.Path[0])\n",
        "\n",
        "# count = 0\n",
        "# testlist = []\n",
        "# while (count < padding_frame):\n",
        "#   success, cap = video.read()\n",
        "#   testlist.append(cap)\n",
        "#   count =+1\n"
      ],
      "metadata": {
        "id": "KoODrX4vhSIw"
      },
      "execution_count": null,
      "outputs": []
    },
    {
      "cell_type": "code",
      "source": [
        "# testdf.Path[0].split('/')[-2]"
      ],
      "metadata": {
        "id": "uwGyynAZON0S"
      },
      "execution_count": null,
      "outputs": []
    },
    {
      "cell_type": "code",
      "source": [
        "# (testdf.Label[0]+'-'+testdf.Path[0].split('/')[-1].split('.')[0]).lower()"
      ],
      "metadata": {
        "id": "-oqcoX4Hn1ni"
      },
      "execution_count": null,
      "outputs": []
    },
    {
      "cell_type": "code",
      "source": [
        "# import torch"
      ],
      "metadata": {
        "id": "bOXHgWqNx3qd"
      },
      "execution_count": null,
      "outputs": []
    },
    {
      "cell_type": "code",
      "source": [
        "# (testdf.Label[0]+'-'+testdf.Path[0].split('/')[-1].split('.')[0]).lower()"
      ],
      "metadata": {
        "id": "GKN7ubrSB8px"
      },
      "execution_count": null,
      "outputs": []
    },
    {
      "cell_type": "code",
      "source": [
        "# xml_file = '/content/haar-cascade-files/haarcascade_fullbody.xml'\n",
        "# body_cascade = cv2.CascadeClassifier(xml_file)"
      ],
      "metadata": {
        "id": "6R8w3LWHvVei"
      },
      "execution_count": null,
      "outputs": []
    },
    {
      "cell_type": "code",
      "source": [
        "import os\n",
        "import time\n",
        "\n",
        "parentFolderTrain = '/content/drive/MyDrive/OriginalFramesTrain'\n",
        "parentFolderTest = '/content/drive/MyDrive/OriginalFolderTest'\n",
        "def listframe(parentFolder,path, Label):\n",
        "  os.chdir(parentFolder)\n",
        "  foldername = (Label).lower()\n",
        "  if os.path.exists(parentFolder+'/'+foldername):\n",
        "    os.chdir(foldername)\n",
        "  else:\n",
        "    os.mkdir(foldername)\n",
        "    os.chdir(foldername)\n",
        "  path_fol = Label+'-'+path.split('/')[-1].split('.')[0]\n",
        "  print(os.getcwd())\n",
        "  if os.path.exists(parentFolder+'/'+path_fol):\n",
        "    os.chdir(path_fol)\n",
        "  else:\n",
        "    # os.rmdir(path_fol)\n",
        "    os.mkdir(path_fol)\n",
        "    os.chdir(path_fol)\n",
        "  video = cv2.VideoCapture(path)\n",
        "  frame_num = int(video.get(cv2.CAP_PROP_FRAME_COUNT))\n",
        "  print(frame_num)\n",
        "  print(int(frame_num /128)) \n",
        "  f_img = 0\n",
        "  print(os.getcwd())\n",
        "  count = 0\n",
        "  while (count<frame_num): \n",
        "      try:\n",
        "          success, cap = video.read()\n",
        "          if count % (int(frame_num / 128)) == 0 and (f_img<128):\n",
        "              # print(count)\n",
        "              # plt.imshow(cap)\n",
        "              # plt.show()\n",
        "              cv2.imwrite(f\" {Label+'-'+path.split('/')[-1].split('.')[0]} frame%d.jpg\" % f_img, cap) # save frame as JPEG file.\n",
        "              f_img =f_img+1\n",
        "              count = count+1\n",
        "          else:\n",
        "              count = count+1\n",
        "          \n",
        "      except:\n",
        "        count = count+1\n",
        "  print(f_img)\n",
        "  print(f'done dong doing {path}')\n",
        "    "
      ],
      "metadata": {
        "id": "mWvKbd3Cbwbm"
      },
      "execution_count": null,
      "outputs": []
    },
    {
      "cell_type": "code",
      "source": [
        "# testdf= testdf.sample(frac=1).reset_index()"
      ],
      "metadata": {
        "id": "rbeM_IAqKrrC"
      },
      "execution_count": null,
      "outputs": []
    },
    {
      "cell_type": "code",
      "source": [
        "import tqdm\n",
        "for i in range(len(df.Path)):\n",
        "  tqdm.tqdm(listframe(parentFolderTrain,df.Path[i], df.Label[i]))"
      ],
      "metadata": {
        "id": "X5zoYzqbmf4T",
        "colab": {
          "base_uri": "https://localhost:8080/"
        },
        "outputId": "5b3ae668-048e-427c-ef32-7e935759554d"
      },
      "execution_count": null,
      "outputs": [
        {
          "output_type": "stream",
          "name": "stdout",
          "text": [
            "/content/drive/MyDrive/OriginalFramesTrain/padmasan\n",
            "1421\n",
            "11\n",
            "/content/drive/MyDrive/OriginalFramesTrain/padmasan/padmasan-Rakesh_Padam\n",
            "128\n",
            "done dong doing /content/drive/MyDrive/dataset/padmasan/Rakesh_Padam.mp4\n"
          ]
        },
        {
          "output_type": "stream",
          "name": "stderr",
          "text": [
            "0it [00:00, ?it/s]"
          ]
        },
        {
          "output_type": "stream",
          "name": "stdout",
          "text": [
            "/content/drive/MyDrive/OriginalFramesTrain/trik\n",
            "1262\n",
            "9\n",
            "/content/drive/MyDrive/OriginalFramesTrain/trik/trik-Bhumi_Trik\n"
          ]
        },
        {
          "output_type": "stream",
          "name": "stderr",
          "text": [
            "\n"
          ]
        },
        {
          "output_type": "stream",
          "name": "stdout",
          "text": [
            "128\n",
            "done dong doing /content/drive/MyDrive/dataset/trik/Bhumi_Trik.mp4\n"
          ]
        },
        {
          "output_type": "stream",
          "name": "stderr",
          "text": [
            "0it [00:00, ?it/s]"
          ]
        },
        {
          "output_type": "stream",
          "name": "stdout",
          "text": [
            "/content/drive/MyDrive/OriginalFramesTrain/trik\n",
            "1332\n",
            "10\n",
            "/content/drive/MyDrive/OriginalFramesTrain/trik/trik-Abhay_Trik\n"
          ]
        },
        {
          "output_type": "stream",
          "name": "stderr",
          "text": [
            "\n"
          ]
        },
        {
          "output_type": "stream",
          "name": "stdout",
          "text": [
            "128\n",
            "done dong doing /content/drive/MyDrive/dataset/trik/Abhay_Trik.mp4\n"
          ]
        },
        {
          "output_type": "stream",
          "name": "stderr",
          "text": [
            "0it [00:00, ?it/s]"
          ]
        },
        {
          "output_type": "stream",
          "name": "stdout",
          "text": [
            "/content/drive/MyDrive/OriginalFramesTrain/bhujan\n",
            "1254\n",
            "9\n",
            "/content/drive/MyDrive/OriginalFramesTrain/bhujan/bhujan-lakshmi_bhujang\n"
          ]
        },
        {
          "output_type": "stream",
          "name": "stderr",
          "text": [
            "\n"
          ]
        },
        {
          "output_type": "stream",
          "name": "stdout",
          "text": [
            "128\n",
            "done dong doing /content/drive/MyDrive/dataset/bhujan/lakshmi_bhujang.mp4\n"
          ]
        },
        {
          "output_type": "stream",
          "name": "stderr",
          "text": [
            "0it [00:00, ?it/s]"
          ]
        },
        {
          "output_type": "stream",
          "name": "stdout",
          "text": [
            "/content/drive/MyDrive/OriginalFramesTrain/vriksh\n",
            "1231\n",
            "9\n",
            "/content/drive/MyDrive/OriginalFramesTrain/vriksh/vriksh-Pranshul_Vriksh\n"
          ]
        },
        {
          "output_type": "stream",
          "name": "stderr",
          "text": [
            "\n"
          ]
        },
        {
          "output_type": "stream",
          "name": "stdout",
          "text": [
            "128\n",
            "done dong doing /content/drive/MyDrive/dataset/vriksh/Pranshul_Vriksh.mp4\n"
          ]
        },
        {
          "output_type": "stream",
          "name": "stderr",
          "text": [
            "0it [00:00, ?it/s]"
          ]
        },
        {
          "output_type": "stream",
          "name": "stdout",
          "text": [
            "/content/drive/MyDrive/OriginalFramesTrain/vriksh\n",
            "1610\n",
            "12\n",
            "/content/drive/MyDrive/OriginalFramesTrain/vriksh/vriksh-Sarthak_Vriksh\n"
          ]
        },
        {
          "output_type": "stream",
          "name": "stderr",
          "text": [
            "\n"
          ]
        },
        {
          "output_type": "stream",
          "name": "stdout",
          "text": [
            "128\n",
            "done dong doing /content/drive/MyDrive/dataset/vriksh/Sarthak_Vriksh.mp4\n"
          ]
        },
        {
          "output_type": "stream",
          "name": "stderr",
          "text": [
            "0it [00:00, ?it/s]"
          ]
        },
        {
          "output_type": "stream",
          "name": "stdout",
          "text": [
            "/content/drive/MyDrive/OriginalFramesTrain/trik\n",
            "1179\n",
            "9\n",
            "/content/drive/MyDrive/OriginalFramesTrain/trik/trik-deepa_trikon\n"
          ]
        },
        {
          "output_type": "stream",
          "name": "stderr",
          "text": [
            "\n"
          ]
        },
        {
          "output_type": "stream",
          "name": "stdout",
          "text": [
            "128\n",
            "done dong doing /content/drive/MyDrive/dataset/trik/deepa_trikon.mp4\n"
          ]
        },
        {
          "output_type": "stream",
          "name": "stderr",
          "text": [
            "0it [00:00, ?it/s]"
          ]
        },
        {
          "output_type": "stream",
          "name": "stdout",
          "text": [
            "/content/drive/MyDrive/OriginalFramesTrain/padmasan\n",
            "1281\n",
            "10\n",
            "/content/drive/MyDrive/OriginalFramesTrain/padmasan/padmasan-veena_padmasan\n"
          ]
        },
        {
          "output_type": "stream",
          "name": "stderr",
          "text": [
            "\n"
          ]
        },
        {
          "output_type": "stream",
          "name": "stdout",
          "text": [
            "128\n",
            "done dong doing /content/drive/MyDrive/dataset/padmasan/veena_padmasan.mp4\n"
          ]
        },
        {
          "output_type": "stream",
          "name": "stderr",
          "text": [
            "0it [00:00, ?it/s]"
          ]
        },
        {
          "output_type": "stream",
          "name": "stdout",
          "text": [
            "/content/drive/MyDrive/OriginalFramesTrain/vriksh\n",
            "1727\n",
            "13\n",
            "/content/drive/MyDrive/OriginalFramesTrain/vriksh/vriksh-Dristi_Vriksh\n"
          ]
        },
        {
          "output_type": "stream",
          "name": "stderr",
          "text": [
            "\n"
          ]
        },
        {
          "output_type": "stream",
          "name": "stdout",
          "text": [
            "128\n",
            "done dong doing /content/drive/MyDrive/dataset/vriksh/Dristi_Vriksh.mp4\n"
          ]
        },
        {
          "output_type": "stream",
          "name": "stderr",
          "text": [
            "0it [00:00, ?it/s]"
          ]
        },
        {
          "output_type": "stream",
          "name": "stdout",
          "text": [
            "/content/drive/MyDrive/OriginalFramesTrain/padmasan\n",
            "767\n",
            "5\n",
            "/content/drive/MyDrive/OriginalFramesTrain/padmasan/padmasan-Santosh_Padam\n"
          ]
        },
        {
          "output_type": "stream",
          "name": "stderr",
          "text": [
            "\n"
          ]
        },
        {
          "output_type": "stream",
          "name": "stdout",
          "text": [
            "128\n",
            "done dong doing /content/drive/MyDrive/dataset/padmasan/Santosh_Padam.mp4\n"
          ]
        },
        {
          "output_type": "stream",
          "name": "stderr",
          "text": [
            "0it [00:00, ?it/s]"
          ]
        },
        {
          "output_type": "stream",
          "name": "stdout",
          "text": [
            "/content/drive/MyDrive/OriginalFramesTrain/bhujan\n",
            "1257\n",
            "9\n",
            "/content/drive/MyDrive/OriginalFramesTrain/bhujan/bhujan-deepa_bhujan\n"
          ]
        },
        {
          "output_type": "stream",
          "name": "stderr",
          "text": [
            "\n"
          ]
        },
        {
          "output_type": "stream",
          "name": "stdout",
          "text": [
            "128\n",
            "done dong doing /content/drive/MyDrive/dataset/bhujan/deepa_bhujan.mp4\n"
          ]
        },
        {
          "output_type": "stream",
          "name": "stderr",
          "text": [
            "0it [00:00, ?it/s]"
          ]
        },
        {
          "output_type": "stream",
          "name": "stdout",
          "text": [
            "/content/drive/MyDrive/OriginalFramesTrain/bhujan\n",
            "1263\n",
            "9\n",
            "/content/drive/MyDrive/OriginalFramesTrain/bhujan/bhujan-Kaustuk_Bhuj\n"
          ]
        },
        {
          "output_type": "stream",
          "name": "stderr",
          "text": [
            "\n"
          ]
        },
        {
          "output_type": "stream",
          "name": "stdout",
          "text": [
            "128\n",
            "done dong doing /content/drive/MyDrive/dataset/bhujan/Kaustuk_Bhuj.mp4\n"
          ]
        },
        {
          "output_type": "stream",
          "name": "stderr",
          "text": [
            "0it [00:00, ?it/s]"
          ]
        },
        {
          "output_type": "stream",
          "name": "stdout",
          "text": [
            "/content/drive/MyDrive/OriginalFramesTrain/padmasan\n",
            "1409\n",
            "11\n",
            "/content/drive/MyDrive/OriginalFramesTrain/padmasan/padmasan-Sarthak_padam\n"
          ]
        },
        {
          "output_type": "stream",
          "name": "stderr",
          "text": [
            "\n"
          ]
        },
        {
          "output_type": "stream",
          "name": "stdout",
          "text": [
            "128\n",
            "done dong doing /content/drive/MyDrive/dataset/padmasan/Sarthak_padam.mp4\n"
          ]
        },
        {
          "output_type": "stream",
          "name": "stderr",
          "text": [
            "0it [00:00, ?it/s]"
          ]
        },
        {
          "output_type": "stream",
          "name": "stdout",
          "text": [
            "/content/drive/MyDrive/OriginalFramesTrain/shav\n",
            "1764\n",
            "13\n",
            "/content/drive/MyDrive/OriginalFramesTrain/shav/shav-Dristi_Shav\n"
          ]
        },
        {
          "output_type": "stream",
          "name": "stderr",
          "text": [
            "\n"
          ]
        },
        {
          "output_type": "stream",
          "name": "stdout",
          "text": [
            "128\n",
            "done dong doing /content/drive/MyDrive/dataset/shav/Dristi_Shav.mp4\n"
          ]
        },
        {
          "output_type": "stream",
          "name": "stderr",
          "text": [
            "0it [00:00, ?it/s]"
          ]
        },
        {
          "output_type": "stream",
          "name": "stdout",
          "text": [
            "/content/drive/MyDrive/OriginalFramesTrain/shav\n",
            "1391\n",
            "10\n",
            "/content/drive/MyDrive/OriginalFramesTrain/shav/shav-Shiva_Shavasana\n"
          ]
        },
        {
          "output_type": "stream",
          "name": "stderr",
          "text": [
            "\n"
          ]
        },
        {
          "output_type": "stream",
          "name": "stdout",
          "text": [
            "128\n",
            "done dong doing /content/drive/MyDrive/dataset/shav/Shiva_Shavasana.mp4\n"
          ]
        },
        {
          "output_type": "stream",
          "name": "stderr",
          "text": [
            "0it [00:00, ?it/s]"
          ]
        },
        {
          "output_type": "stream",
          "name": "stdout",
          "text": [
            "/content/drive/MyDrive/OriginalFramesTrain/padmasan\n",
            "1280\n",
            "10\n",
            "/content/drive/MyDrive/OriginalFramesTrain/padmasan/padmasan-Harshav_Padam\n"
          ]
        },
        {
          "output_type": "stream",
          "name": "stderr",
          "text": [
            "\n"
          ]
        },
        {
          "output_type": "stream",
          "name": "stdout",
          "text": [
            "128\n",
            "done dong doing /content/drive/MyDrive/dataset/padmasan/Harshav_Padam.mp4\n"
          ]
        },
        {
          "output_type": "stream",
          "name": "stderr",
          "text": [
            "0it [00:00, ?it/s]"
          ]
        },
        {
          "output_type": "stream",
          "name": "stdout",
          "text": [
            "/content/drive/MyDrive/OriginalFramesTrain/shav\n",
            "929\n",
            "7\n",
            "/content/drive/MyDrive/OriginalFramesTrain/shav/shav-Santosh_Shav\n"
          ]
        },
        {
          "output_type": "stream",
          "name": "stderr",
          "text": [
            "\n"
          ]
        },
        {
          "output_type": "stream",
          "name": "stdout",
          "text": [
            "128\n",
            "done dong doing /content/drive/MyDrive/dataset/shav/Santosh_Shav.mp4\n"
          ]
        },
        {
          "output_type": "stream",
          "name": "stderr",
          "text": [
            "0it [00:00, ?it/s]"
          ]
        },
        {
          "output_type": "stream",
          "name": "stdout",
          "text": [
            "/content/drive/MyDrive/OriginalFramesTrain/shav\n",
            "1247\n",
            "9\n",
            "/content/drive/MyDrive/OriginalFramesTrain/shav/shav-Piyush_Shav\n"
          ]
        },
        {
          "output_type": "stream",
          "name": "stderr",
          "text": [
            "\n"
          ]
        },
        {
          "output_type": "stream",
          "name": "stdout",
          "text": [
            "128\n",
            "done dong doing /content/drive/MyDrive/dataset/shav/Piyush_Shav.mp4\n"
          ]
        },
        {
          "output_type": "stream",
          "name": "stderr",
          "text": [
            "0it [00:00, ?it/s]"
          ]
        },
        {
          "output_type": "stream",
          "name": "stdout",
          "text": [
            "/content/drive/MyDrive/OriginalFramesTrain/vriksh\n",
            "1560\n",
            "12\n",
            "/content/drive/MyDrive/OriginalFramesTrain/vriksh/vriksh-Rakesh_Vriksh\n"
          ]
        },
        {
          "output_type": "stream",
          "name": "stderr",
          "text": [
            "\n"
          ]
        },
        {
          "output_type": "stream",
          "name": "stdout",
          "text": [
            "128\n",
            "done dong doing /content/drive/MyDrive/dataset/vriksh/Rakesh_Vriksh.mp4\n"
          ]
        },
        {
          "output_type": "stream",
          "name": "stderr",
          "text": [
            "0it [00:00, ?it/s]"
          ]
        },
        {
          "output_type": "stream",
          "name": "stdout",
          "text": [
            "/content/drive/MyDrive/OriginalFramesTrain/shav\n",
            "1973\n",
            "15\n",
            "/content/drive/MyDrive/OriginalFramesTrain/shav/shav-Rakesh_Shav\n"
          ]
        },
        {
          "output_type": "stream",
          "name": "stderr",
          "text": [
            "\n"
          ]
        },
        {
          "output_type": "stream",
          "name": "stdout",
          "text": [
            "128\n",
            "done dong doing /content/drive/MyDrive/dataset/shav/Rakesh_Shav.mp4\n"
          ]
        },
        {
          "output_type": "stream",
          "name": "stderr",
          "text": [
            "0it [00:00, ?it/s]"
          ]
        },
        {
          "output_type": "stream",
          "name": "stdout",
          "text": [
            "/content/drive/MyDrive/OriginalFramesTrain/tadasana\n",
            "1232\n",
            "9\n",
            "/content/drive/MyDrive/OriginalFramesTrain/tadasana/tadasana-Pranshul_Tad\n"
          ]
        },
        {
          "output_type": "stream",
          "name": "stderr",
          "text": [
            "\n"
          ]
        },
        {
          "output_type": "stream",
          "name": "stdout",
          "text": [
            "128\n",
            "done dong doing /content/drive/MyDrive/dataset/tadasana/Pranshul_Tad.mp4\n"
          ]
        },
        {
          "output_type": "stream",
          "name": "stderr",
          "text": [
            "0it [00:00, ?it/s]"
          ]
        },
        {
          "output_type": "stream",
          "name": "stdout",
          "text": [
            "/content/drive/MyDrive/OriginalFramesTrain/vriksh\n",
            "1234\n",
            "9\n",
            "/content/drive/MyDrive/OriginalFramesTrain/vriksh/vriksh-Piyush_Vriksh\n"
          ]
        },
        {
          "output_type": "stream",
          "name": "stderr",
          "text": [
            "\n"
          ]
        },
        {
          "output_type": "stream",
          "name": "stdout",
          "text": [
            "128\n",
            "done dong doing /content/drive/MyDrive/dataset/vriksh/Piyush_Vriksh.mp4\n"
          ]
        },
        {
          "output_type": "stream",
          "name": "stderr",
          "text": [
            "0it [00:00, ?it/s]"
          ]
        },
        {
          "output_type": "stream",
          "name": "stdout",
          "text": [
            "/content/drive/MyDrive/OriginalFramesTrain/tadasana\n",
            "1521\n",
            "11\n",
            "/content/drive/MyDrive/OriginalFramesTrain/tadasana/tadasana-Abhay_Tada\n"
          ]
        },
        {
          "output_type": "stream",
          "name": "stderr",
          "text": [
            "\n"
          ]
        },
        {
          "output_type": "stream",
          "name": "stdout",
          "text": [
            "128\n",
            "done dong doing /content/drive/MyDrive/dataset/tadasana/Abhay_Tada.mp4\n"
          ]
        },
        {
          "output_type": "stream",
          "name": "stderr",
          "text": [
            "0it [00:00, ?it/s]"
          ]
        },
        {
          "output_type": "stream",
          "name": "stdout",
          "text": [
            "/content/drive/MyDrive/OriginalFramesTrain/shav\n",
            "1258\n",
            "9\n",
            "/content/drive/MyDrive/OriginalFramesTrain/shav/shav-deepa_shava\n"
          ]
        },
        {
          "output_type": "stream",
          "name": "stderr",
          "text": [
            "\n"
          ]
        },
        {
          "output_type": "stream",
          "name": "stdout",
          "text": [
            "128\n",
            "done dong doing /content/drive/MyDrive/dataset/shav/deepa_shava.mp4\n"
          ]
        },
        {
          "output_type": "stream",
          "name": "stderr",
          "text": [
            "0it [00:00, ?it/s]"
          ]
        },
        {
          "output_type": "stream",
          "name": "stdout",
          "text": [
            "/content/drive/MyDrive/OriginalFramesTrain/shav\n",
            "1592\n",
            "12\n",
            "/content/drive/MyDrive/OriginalFramesTrain/shav/shav-Ameya_Shav\n"
          ]
        },
        {
          "output_type": "stream",
          "name": "stderr",
          "text": [
            "\n"
          ]
        },
        {
          "output_type": "stream",
          "name": "stdout",
          "text": [
            "128\n",
            "done dong doing /content/drive/MyDrive/dataset/shav/Ameya_Shav.mp4\n"
          ]
        },
        {
          "output_type": "stream",
          "name": "stderr",
          "text": [
            "0it [00:00, ?it/s]"
          ]
        },
        {
          "output_type": "stream",
          "name": "stdout",
          "text": [
            "/content/drive/MyDrive/OriginalFramesTrain/shav\n",
            "1606\n",
            "12\n",
            "/content/drive/MyDrive/OriginalFramesTrain/shav/shav-Kaustuk_Shav\n"
          ]
        },
        {
          "output_type": "stream",
          "name": "stderr",
          "text": [
            "\n"
          ]
        },
        {
          "output_type": "stream",
          "name": "stdout",
          "text": [
            "128\n",
            "done dong doing /content/drive/MyDrive/dataset/shav/Kaustuk_Shav.mp4\n"
          ]
        },
        {
          "output_type": "stream",
          "name": "stderr",
          "text": [
            "0it [00:00, ?it/s]"
          ]
        },
        {
          "output_type": "stream",
          "name": "stdout",
          "text": [
            "/content/drive/MyDrive/OriginalFramesTrain/tadasana\n",
            "1266\n",
            "9\n",
            "/content/drive/MyDrive/OriginalFramesTrain/tadasana/tadasana-lakshmi_tadasan\n"
          ]
        },
        {
          "output_type": "stream",
          "name": "stderr",
          "text": [
            "\n"
          ]
        },
        {
          "output_type": "stream",
          "name": "stdout",
          "text": [
            "128\n",
            "done dong doing /content/drive/MyDrive/dataset/tadasana/lakshmi_tadasan.mp4\n"
          ]
        },
        {
          "output_type": "stream",
          "name": "stderr",
          "text": [
            "0it [00:00, ?it/s]"
          ]
        },
        {
          "output_type": "stream",
          "name": "stdout",
          "text": [
            "/content/drive/MyDrive/OriginalFramesTrain/trik\n",
            "1228\n",
            "9\n",
            "/content/drive/MyDrive/OriginalFramesTrain/trik/trik-Sarthak_Trik\n"
          ]
        },
        {
          "output_type": "stream",
          "name": "stderr",
          "text": [
            "\n"
          ]
        },
        {
          "output_type": "stream",
          "name": "stdout",
          "text": [
            "128\n",
            "done dong doing /content/drive/MyDrive/dataset/trik/Sarthak_Trik.mp4\n"
          ]
        },
        {
          "output_type": "stream",
          "name": "stderr",
          "text": [
            "0it [00:00, ?it/s]"
          ]
        },
        {
          "output_type": "stream",
          "name": "stdout",
          "text": [
            "/content/drive/MyDrive/OriginalFramesTrain/bhujan\n",
            "1413\n",
            "11\n",
            "/content/drive/MyDrive/OriginalFramesTrain/bhujan/bhujan-Ameya_Bhuj\n"
          ]
        },
        {
          "output_type": "stream",
          "name": "stderr",
          "text": [
            "\n"
          ]
        },
        {
          "output_type": "stream",
          "name": "stdout",
          "text": [
            "128\n",
            "done dong doing /content/drive/MyDrive/dataset/bhujan/Ameya_Bhuj.mp4\n"
          ]
        },
        {
          "output_type": "stream",
          "name": "stderr",
          "text": [
            "0it [00:00, ?it/s]"
          ]
        },
        {
          "output_type": "stream",
          "name": "stdout",
          "text": [
            "/content/drive/MyDrive/OriginalFramesTrain/tadasana\n",
            "1233\n",
            "9\n",
            "/content/drive/MyDrive/OriginalFramesTrain/tadasana/tadasana-Piyush_Tad\n"
          ]
        },
        {
          "output_type": "stream",
          "name": "stderr",
          "text": [
            "\n"
          ]
        },
        {
          "output_type": "stream",
          "name": "stdout",
          "text": [
            "128\n",
            "done dong doing /content/drive/MyDrive/dataset/tadasana/Piyush_Tad.mp4\n"
          ]
        },
        {
          "output_type": "stream",
          "name": "stderr",
          "text": [
            "0it [00:00, ?it/s]"
          ]
        },
        {
          "output_type": "stream",
          "name": "stdout",
          "text": [
            "/content/drive/MyDrive/OriginalFramesTrain/vriksh\n",
            "1253\n",
            "9\n",
            "/content/drive/MyDrive/OriginalFramesTrain/vriksh/vriksh-veena_vriksh\n"
          ]
        },
        {
          "output_type": "stream",
          "name": "stderr",
          "text": [
            "\n"
          ]
        },
        {
          "output_type": "stream",
          "name": "stdout",
          "text": [
            "128\n",
            "done dong doing /content/drive/MyDrive/dataset/vriksh/veena_vriksh.mp4\n"
          ]
        },
        {
          "output_type": "stream",
          "name": "stderr",
          "text": [
            "0it [00:00, ?it/s]"
          ]
        },
        {
          "output_type": "stream",
          "name": "stdout",
          "text": [
            "/content/drive/MyDrive/OriginalFramesTrain/tadasana\n",
            "1636\n",
            "12\n",
            "/content/drive/MyDrive/OriginalFramesTrain/tadasana/tadasana-Sarthak_Tada\n"
          ]
        },
        {
          "output_type": "stream",
          "name": "stderr",
          "text": [
            "\n"
          ]
        },
        {
          "output_type": "stream",
          "name": "stdout",
          "text": [
            "128\n",
            "done dong doing /content/drive/MyDrive/dataset/tadasana/Sarthak_Tada.mp4\n"
          ]
        },
        {
          "output_type": "stream",
          "name": "stderr",
          "text": [
            "0it [00:00, ?it/s]"
          ]
        },
        {
          "output_type": "stream",
          "name": "stdout",
          "text": [
            "/content/drive/MyDrive/OriginalFramesTrain/tadasana\n",
            "1291\n",
            "10\n",
            "/content/drive/MyDrive/OriginalFramesTrain/tadasana/tadasana-Shiva_Tadasana\n"
          ]
        },
        {
          "output_type": "stream",
          "name": "stderr",
          "text": [
            "\n"
          ]
        },
        {
          "output_type": "stream",
          "name": "stdout",
          "text": [
            "128\n",
            "done dong doing /content/drive/MyDrive/dataset/tadasana/Shiva_Tadasana.mp4\n"
          ]
        },
        {
          "output_type": "stream",
          "name": "stderr",
          "text": [
            "0it [00:00, ?it/s]"
          ]
        },
        {
          "output_type": "stream",
          "name": "stdout",
          "text": [
            "/content/drive/MyDrive/OriginalFramesTrain/bhujan\n",
            "1774\n",
            "13\n",
            "/content/drive/MyDrive/OriginalFramesTrain/bhujan/bhujan-Rakesh_Bhuj\n"
          ]
        },
        {
          "output_type": "stream",
          "name": "stderr",
          "text": [
            "\n"
          ]
        },
        {
          "output_type": "stream",
          "name": "stdout",
          "text": [
            "128\n",
            "done dong doing /content/drive/MyDrive/dataset/bhujan/Rakesh_Bhuj.mp4\n"
          ]
        },
        {
          "output_type": "stream",
          "name": "stderr",
          "text": [
            "0it [00:00, ?it/s]"
          ]
        },
        {
          "output_type": "stream",
          "name": "stdout",
          "text": [
            "/content/drive/MyDrive/OriginalFramesTrain/tadasana\n",
            "1548\n",
            "12\n",
            "/content/drive/MyDrive/OriginalFramesTrain/tadasana/tadasana-Rakesh_Tadasna\n"
          ]
        },
        {
          "output_type": "stream",
          "name": "stderr",
          "text": [
            "\n"
          ]
        },
        {
          "output_type": "stream",
          "name": "stdout",
          "text": [
            "128\n",
            "done dong doing /content/drive/MyDrive/dataset/tadasana/Rakesh_Tadasna.mp4\n"
          ]
        },
        {
          "output_type": "stream",
          "name": "stderr",
          "text": [
            "0it [00:00, ?it/s]"
          ]
        },
        {
          "output_type": "stream",
          "name": "stdout",
          "text": [
            "/content/drive/MyDrive/OriginalFramesTrain/vriksh\n",
            "1557\n",
            "12\n",
            "/content/drive/MyDrive/OriginalFramesTrain/vriksh/vriksh-Ameya_Vriksh\n"
          ]
        },
        {
          "output_type": "stream",
          "name": "stderr",
          "text": [
            "\n"
          ]
        },
        {
          "output_type": "stream",
          "name": "stdout",
          "text": [
            "128\n",
            "done dong doing /content/drive/MyDrive/dataset/vriksh/Ameya_Vriksh.mp4\n"
          ]
        },
        {
          "output_type": "stream",
          "name": "stderr",
          "text": [
            "0it [00:00, ?it/s]"
          ]
        },
        {
          "output_type": "stream",
          "name": "stdout",
          "text": [
            "/content/drive/MyDrive/OriginalFramesTrain/shav\n",
            "1345\n",
            "10\n",
            "/content/drive/MyDrive/OriginalFramesTrain/shav/shav-Veena_Shav\n"
          ]
        },
        {
          "output_type": "stream",
          "name": "stderr",
          "text": [
            "\n"
          ]
        },
        {
          "output_type": "stream",
          "name": "stdout",
          "text": [
            "128\n",
            "done dong doing /content/drive/MyDrive/dataset/shav/Veena_Shav.mp4\n"
          ]
        },
        {
          "output_type": "stream",
          "name": "stderr",
          "text": [
            "0it [00:00, ?it/s]"
          ]
        },
        {
          "output_type": "stream",
          "name": "stdout",
          "text": [
            "/content/drive/MyDrive/OriginalFramesTrain/trik\n",
            "1217\n",
            "9\n",
            "/content/drive/MyDrive/OriginalFramesTrain/trik/trik-Pranshul_Trik\n"
          ]
        },
        {
          "output_type": "stream",
          "name": "stderr",
          "text": [
            "\n"
          ]
        },
        {
          "output_type": "stream",
          "name": "stdout",
          "text": [
            "128\n",
            "done dong doing /content/drive/MyDrive/dataset/trik/Pranshul_Trik.mp4\n"
          ]
        },
        {
          "output_type": "stream",
          "name": "stderr",
          "text": [
            "0it [00:00, ?it/s]"
          ]
        },
        {
          "output_type": "stream",
          "name": "stdout",
          "text": [
            "/content/drive/MyDrive/OriginalFramesTrain/padmasan\n",
            "1322\n",
            "10\n",
            "/content/drive/MyDrive/OriginalFramesTrain/padmasan/padmasan-Shiv_Padam\n"
          ]
        },
        {
          "output_type": "stream",
          "name": "stderr",
          "text": [
            "\n"
          ]
        },
        {
          "output_type": "stream",
          "name": "stdout",
          "text": [
            "128\n",
            "done dong doing /content/drive/MyDrive/dataset/padmasan/Shiv_Padam.mp4\n"
          ]
        },
        {
          "output_type": "stream",
          "name": "stderr",
          "text": [
            "0it [00:00, ?it/s]"
          ]
        },
        {
          "output_type": "stream",
          "name": "stdout",
          "text": [
            "/content/drive/MyDrive/OriginalFramesTrain/bhujan\n",
            "818\n",
            "6\n",
            "/content/drive/MyDrive/OriginalFramesTrain/bhujan/bhujan-Santosh_Bhuj\n"
          ]
        },
        {
          "output_type": "stream",
          "name": "stderr",
          "text": [
            "\n"
          ]
        },
        {
          "output_type": "stream",
          "name": "stdout",
          "text": [
            "128\n",
            "done dong doing /content/drive/MyDrive/dataset/bhujan/Santosh_Bhuj.mp4\n"
          ]
        },
        {
          "output_type": "stream",
          "name": "stderr",
          "text": [
            "0it [00:00, ?it/s]"
          ]
        },
        {
          "output_type": "stream",
          "name": "stdout",
          "text": [
            "/content/drive/MyDrive/OriginalFramesTrain/bhujan\n",
            "932\n",
            "7\n",
            "/content/drive/MyDrive/OriginalFramesTrain/bhujan/bhujan-Santosh_Bhuj2\n"
          ]
        },
        {
          "output_type": "stream",
          "name": "stderr",
          "text": [
            "\n"
          ]
        },
        {
          "output_type": "stream",
          "name": "stdout",
          "text": [
            "128\n",
            "done dong doing /content/drive/MyDrive/dataset/bhujan/Santosh_Bhuj2.mp4\n"
          ]
        },
        {
          "output_type": "stream",
          "name": "stderr",
          "text": [
            "0it [00:00, ?it/s]"
          ]
        },
        {
          "output_type": "stream",
          "name": "stdout",
          "text": [
            "/content/drive/MyDrive/OriginalFramesTrain/vriksh\n",
            "1877\n",
            "14\n",
            "/content/drive/MyDrive/OriginalFramesTrain/vriksh/vriksh-Shiva_Vriksh\n"
          ]
        },
        {
          "output_type": "stream",
          "name": "stderr",
          "text": [
            "\n"
          ]
        },
        {
          "output_type": "stream",
          "name": "stdout",
          "text": [
            "128\n",
            "done dong doing /content/drive/MyDrive/dataset/vriksh/Shiva_Vriksh.mp4\n"
          ]
        },
        {
          "output_type": "stream",
          "name": "stderr",
          "text": [
            "0it [00:00, ?it/s]"
          ]
        },
        {
          "output_type": "stream",
          "name": "stdout",
          "text": [
            "/content/drive/MyDrive/OriginalFramesTrain/bhujan\n",
            "1140\n",
            "8\n",
            "/content/drive/MyDrive/OriginalFramesTrain/bhujan/bhujan-Sarthak_Bhuj\n"
          ]
        },
        {
          "output_type": "stream",
          "name": "stderr",
          "text": [
            "\n"
          ]
        },
        {
          "output_type": "stream",
          "name": "stdout",
          "text": [
            "128\n",
            "done dong doing /content/drive/MyDrive/dataset/bhujan/Sarthak_Bhuj.mp4\n"
          ]
        },
        {
          "output_type": "stream",
          "name": "stderr",
          "text": [
            "0it [00:00, ?it/s]"
          ]
        },
        {
          "output_type": "stream",
          "name": "stdout",
          "text": [
            "/content/drive/MyDrive/OriginalFramesTrain/vriksh\n",
            "1553\n",
            "12\n",
            "/content/drive/MyDrive/OriginalFramesTrain/vriksh/vriksh-Santosh_vriksh\n"
          ]
        },
        {
          "output_type": "stream",
          "name": "stderr",
          "text": [
            "\n"
          ]
        },
        {
          "output_type": "stream",
          "name": "stdout",
          "text": [
            "128\n",
            "done dong doing /content/drive/MyDrive/dataset/vriksh/Santosh_vriksh.mp4\n"
          ]
        },
        {
          "output_type": "stream",
          "name": "stderr",
          "text": [
            "0it [00:00, ?it/s]"
          ]
        },
        {
          "output_type": "stream",
          "name": "stdout",
          "text": [
            "/content/drive/MyDrive/OriginalFramesTrain/bhujan\n",
            "1468\n",
            "11\n",
            "/content/drive/MyDrive/OriginalFramesTrain/bhujan/bhujan-Harshav_Bhuj\n"
          ]
        },
        {
          "output_type": "stream",
          "name": "stderr",
          "text": [
            "\n"
          ]
        },
        {
          "output_type": "stream",
          "name": "stdout",
          "text": [
            "128\n",
            "done dong doing /content/drive/MyDrive/dataset/bhujan/Harshav_Bhuj.mp4\n"
          ]
        },
        {
          "output_type": "stream",
          "name": "stderr",
          "text": [
            "0it [00:00, ?it/s]"
          ]
        },
        {
          "output_type": "stream",
          "name": "stdout",
          "text": [
            "/content/drive/MyDrive/OriginalFramesTrain/trik\n",
            "1514\n",
            "11\n",
            "/content/drive/MyDrive/OriginalFramesTrain/trik/trik-Ameya_Trikonasana\n"
          ]
        },
        {
          "output_type": "stream",
          "name": "stderr",
          "text": [
            "\n"
          ]
        },
        {
          "output_type": "stream",
          "name": "stdout",
          "text": [
            "128\n",
            "done dong doing /content/drive/MyDrive/dataset/trik/Ameya_Trikonasana.mp4\n"
          ]
        },
        {
          "output_type": "stream",
          "name": "stderr",
          "text": [
            "0it [00:00, ?it/s]"
          ]
        },
        {
          "output_type": "stream",
          "name": "stdout",
          "text": [
            "/content/drive/MyDrive/OriginalFramesTrain/trik\n",
            "1457\n",
            "11\n",
            "/content/drive/MyDrive/OriginalFramesTrain/trik/trik-Rakesh_Trik\n"
          ]
        },
        {
          "output_type": "stream",
          "name": "stderr",
          "text": [
            "\n"
          ]
        },
        {
          "output_type": "stream",
          "name": "stdout",
          "text": [
            "128\n",
            "done dong doing /content/drive/MyDrive/dataset/trik/Rakesh_Trik.mp4\n"
          ]
        },
        {
          "output_type": "stream",
          "name": "stderr",
          "text": [
            "0it [00:00, ?it/s]"
          ]
        },
        {
          "output_type": "stream",
          "name": "stdout",
          "text": [
            "/content/drive/MyDrive/OriginalFramesTrain/bhujan\n",
            "545\n",
            "4\n",
            "/content/drive/MyDrive/OriginalFramesTrain/bhujan/bhujan-Abhay_Bhuj\n"
          ]
        },
        {
          "output_type": "stream",
          "name": "stderr",
          "text": [
            "\n"
          ]
        },
        {
          "output_type": "stream",
          "name": "stdout",
          "text": [
            "128\n",
            "done dong doing /content/drive/MyDrive/dataset/bhujan/Abhay_Bhuj.mp4\n"
          ]
        },
        {
          "output_type": "stream",
          "name": "stderr",
          "text": [
            "0it [00:00, ?it/s]"
          ]
        },
        {
          "output_type": "stream",
          "name": "stdout",
          "text": [
            "/content/drive/MyDrive/OriginalFramesTrain/tadasana\n",
            "1297\n",
            "10\n",
            "/content/drive/MyDrive/OriginalFramesTrain/tadasana/tadasana-veena_tadasna\n"
          ]
        },
        {
          "output_type": "stream",
          "name": "stderr",
          "text": [
            "\n"
          ]
        },
        {
          "output_type": "stream",
          "name": "stdout",
          "text": [
            "128\n",
            "done dong doing /content/drive/MyDrive/dataset/tadasana/veena_tadasna.mp4\n"
          ]
        },
        {
          "output_type": "stream",
          "name": "stderr",
          "text": [
            "0it [00:00, ?it/s]"
          ]
        },
        {
          "output_type": "stream",
          "name": "stdout",
          "text": [
            "/content/drive/MyDrive/OriginalFramesTrain/padmasan\n",
            "1330\n",
            "10\n",
            "/content/drive/MyDrive/OriginalFramesTrain/padmasan/padmasan-Bhumi_Padam\n"
          ]
        },
        {
          "output_type": "stream",
          "name": "stderr",
          "text": [
            "\n"
          ]
        },
        {
          "output_type": "stream",
          "name": "stdout",
          "text": [
            "128\n",
            "done dong doing /content/drive/MyDrive/dataset/padmasan/Bhumi_Padam.mp4\n"
          ]
        },
        {
          "output_type": "stream",
          "name": "stderr",
          "text": [
            "0it [00:00, ?it/s]"
          ]
        },
        {
          "output_type": "stream",
          "name": "stdout",
          "text": [
            "/content/drive/MyDrive/OriginalFramesTrain/tadasana\n",
            "1278\n",
            "9\n",
            "/content/drive/MyDrive/OriginalFramesTrain/tadasana/tadasana-Harshav_Tad\n"
          ]
        },
        {
          "output_type": "stream",
          "name": "stderr",
          "text": [
            "\n"
          ]
        },
        {
          "output_type": "stream",
          "name": "stdout",
          "text": [
            "128\n",
            "done dong doing /content/drive/MyDrive/dataset/tadasana/Harshav_Tad.mp4\n"
          ]
        },
        {
          "output_type": "stream",
          "name": "stderr",
          "text": [
            "0it [00:00, ?it/s]"
          ]
        },
        {
          "output_type": "stream",
          "name": "stdout",
          "text": [
            "/content/drive/MyDrive/OriginalFramesTrain/padmasan\n",
            "1258\n",
            "9\n",
            "/content/drive/MyDrive/OriginalFramesTrain/padmasan/padmasan-lakshmi_padam\n"
          ]
        },
        {
          "output_type": "stream",
          "name": "stderr",
          "text": [
            "\n"
          ]
        },
        {
          "output_type": "stream",
          "name": "stdout",
          "text": [
            "128\n",
            "done dong doing /content/drive/MyDrive/dataset/padmasan/lakshmi_padam.mp4\n"
          ]
        },
        {
          "output_type": "stream",
          "name": "stderr",
          "text": [
            "0it [00:00, ?it/s]\n"
          ]
        }
      ]
    },
    {
      "cell_type": "code",
      "source": [
        "import tqdm\n",
        "for i in range(len(testdf.Path)):\n",
        "  tqdm.tqdm(listframe(parentFolderTest,testdf.Path[i], testdf.Label[i]))"
      ],
      "metadata": {
        "colab": {
          "base_uri": "https://localhost:8080/"
        },
        "id": "JXpB9FxCegWt",
        "outputId": "023b6461-ba0b-4cdd-b770-4324b8a88be8"
      },
      "execution_count": null,
      "outputs": [
        {
          "output_type": "stream",
          "name": "stdout",
          "text": [
            "/content/drive/MyDrive/OriginalFolderTest/tadasana\n",
            "1234\n",
            "9\n",
            "/content/drive/MyDrive/OriginalFolderTest/tadasana/tadasana-Bhumi_Tad\n",
            "128\n",
            "done dong doing /content/drive/MyDrive/dataset/tadasana/Bhumi_Tad.mp4\n"
          ]
        },
        {
          "output_type": "stream",
          "name": "stderr",
          "text": [
            "0it [00:00, ?it/s]"
          ]
        },
        {
          "output_type": "stream",
          "name": "stdout",
          "text": [
            "/content/drive/MyDrive/OriginalFolderTest/vriksh\n"
          ]
        },
        {
          "output_type": "stream",
          "name": "stderr",
          "text": [
            "\n"
          ]
        },
        {
          "output_type": "stream",
          "name": "stdout",
          "text": [
            "1530\n",
            "11\n",
            "/content/drive/MyDrive/OriginalFolderTest/vriksh/vriksh-Bhumi_Vriksh\n",
            "128\n",
            "done dong doing /content/drive/MyDrive/dataset/vriksh/Bhumi_Vriksh.mp4\n"
          ]
        },
        {
          "output_type": "stream",
          "name": "stderr",
          "text": [
            "0it [00:00, ?it/s]"
          ]
        },
        {
          "output_type": "stream",
          "name": "stdout",
          "text": [
            "/content/drive/MyDrive/OriginalFolderTest/padmasan\n"
          ]
        },
        {
          "output_type": "stream",
          "name": "stderr",
          "text": [
            "\n"
          ]
        },
        {
          "output_type": "stream",
          "name": "stdout",
          "text": [
            "1338\n",
            "10\n",
            "/content/drive/MyDrive/OriginalFolderTest/padmasan/padmasan-Ameya_Padam\n",
            "128\n",
            "done dong doing /content/drive/MyDrive/dataset/padmasan/Ameya_Padam.mp4\n"
          ]
        },
        {
          "output_type": "stream",
          "name": "stderr",
          "text": [
            "0it [00:00, ?it/s]"
          ]
        },
        {
          "output_type": "stream",
          "name": "stdout",
          "text": [
            "/content/drive/MyDrive/OriginalFolderTest/shav\n"
          ]
        },
        {
          "output_type": "stream",
          "name": "stderr",
          "text": [
            "\n"
          ]
        },
        {
          "output_type": "stream",
          "name": "stdout",
          "text": [
            "1262\n",
            "9\n",
            "/content/drive/MyDrive/OriginalFolderTest/shav/shav-Harshav_Shav\n",
            "128\n",
            "done dong doing /content/drive/MyDrive/dataset/shav/Harshav_Shav.mp4\n"
          ]
        },
        {
          "output_type": "stream",
          "name": "stderr",
          "text": [
            "0it [00:00, ?it/s]"
          ]
        },
        {
          "output_type": "stream",
          "name": "stdout",
          "text": [
            "/content/drive/MyDrive/OriginalFolderTest/shav\n"
          ]
        },
        {
          "output_type": "stream",
          "name": "stderr",
          "text": [
            "\n"
          ]
        },
        {
          "output_type": "stream",
          "name": "stdout",
          "text": [
            "1352\n",
            "10\n",
            "/content/drive/MyDrive/OriginalFolderTest/shav/shav-Pranshul_Shav\n",
            "128\n",
            "done dong doing /content/drive/MyDrive/dataset/shav/Pranshul_Shav.mp4\n"
          ]
        },
        {
          "output_type": "stream",
          "name": "stderr",
          "text": [
            "0it [00:00, ?it/s]"
          ]
        },
        {
          "output_type": "stream",
          "name": "stdout",
          "text": [
            "/content/drive/MyDrive/OriginalFolderTest/trik\n"
          ]
        },
        {
          "output_type": "stream",
          "name": "stderr",
          "text": [
            "\n"
          ]
        },
        {
          "output_type": "stream",
          "name": "stdout",
          "text": [
            "1448\n",
            "11\n",
            "/content/drive/MyDrive/OriginalFolderTest/trik/trik-Harshav_Trikon\n",
            "128\n",
            "done dong doing /content/drive/MyDrive/dataset/trik/Harshav_Trikon.mp4\n"
          ]
        },
        {
          "output_type": "stream",
          "name": "stderr",
          "text": [
            "0it [00:00, ?it/s]"
          ]
        },
        {
          "output_type": "stream",
          "name": "stdout",
          "text": [
            "/content/drive/MyDrive/OriginalFolderTest/tadasana\n"
          ]
        },
        {
          "output_type": "stream",
          "name": "stderr",
          "text": [
            "\n"
          ]
        },
        {
          "output_type": "stream",
          "name": "stdout",
          "text": [
            "1294\n",
            "10\n",
            "/content/drive/MyDrive/OriginalFolderTest/tadasana/tadasana-Kaustuk_Tadasan\n",
            "128\n",
            "done dong doing /content/drive/MyDrive/dataset/tadasana/Kaustuk_Tadasan.mp4\n"
          ]
        },
        {
          "output_type": "stream",
          "name": "stderr",
          "text": [
            "0it [00:00, ?it/s]"
          ]
        },
        {
          "output_type": "stream",
          "name": "stdout",
          "text": [
            "/content/drive/MyDrive/OriginalFolderTest/tadasana\n"
          ]
        },
        {
          "output_type": "stream",
          "name": "stderr",
          "text": [
            "\n"
          ]
        },
        {
          "output_type": "stream",
          "name": "stdout",
          "text": [
            "1509\n",
            "11\n",
            "/content/drive/MyDrive/OriginalFolderTest/tadasana/tadasana-Dristi_Tadasan\n",
            "128\n",
            "done dong doing /content/drive/MyDrive/dataset/tadasana/Dristi_Tadasan.mp4\n"
          ]
        },
        {
          "output_type": "stream",
          "name": "stderr",
          "text": [
            "0it [00:00, ?it/s]"
          ]
        },
        {
          "output_type": "stream",
          "name": "stdout",
          "text": [
            "/content/drive/MyDrive/OriginalFolderTest/shav\n"
          ]
        },
        {
          "output_type": "stream",
          "name": "stderr",
          "text": [
            "\n"
          ]
        },
        {
          "output_type": "stream",
          "name": "stdout",
          "text": [
            "1239\n",
            "9\n",
            "/content/drive/MyDrive/OriginalFolderTest/shav/shav-Bhumi_Shav\n",
            "128\n",
            "done dong doing /content/drive/MyDrive/dataset/shav/Bhumi_Shav.mp4\n"
          ]
        },
        {
          "output_type": "stream",
          "name": "stderr",
          "text": [
            "0it [00:00, ?it/s]"
          ]
        },
        {
          "output_type": "stream",
          "name": "stdout",
          "text": [
            "/content/drive/MyDrive/OriginalFolderTest/bhujan\n"
          ]
        },
        {
          "output_type": "stream",
          "name": "stderr",
          "text": [
            "\n"
          ]
        },
        {
          "output_type": "stream",
          "name": "stdout",
          "text": [
            "1607\n",
            "12\n",
            "/content/drive/MyDrive/OriginalFolderTest/bhujan/bhujan-Dristi_Bhuj\n",
            "128\n",
            "done dong doing /content/drive/MyDrive/dataset/bhujan/Dristi_Bhuj.mp4\n"
          ]
        },
        {
          "output_type": "stream",
          "name": "stderr",
          "text": [
            "0it [00:00, ?it/s]"
          ]
        },
        {
          "output_type": "stream",
          "name": "stdout",
          "text": [
            "/content/drive/MyDrive/OriginalFolderTest/padmasan\n"
          ]
        },
        {
          "output_type": "stream",
          "name": "stderr",
          "text": [
            "\n"
          ]
        },
        {
          "output_type": "stream",
          "name": "stdout",
          "text": [
            "867\n",
            "6\n",
            "/content/drive/MyDrive/OriginalFolderTest/padmasan/padmasan-Abhay_Padam\n",
            "128\n",
            "done dong doing /content/drive/MyDrive/dataset/padmasan/Abhay_Padam.mp4\n"
          ]
        },
        {
          "output_type": "stream",
          "name": "stderr",
          "text": [
            "0it [00:00, ?it/s]"
          ]
        },
        {
          "output_type": "stream",
          "name": "stdout",
          "text": [
            "/content/drive/MyDrive/OriginalFolderTest/vriksh\n"
          ]
        },
        {
          "output_type": "stream",
          "name": "stderr",
          "text": [
            "\n"
          ]
        },
        {
          "output_type": "stream",
          "name": "stdout",
          "text": [
            "1462\n",
            "11\n",
            "/content/drive/MyDrive/OriginalFolderTest/vriksh/vriksh-Harshav_Vriksh\n",
            "128\n",
            "done dong doing /content/drive/MyDrive/dataset/vriksh/Harshav_Vriksh.mp4\n"
          ]
        },
        {
          "output_type": "stream",
          "name": "stderr",
          "text": [
            "0it [00:00, ?it/s]"
          ]
        },
        {
          "output_type": "stream",
          "name": "stdout",
          "text": [
            "/content/drive/MyDrive/OriginalFolderTest/trik\n"
          ]
        },
        {
          "output_type": "stream",
          "name": "stderr",
          "text": [
            "\n"
          ]
        },
        {
          "output_type": "stream",
          "name": "stdout",
          "text": [
            "1243\n",
            "9\n",
            "/content/drive/MyDrive/OriginalFolderTest/trik/trik-Santosh_Trik\n",
            "128\n",
            "done dong doing /content/drive/MyDrive/dataset/trik/Santosh_Trik.mp4\n"
          ]
        },
        {
          "output_type": "stream",
          "name": "stderr",
          "text": [
            "0it [00:00, ?it/s]"
          ]
        },
        {
          "output_type": "stream",
          "name": "stdout",
          "text": [
            "/content/drive/MyDrive/OriginalFolderTest/bhujan\n"
          ]
        },
        {
          "output_type": "stream",
          "name": "stderr",
          "text": [
            "\n"
          ]
        },
        {
          "output_type": "stream",
          "name": "stdout",
          "text": [
            "1897\n",
            "14\n",
            "/content/drive/MyDrive/OriginalFolderTest/bhujan/bhujan-Shiv_bhuj\n",
            "128\n",
            "done dong doing /content/drive/MyDrive/dataset/bhujan/Shiv_bhuj.mp4\n"
          ]
        },
        {
          "output_type": "stream",
          "name": "stderr",
          "text": [
            "0it [00:00, ?it/s]"
          ]
        },
        {
          "output_type": "stream",
          "name": "stdout",
          "text": [
            "/content/drive/MyDrive/OriginalFolderTest/bhujan\n"
          ]
        },
        {
          "output_type": "stream",
          "name": "stderr",
          "text": [
            "\n"
          ]
        },
        {
          "output_type": "stream",
          "name": "stdout",
          "text": [
            "1227\n",
            "9\n",
            "/content/drive/MyDrive/OriginalFolderTest/bhujan/bhujan-Bhumi_Bhuj\n",
            "128\n",
            "done dong doing /content/drive/MyDrive/dataset/bhujan/Bhumi_Bhuj.mp4\n"
          ]
        },
        {
          "output_type": "stream",
          "name": "stderr",
          "text": [
            "0it [00:00, ?it/s]"
          ]
        },
        {
          "output_type": "stream",
          "name": "stdout",
          "text": [
            "/content/drive/MyDrive/OriginalFolderTest/trik\n"
          ]
        },
        {
          "output_type": "stream",
          "name": "stderr",
          "text": [
            "\n"
          ]
        },
        {
          "output_type": "stream",
          "name": "stdout",
          "text": [
            "1383\n",
            "10\n",
            "/content/drive/MyDrive/OriginalFolderTest/trik/trik-Kaustuk_Trik\n",
            "128\n",
            "done dong doing /content/drive/MyDrive/dataset/trik/Kaustuk_Trik.mp4\n"
          ]
        },
        {
          "output_type": "stream",
          "name": "stderr",
          "text": [
            "0it [00:00, ?it/s]"
          ]
        },
        {
          "output_type": "stream",
          "name": "stdout",
          "text": [
            "/content/drive/MyDrive/OriginalFolderTest/padmasan\n"
          ]
        },
        {
          "output_type": "stream",
          "name": "stderr",
          "text": [
            "\n"
          ]
        },
        {
          "output_type": "stream",
          "name": "stdout",
          "text": [
            "1250\n",
            "9\n",
            "/content/drive/MyDrive/OriginalFolderTest/padmasan/padmasan-Piyush_Padam\n",
            "128\n",
            "done dong doing /content/drive/MyDrive/dataset/padmasan/Piyush_Padam.mp4\n"
          ]
        },
        {
          "output_type": "stream",
          "name": "stderr",
          "text": [
            "0it [00:00, ?it/s]"
          ]
        },
        {
          "output_type": "stream",
          "name": "stdout",
          "text": [
            "/content/drive/MyDrive/OriginalFolderTest/vriksh\n"
          ]
        },
        {
          "output_type": "stream",
          "name": "stderr",
          "text": [
            "\n"
          ]
        },
        {
          "output_type": "stream",
          "name": "stdout",
          "text": [
            "1344\n",
            "10\n",
            "/content/drive/MyDrive/OriginalFolderTest/vriksh/vriksh-Kaustuk_Vriksh\n",
            "128\n",
            "done dong doing /content/drive/MyDrive/dataset/vriksh/Kaustuk_Vriksh.mp4\n"
          ]
        },
        {
          "output_type": "stream",
          "name": "stderr",
          "text": [
            "0it [00:00, ?it/s]\n"
          ]
        }
      ]
    },
    {
      "cell_type": "code",
      "source": [
        "# import os\n",
        "# import time\n",
        "# parentFolder = '/content/drive/MyDrive/SagarVideosEachFrameFolder'\n",
        "# def listframe(path, Label):\n",
        "#   os.chdir(parentFolder)\n",
        "#   foldername = (Label).lower()\n",
        "#   # if os.path.exists(parentFolder+'/'+foldername):\n",
        "#   #   os.chdir(foldername)\n",
        "#   # else:\n",
        "#   #   os.mkdir(foldername)\n",
        "#   #   os.chdir(foldername)\n",
        "#   # path_fol = Label+'-'+path.split('/')[-1].split('.')[0]\n",
        "#   # print(os.getcwd())\n",
        "#   # if os.path.exists(parentFolder+'/'+path_fol):\n",
        "#   #   os.chdir(path_fol)\n",
        "#   # else:\n",
        "#   #   # os.rmdir(path_fol)\n",
        "#   #   os.mkdir(path_fol)\n",
        "#   #   os.chdir(path_fol)\n",
        "#   video = cv2.VideoCapture(path)\n",
        "#   frame_num = int(video.get(cv2.CAP_PROP_FRAME_COUNT))\n",
        "#   print(frame_num)\n",
        "#   print(int(frame_num /32)) \n",
        "#   f_img = 0\n",
        "#   print(os.getcwd())\n",
        "#   count = 0\n",
        "#   while (count<frame_num): \n",
        "#       try:\n",
        "#           success, cap = video.read()\n",
        "#           if count % (int(frame_num / 32)) == 0 and (f_img<32):\n",
        "#               # print(count)\n",
        "#               plt.imshow(cap)\n",
        "#               plt.show()\n",
        "#               # cv2.imwrite(f\" {Label+'-'+path.split('/')[-1].split('.')[0]} frame%d.jpg\" % f_img, cap) # save frame as JPEG file.\n",
        "#               f_img =f_img+1\n",
        "#               print(f_img)\n",
        "#               count = count+1\n",
        "#           else:\n",
        "#               count = count+1\n",
        "          \n",
        "#       except:\n",
        "#         count = count+1\n",
        "#   print(f'done dong doing {path}')\n",
        "    "
      ],
      "metadata": {
        "id": "wLeYf0J44dQ3"
      },
      "execution_count": null,
      "outputs": []
    },
    {
      "cell_type": "code",
      "source": [
        "# # import tqdm\n",
        "# tqdm.tqdm(listframe(testdf.Path[15], testdf.Label[15]))"
      ],
      "metadata": {
        "id": "0Cp2NTN_20Wi"
      },
      "execution_count": null,
      "outputs": []
    },
    {
      "cell_type": "code",
      "source": [],
      "metadata": {
        "id": "rlzr5if433I6"
      },
      "execution_count": null,
      "outputs": []
    },
    {
      "cell_type": "code",
      "source": [],
      "metadata": {
        "id": "7n8DnqXz3Wd-"
      },
      "execution_count": null,
      "outputs": []
    },
    {
      "cell_type": "code",
      "source": [],
      "metadata": {
        "id": "AcfqyrNV3ApB"
      },
      "execution_count": null,
      "outputs": []
    },
    {
      "cell_type": "code",
      "source": [],
      "metadata": {
        "id": "PhD4wola5KEG"
      },
      "execution_count": null,
      "outputs": []
    },
    {
      "cell_type": "code",
      "source": [],
      "metadata": {
        "id": "attzePp05KA-"
      },
      "execution_count": null,
      "outputs": []
    },
    {
      "cell_type": "code",
      "source": [],
      "metadata": {
        "id": "dQIcU9Vz5J-H"
      },
      "execution_count": null,
      "outputs": []
    },
    {
      "cell_type": "code",
      "source": [],
      "metadata": {
        "id": "5FWqXuyv5J6_"
      },
      "execution_count": null,
      "outputs": []
    },
    {
      "cell_type": "code",
      "source": [],
      "metadata": {
        "id": "43ShWBbR5J34"
      },
      "execution_count": null,
      "outputs": []
    },
    {
      "cell_type": "code",
      "source": [],
      "metadata": {
        "id": "c18yilF-5Jz9"
      },
      "execution_count": null,
      "outputs": []
    },
    {
      "cell_type": "code",
      "source": [],
      "metadata": {
        "id": "1cbmH0YK5JwV"
      },
      "execution_count": null,
      "outputs": []
    },
    {
      "cell_type": "code",
      "source": [
        "testpath = '/content/drive/MyDrive/OriginalFolderTest'\n",
        "trainpath = '/content/drive/MyDrive/OriginalFramesTrain'"
      ],
      "metadata": {
        "id": "llYUa1AU6K3r"
      },
      "execution_count": null,
      "outputs": []
    },
    {
      "cell_type": "code",
      "source": [
        "test_dirs = os.listdir(testpath)\n",
        "train_dirs = os.listdir(trainpath)"
      ],
      "metadata": {
        "id": "Bw_a0Cf_mhUX"
      },
      "execution_count": null,
      "outputs": []
    },
    {
      "cell_type": "code",
      "source": [
        "test_dirs, train_dirs"
      ],
      "metadata": {
        "id": "sUXwSDK7FX3X",
        "colab": {
          "base_uri": "https://localhost:8080/"
        },
        "outputId": "b0d0c996-9a16-41ab-ebc5-8793fcfc17de"
      },
      "execution_count": null,
      "outputs": [
        {
          "output_type": "execute_result",
          "data": {
            "text/plain": [
              "(['tadasana', 'vriksh', 'padmasan', 'shav', 'trik', 'bhujan'],\n",
              " ['padmasan', 'trik', 'bhujan', 'vriksh', 'shav', 'tadasana'])"
            ]
          },
          "metadata": {},
          "execution_count": 113
        }
      ]
    },
    {
      "cell_type": "code",
      "source": [
        "import random\n",
        "random.shuffle(test_dirs)\n",
        "random.shuffle(train_dirs)\n"
      ],
      "metadata": {
        "id": "j69Ep4TPAUGj"
      },
      "execution_count": null,
      "outputs": []
    },
    {
      "cell_type": "code",
      "source": [
        "cur_dirs = []"
      ],
      "metadata": {
        "id": "uvM1HCq-UkVg"
      },
      "execution_count": null,
      "outputs": []
    },
    {
      "cell_type": "code",
      "source": [],
      "metadata": {
        "id": "WLPWMiOgBBHL"
      },
      "execution_count": null,
      "outputs": []
    },
    {
      "cell_type": "code",
      "source": [
        "for each in train_dirs:\n",
        "  for path_fol in os.listdir(trainpath+'/'+each):\n",
        "      os.chdir(trainpath+'/'+each+'/'+path_fol)\n",
        "      cur_dir =  os.getcwd()\n",
        "      cur_dirs.append(cur_dir)\n",
        "\n",
        "    "
      ],
      "metadata": {
        "id": "aXCVgWj3NTFk"
      },
      "execution_count": null,
      "outputs": []
    },
    {
      "cell_type": "code",
      "source": [
        "print(cur_dirs)\n",
        "random.shuffle(cur_dirs)"
      ],
      "metadata": {
        "id": "GCUfSBI9UslF",
        "colab": {
          "base_uri": "https://localhost:8080/"
        },
        "outputId": "e2683533-f08a-41de-d652-58ffda7944ff"
      },
      "execution_count": null,
      "outputs": [
        {
          "output_type": "stream",
          "name": "stdout",
          "text": [
            "['/content/drive/MyDrive/OriginalFramesTrain/tadasana/tadasana-Pranshul_Tad', '/content/drive/MyDrive/OriginalFramesTrain/tadasana/tadasana-Abhay_Tada', '/content/drive/MyDrive/OriginalFramesTrain/tadasana/tadasana-lakshmi_tadasan', '/content/drive/MyDrive/OriginalFramesTrain/tadasana/tadasana-Piyush_Tad', '/content/drive/MyDrive/OriginalFramesTrain/tadasana/tadasana-Sarthak_Tada', '/content/drive/MyDrive/OriginalFramesTrain/tadasana/tadasana-Shiva_Tadasana', '/content/drive/MyDrive/OriginalFramesTrain/tadasana/tadasana-Rakesh_Tadasna', '/content/drive/MyDrive/OriginalFramesTrain/tadasana/tadasana-veena_tadasna', '/content/drive/MyDrive/OriginalFramesTrain/tadasana/tadasana-Harshav_Tad', '/content/drive/MyDrive/OriginalFramesTrain/trik/trik-Bhumi_Trik', '/content/drive/MyDrive/OriginalFramesTrain/trik/trik-Abhay_Trik', '/content/drive/MyDrive/OriginalFramesTrain/trik/trik-deepa_trikon', '/content/drive/MyDrive/OriginalFramesTrain/trik/trik-Sarthak_Trik', '/content/drive/MyDrive/OriginalFramesTrain/trik/trik-Pranshul_Trik', '/content/drive/MyDrive/OriginalFramesTrain/trik/trik-Ameya_Trikonasana', '/content/drive/MyDrive/OriginalFramesTrain/trik/trik-Rakesh_Trik', '/content/drive/MyDrive/OriginalFramesTrain/bhujan/bhujan-lakshmi_bhujang', '/content/drive/MyDrive/OriginalFramesTrain/bhujan/bhujan-deepa_bhujan', '/content/drive/MyDrive/OriginalFramesTrain/bhujan/bhujan-Kaustuk_Bhuj', '/content/drive/MyDrive/OriginalFramesTrain/bhujan/bhujan-Ameya_Bhuj', '/content/drive/MyDrive/OriginalFramesTrain/bhujan/bhujan-Rakesh_Bhuj', '/content/drive/MyDrive/OriginalFramesTrain/bhujan/bhujan-Santosh_Bhuj', '/content/drive/MyDrive/OriginalFramesTrain/bhujan/bhujan-Santosh_Bhuj2', '/content/drive/MyDrive/OriginalFramesTrain/bhujan/bhujan-Sarthak_Bhuj', '/content/drive/MyDrive/OriginalFramesTrain/bhujan/bhujan-Harshav_Bhuj', '/content/drive/MyDrive/OriginalFramesTrain/bhujan/bhujan-Abhay_Bhuj', '/content/drive/MyDrive/OriginalFramesTrain/shav/shav-Dristi_Shav', '/content/drive/MyDrive/OriginalFramesTrain/shav/shav-Shiva_Shavasana', '/content/drive/MyDrive/OriginalFramesTrain/shav/shav-Santosh_Shav', '/content/drive/MyDrive/OriginalFramesTrain/shav/shav-Piyush_Shav', '/content/drive/MyDrive/OriginalFramesTrain/shav/shav-Rakesh_Shav', '/content/drive/MyDrive/OriginalFramesTrain/shav/shav-deepa_shava', '/content/drive/MyDrive/OriginalFramesTrain/shav/shav-Ameya_Shav', '/content/drive/MyDrive/OriginalFramesTrain/shav/shav-Kaustuk_Shav', '/content/drive/MyDrive/OriginalFramesTrain/shav/shav-Veena_Shav', '/content/drive/MyDrive/OriginalFramesTrain/vriksh/vriksh-Pranshul_Vriksh', '/content/drive/MyDrive/OriginalFramesTrain/vriksh/vriksh-Sarthak_Vriksh', '/content/drive/MyDrive/OriginalFramesTrain/vriksh/vriksh-Dristi_Vriksh', '/content/drive/MyDrive/OriginalFramesTrain/vriksh/vriksh-Rakesh_Vriksh', '/content/drive/MyDrive/OriginalFramesTrain/vriksh/vriksh-Piyush_Vriksh', '/content/drive/MyDrive/OriginalFramesTrain/vriksh/vriksh-veena_vriksh', '/content/drive/MyDrive/OriginalFramesTrain/vriksh/vriksh-Ameya_Vriksh', '/content/drive/MyDrive/OriginalFramesTrain/vriksh/vriksh-Shiva_Vriksh', '/content/drive/MyDrive/OriginalFramesTrain/vriksh/vriksh-Santosh_vriksh', '/content/drive/MyDrive/OriginalFramesTrain/padmasan/padmasan-Rakesh_Padam', '/content/drive/MyDrive/OriginalFramesTrain/padmasan/padmasan-veena_padmasan', '/content/drive/MyDrive/OriginalFramesTrain/padmasan/padmasan-Santosh_Padam', '/content/drive/MyDrive/OriginalFramesTrain/padmasan/padmasan-Sarthak_padam', '/content/drive/MyDrive/OriginalFramesTrain/padmasan/padmasan-Harshav_Padam', '/content/drive/MyDrive/OriginalFramesTrain/padmasan/padmasan-Shiv_Padam', '/content/drive/MyDrive/OriginalFramesTrain/padmasan/padmasan-Bhumi_Padam', '/content/drive/MyDrive/OriginalFramesTrain/padmasan/padmasan-lakshmi_padam']\n"
          ]
        }
      ]
    },
    {
      "cell_type": "code",
      "source": [
        "images_path = []\n",
        "labels = []\n",
        "\n",
        "for each in cur_dirs:\n",
        "  os.chdir(each)\n",
        "  for k in os.listdir(each):\n",
        "    images_path.append(each+'/'+k)\n",
        "    labels.append(each.split('/')[-2])\n"
      ],
      "metadata": {
        "id": "_hdNna49Fkep"
      },
      "execution_count": null,
      "outputs": []
    },
    {
      "cell_type": "code",
      "source": [
        "import pandas as pd\n",
        "df = pd.DataFrame(list(zip(images_path, labels)), columns = ['path', 'label'])"
      ],
      "metadata": {
        "id": "JLqQFEZJPP9W"
      },
      "execution_count": null,
      "outputs": []
    },
    {
      "cell_type": "code",
      "source": [
        "len(df) /128"
      ],
      "metadata": {
        "id": "xXwNB7o49Q16",
        "colab": {
          "base_uri": "https://localhost:8080/"
        },
        "outputId": "8a48b015-5664-4a4b-aa72-8954a914b3d9"
      },
      "execution_count": null,
      "outputs": [
        {
          "output_type": "execute_result",
          "data": {
            "text/plain": [
              "52.0"
            ]
          },
          "metadata": {},
          "execution_count": 120
        }
      ]
    },
    {
      "cell_type": "code",
      "source": [
        "# df = df.sample(frac=1)"
      ],
      "metadata": {
        "id": "-AhehU34468N"
      },
      "execution_count": null,
      "outputs": []
    },
    {
      "cell_type": "code",
      "source": [
        "os.chdir('/content/drive/MyDrive/dataset')"
      ],
      "metadata": {
        "id": "ORkCfg2EGSe7"
      },
      "execution_count": null,
      "outputs": []
    },
    {
      "cell_type": "code",
      "source": [
        "df.to_csv('origianltraindf_image_path.csv')"
      ],
      "metadata": {
        "id": "EEc6Klv5GZi1"
      },
      "execution_count": null,
      "outputs": []
    },
    {
      "cell_type": "code",
      "source": [
        "!pwd"
      ],
      "metadata": {
        "id": "4983NZGoGgf_",
        "colab": {
          "base_uri": "https://localhost:8080/"
        },
        "outputId": "d44d927a-914c-464e-ea68-278c9ee474bb"
      },
      "execution_count": null,
      "outputs": [
        {
          "output_type": "stream",
          "name": "stdout",
          "text": [
            "/content/drive/MyDrive/dataset\n"
          ]
        }
      ]
    },
    {
      "cell_type": "code",
      "source": [
        "len(df) / 32"
      ],
      "metadata": {
        "id": "YpRS7f7SGk67",
        "colab": {
          "base_uri": "https://localhost:8080/"
        },
        "outputId": "0e1bbba9-3e5c-4d2a-9381-54f3511bbc44"
      },
      "execution_count": null,
      "outputs": [
        {
          "output_type": "execute_result",
          "data": {
            "text/plain": [
              "208.0"
            ]
          },
          "metadata": {},
          "execution_count": 125
        }
      ]
    },
    {
      "cell_type": "code",
      "source": [],
      "metadata": {
        "id": "raJwtTHgj7V0"
      },
      "execution_count": null,
      "outputs": []
    }
  ]
}