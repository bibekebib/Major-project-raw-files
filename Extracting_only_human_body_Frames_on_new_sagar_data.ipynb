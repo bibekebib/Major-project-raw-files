{
  "nbformat": 4,
  "nbformat_minor": 0,
  "metadata": {
    "colab": {
      "provenance": [],
      "mount_file_id": "1kg938jfXtIF1bmykY1rFRIV5ImxIic6v",
      "authorship_tag": "ABX9TyMsQ00xwFjGtVXiG5CobWu9",
      "include_colab_link": true
    },
    "kernelspec": {
      "name": "python3",
      "display_name": "Python 3"
    },
    "language_info": {
      "name": "python"
    },
    "gpuClass": "standard"
  },
  "cells": [
    {
      "cell_type": "markdown",
      "metadata": {
        "id": "view-in-github",
        "colab_type": "text"
      },
      "source": [
        "<a href=\"https://colab.research.google.com/github/bibekebib/Major-project-raw-files/blob/main/Extracting_only_human_body_Frames_on_new_sagar_data.ipynb\" target=\"_parent\"><img src=\"https://colab.research.google.com/assets/colab-badge.svg\" alt=\"Open In Colab\"/></a>"
      ]
    },
    {
      "cell_type": "code",
      "source": [
        "from google.colab import drive\n",
        "drive.mount('/content/drive')\n"
      ],
      "metadata": {
        "id": "UWMcpTB5vnUi",
        "colab": {
          "base_uri": "https://localhost:8080/"
        },
        "outputId": "51288f3e-d7b5-4708-cc02-3411ffc3873e"
      },
      "execution_count": null,
      "outputs": [
        {
          "output_type": "stream",
          "name": "stdout",
          "text": [
            "Mounted at /content/drive\n"
          ]
        }
      ]
    },
    {
      "cell_type": "code",
      "source": [
        "dataset_path = '/content/drive/MyDrive/dataset'"
      ],
      "metadata": {
        "id": "uILOoRcKv330"
      },
      "execution_count": null,
      "outputs": []
    },
    {
      "cell_type": "code",
      "source": [
        "from glob import glob\n",
        "import pandas as pd\n",
        "import cv2 as cv2\n",
        "import matplotlib.pyplot as plt\n",
        "import os\n",
        "import numpy as np\n",
        "import torch"
      ],
      "metadata": {
        "id": "lCZty5b9v-v5"
      },
      "execution_count": null,
      "outputs": []
    },
    {
      "cell_type": "code",
      "source": [
        "testdf = pd.read_csv(dataset_path+'/df_sagar.csv')"
      ],
      "metadata": {
        "id": "p2oDrRX2Od3i"
      },
      "execution_count": null,
      "outputs": []
    },
    {
      "cell_type": "code",
      "source": [
        "testdf.Label.unique()"
      ],
      "metadata": {
        "id": "h1rYHS4j0bTF",
        "colab": {
          "base_uri": "https://localhost:8080/"
        },
        "outputId": "83896c78-c819-4edb-8c95-4860f18eddaa"
      },
      "execution_count": null,
      "outputs": [
        {
          "output_type": "execute_result",
          "data": {
            "text/plain": [
              "array(['brikshasana', 'trikonasana', 'cat_cow'], dtype=object)"
            ]
          },
          "metadata": {},
          "execution_count": 5
        }
      ]
    },
    {
      "cell_type": "code",
      "source": [
        "# def label_mapping(label):\n",
        "#   mapp = {'vriksh':0, 'bhujan':1}\n",
        "#   return mapp[label]"
      ],
      "metadata": {
        "id": "JmM3jpL7u2IN"
      },
      "execution_count": null,
      "outputs": []
    },
    {
      "cell_type": "code",
      "source": [
        "# label_mapping('bhujan')"
      ],
      "metadata": {
        "id": "3qEBjoZUwNgz"
      },
      "execution_count": null,
      "outputs": []
    },
    {
      "cell_type": "code",
      "source": [
        "# #Read frame number 53 of each video:\n",
        "# frame_number=93 #random\n",
        "# import cv2\n",
        "# def showFrame(path):\n",
        "#     cap = cv2.VideoCapture(path)\n",
        "#     cap.set(1, frame_number)\n",
        "#     res, frame = cap.read()\n",
        "#     print(f'Before conversion to grayscale {frame.shape}')\n",
        "#     frame = cv2.cvtColor(frame, cv2.COLOR_RGB2GRAY)\n",
        "#     print(f'afer conversion to grayscale {frame.shape} ')\n",
        "#     frame = frame[30:700,200:1050]\n",
        "#     frame.tolist()\n",
        "#     print(frame/255)\n",
        "#     # plt.title(path.split('/')[-2])\n",
        "#     # plt.axis(False)\n",
        "#     # plt.show()"
      ],
      "metadata": {
        "id": "9Kb8x4YNPyo_"
      },
      "execution_count": null,
      "outputs": []
    },
    {
      "cell_type": "code",
      "source": [
        "# showFrame(testdf.Path[2])"
      ],
      "metadata": {
        "id": "gnmXkiJqR7dI"
      },
      "execution_count": null,
      "outputs": []
    },
    {
      "cell_type": "code",
      "source": [
        "# padding_frame = 1500\n",
        "# video = cv2.VideoCapture(testdf.Path[0])\n",
        "\n",
        "# count = 0\n",
        "# testlist = []\n",
        "# while (count < padding_frame):\n",
        "#   success, cap = video.read()\n",
        "#   testlist.append(cap)\n",
        "#   count =+1\n"
      ],
      "metadata": {
        "id": "KoODrX4vhSIw"
      },
      "execution_count": null,
      "outputs": []
    },
    {
      "cell_type": "code",
      "source": [
        "testdf.Path[0].split('/')[-2]"
      ],
      "metadata": {
        "colab": {
          "base_uri": "https://localhost:8080/",
          "height": 35
        },
        "id": "uwGyynAZON0S",
        "outputId": "9bc80751-bf68-4a13-a71a-e9746bdb2621"
      },
      "execution_count": null,
      "outputs": [
        {
          "output_type": "execute_result",
          "data": {
            "text/plain": [
              "'brikshasana'"
            ],
            "application/vnd.google.colaboratory.intrinsic+json": {
              "type": "string"
            }
          },
          "metadata": {},
          "execution_count": 11
        }
      ]
    },
    {
      "cell_type": "code",
      "source": [
        "(testdf.Label[0]+'-'+testdf.Path[0].split('/')[-1].split('.')[0]).lower()"
      ],
      "metadata": {
        "id": "-oqcoX4Hn1ni",
        "colab": {
          "base_uri": "https://localhost:8080/",
          "height": 35
        },
        "outputId": "8fec0474-6aa8-4ec1-aef0-ce01f208f527"
      },
      "execution_count": null,
      "outputs": [
        {
          "output_type": "execute_result",
          "data": {
            "text/plain": [
              "'brikshasana-2_01'"
            ],
            "application/vnd.google.colaboratory.intrinsic+json": {
              "type": "string"
            }
          },
          "metadata": {},
          "execution_count": 12
        }
      ]
    },
    {
      "cell_type": "code",
      "source": [
        "import torch"
      ],
      "metadata": {
        "id": "bOXHgWqNx3qd"
      },
      "execution_count": null,
      "outputs": []
    },
    {
      "cell_type": "code",
      "source": [
        "(testdf.Label[0]+'-'+testdf.Path[0].split('/')[-1].split('.')[0]).lower()"
      ],
      "metadata": {
        "colab": {
          "base_uri": "https://localhost:8080/",
          "height": 35
        },
        "id": "GKN7ubrSB8px",
        "outputId": "a2441b08-8909-40ec-9a32-e3f2f6918213"
      },
      "execution_count": null,
      "outputs": [
        {
          "output_type": "execute_result",
          "data": {
            "text/plain": [
              "'brikshasana-2_01'"
            ],
            "application/vnd.google.colaboratory.intrinsic+json": {
              "type": "string"
            }
          },
          "metadata": {},
          "execution_count": 14
        }
      ]
    },
    {
      "cell_type": "code",
      "source": [
        "# xml_file = '/content/haar-cascade-files/haarcascade_fullbody.xml'\n",
        "# body_cascade = cv2.CascadeClassifier(xml_file)"
      ],
      "metadata": {
        "id": "6R8w3LWHvVei"
      },
      "execution_count": null,
      "outputs": []
    },
    {
      "cell_type": "code",
      "source": [
        "padding_frame = 550\n",
        "import os\n",
        "parentFolder = '/content/drive/MyDrive/NewDataset'\n",
        "def listframe(path, Label):\n",
        "  os.chdir(parentFolder)\n",
        "  foldername = (Label).lower()\n",
        "  count = 0\n",
        "  X_st = 30\n",
        "  X_en = 700\n",
        "  Y_st = 200\n",
        "  Y_en = 1050\n",
        "  Img_Size_X = X_en - X_st\n",
        "  Img_Size_y = -Y_st + Y_en\n",
        "  # frames = torch.empty(1, Img_Size_X, Img_Size_y)\n",
        "  \n",
        "  # testlist = []\n",
        "  if os.path.exists(parentFolder+'/'+foldername):\n",
        "    # os.rmdir(foldername)\n",
        "    os.chdir(foldername)\n",
        "  else:\n",
        "    os.mkdir(foldername)\n",
        "    os.chdir(foldername)\n",
        "  # print('ok')\n",
        "  video = cv2.VideoCapture(path)\n",
        "  frame_num = int(video.get(cv2.CAP_PROP_FRAME_COUNT))\n",
        "  print(frame_num) \n",
        "  f_img = 0\n",
        "  # frames = torch.empty()\n",
        "  # label = label_mapping(Label)\n",
        "  print((frame_num / 32))\n",
        "  while (count<padding_frame): \n",
        "\n",
        "        if count % (int(frame_num / 32)) == 0 and (f_img <32):\n",
        "          \n",
        "            \n",
        "            success, cap = video.read()\n",
        "            \n",
        "\n",
        "            # cap = cv2.cvtColor(cap, cv2.COLOR_RGB2GRAY)\n",
        "            # cap = cap[X_st:X_en,Y_st:Y_en]\n",
        "            # plt.imshow(cap)\n",
        "            # body = body_cascade.detectMultiScale(cap)\n",
        "            # for (x, y,w, h) in body:\n",
        "\n",
        "              # cap = cap[x-5:x+y+5, w-5:w+h+5]\n",
        "              # plt.imshow(cap)\n",
        "            # cap = cv2.resize(cap, (224,224))\n",
        "\n",
        "            cv2.imwrite(f\" {Label+'-'+path.split('/')[-1].split('.')[0]} frame%d.jpg\" % f_img, cap) # save frame as JPEG file.\n",
        "            f_img =f_img+1\n",
        "            # print(frames)\n",
        "            # print(count)\n",
        "            count = count+1\n",
        "        else:\n",
        "          pass\n",
        "        count = count+1\n",
        "\n",
        "    # with  open(f'{foldername}.txt', 'w') as f:\n",
        "      # # f.write(frames)\n",
        "      # for each in frames:\n",
        "      #   # print(each)\n",
        "      # print(frames)\n",
        "      #   f.write(each)\n",
        "      # np.save('/', np.array(frames))\n",
        "  # print(frames[0].shape)\n",
        "  # plt.imshow(frames[0])\n",
        "  print(f'done dong doing {path}')\n",
        "  # torch.save(frames, f'{foldername}.pt')\n",
        "    "
      ],
      "metadata": {
        "id": "mWvKbd3Cbwbm"
      },
      "execution_count": null,
      "outputs": []
    },
    {
      "cell_type": "code",
      "source": [
        "import tqdm\n",
        "for i in range(len(testdf.Path)):\n",
        "  tqdm.tqdm(listframe(testdf.Path[i], testdf.Label[i]))"
      ],
      "metadata": {
        "id": "X5zoYzqbmf4T",
        "colab": {
          "base_uri": "https://localhost:8080/"
        },
        "outputId": "43c56f16-afd4-4010-90e6-771df8a1be5d"
      },
      "execution_count": null,
      "outputs": [
        {
          "output_type": "stream",
          "name": "stdout",
          "text": [
            "93\n",
            "2.90625\n",
            "done dong doing /content/drive/MyDrive/sagar/brikshasana/2_01.mp4\n"
          ]
        },
        {
          "output_type": "stream",
          "name": "stderr",
          "text": [
            "0it [00:00, ?it/s]"
          ]
        },
        {
          "output_type": "stream",
          "name": "stdout",
          "text": [
            "252\n",
            "7.875\n"
          ]
        },
        {
          "output_type": "stream",
          "name": "stderr",
          "text": [
            "\n"
          ]
        },
        {
          "output_type": "stream",
          "name": "stdout",
          "text": [
            "done dong doing /content/drive/MyDrive/sagar/brikshasana/2_02.mp4\n"
          ]
        },
        {
          "output_type": "stream",
          "name": "stderr",
          "text": [
            "0it [00:00, ?it/s]"
          ]
        },
        {
          "output_type": "stream",
          "name": "stdout",
          "text": [
            "44\n",
            "1.375\n"
          ]
        },
        {
          "output_type": "stream",
          "name": "stderr",
          "text": [
            "\n"
          ]
        },
        {
          "output_type": "stream",
          "name": "stdout",
          "text": [
            "done dong doing /content/drive/MyDrive/sagar/brikshasana/2_03.mp4\n"
          ]
        },
        {
          "output_type": "stream",
          "name": "stderr",
          "text": [
            "0it [00:00, ?it/s]"
          ]
        },
        {
          "output_type": "stream",
          "name": "stdout",
          "text": [
            "90\n",
            "2.8125\n"
          ]
        },
        {
          "output_type": "stream",
          "name": "stderr",
          "text": [
            "\n"
          ]
        },
        {
          "output_type": "stream",
          "name": "stdout",
          "text": [
            "done dong doing /content/drive/MyDrive/sagar/brikshasana/2_04.mp4\n"
          ]
        },
        {
          "output_type": "stream",
          "name": "stderr",
          "text": [
            "0it [00:00, ?it/s]"
          ]
        },
        {
          "output_type": "stream",
          "name": "stdout",
          "text": [
            "186\n",
            "5.8125\n"
          ]
        },
        {
          "output_type": "stream",
          "name": "stderr",
          "text": [
            "\n"
          ]
        },
        {
          "output_type": "stream",
          "name": "stdout",
          "text": [
            "done dong doing /content/drive/MyDrive/sagar/brikshasana/2_05.mp4\n"
          ]
        },
        {
          "output_type": "stream",
          "name": "stderr",
          "text": [
            "0it [00:00, ?it/s]"
          ]
        },
        {
          "output_type": "stream",
          "name": "stdout",
          "text": [
            "54\n",
            "1.6875\n"
          ]
        },
        {
          "output_type": "stream",
          "name": "stderr",
          "text": [
            "\n"
          ]
        },
        {
          "output_type": "stream",
          "name": "stdout",
          "text": [
            "done dong doing /content/drive/MyDrive/sagar/brikshasana/2_06.mp4\n"
          ]
        },
        {
          "output_type": "stream",
          "name": "stderr",
          "text": [
            "0it [00:00, ?it/s]\n"
          ]
        },
        {
          "output_type": "stream",
          "name": "stdout",
          "text": [
            "0\n",
            "0.0\n",
            "done dong doing /content/drive/MyDrive/sagar/brikshasana/2_07.mp4\n"
          ]
        },
        {
          "output_type": "stream",
          "name": "stderr",
          "text": [
            "0it [00:00, ?it/s]"
          ]
        },
        {
          "output_type": "stream",
          "name": "stdout",
          "text": [
            "227\n",
            "7.09375\n"
          ]
        },
        {
          "output_type": "stream",
          "name": "stderr",
          "text": [
            "\n"
          ]
        },
        {
          "output_type": "stream",
          "name": "stdout",
          "text": [
            "done dong doing /content/drive/MyDrive/sagar/brikshasana/2_08.mp4\n"
          ]
        },
        {
          "output_type": "stream",
          "name": "stderr",
          "text": [
            "0it [00:00, ?it/s]"
          ]
        },
        {
          "output_type": "stream",
          "name": "stdout",
          "text": [
            "575\n",
            "17.96875\n"
          ]
        },
        {
          "output_type": "stream",
          "name": "stderr",
          "text": [
            "\n"
          ]
        },
        {
          "output_type": "stream",
          "name": "stdout",
          "text": [
            "done dong doing /content/drive/MyDrive/sagar/trikonasana/1_01.mp4\n"
          ]
        },
        {
          "output_type": "stream",
          "name": "stderr",
          "text": [
            "0it [00:00, ?it/s]"
          ]
        },
        {
          "output_type": "stream",
          "name": "stdout",
          "text": [
            "114\n",
            "3.5625\n"
          ]
        },
        {
          "output_type": "stream",
          "name": "stderr",
          "text": [
            "\n"
          ]
        },
        {
          "output_type": "stream",
          "name": "stdout",
          "text": [
            "done dong doing /content/drive/MyDrive/sagar/trikonasana/1_02.mp4\n"
          ]
        },
        {
          "output_type": "stream",
          "name": "stderr",
          "text": [
            "0it [00:00, ?it/s]"
          ]
        },
        {
          "output_type": "stream",
          "name": "stdout",
          "text": [
            "86\n",
            "2.6875\n"
          ]
        },
        {
          "output_type": "stream",
          "name": "stderr",
          "text": [
            "\n"
          ]
        },
        {
          "output_type": "stream",
          "name": "stdout",
          "text": [
            "done dong doing /content/drive/MyDrive/sagar/trikonasana/1_03.mp4\n"
          ]
        },
        {
          "output_type": "stream",
          "name": "stderr",
          "text": [
            "0it [00:00, ?it/s]"
          ]
        },
        {
          "output_type": "stream",
          "name": "stdout",
          "text": [
            "447\n",
            "13.96875\n"
          ]
        },
        {
          "output_type": "stream",
          "name": "stderr",
          "text": [
            "\n"
          ]
        },
        {
          "output_type": "stream",
          "name": "stdout",
          "text": [
            "done dong doing /content/drive/MyDrive/sagar/trikonasana/1_04.mp4\n"
          ]
        },
        {
          "output_type": "stream",
          "name": "stderr",
          "text": [
            "0it [00:00, ?it/s]"
          ]
        },
        {
          "output_type": "stream",
          "name": "stdout",
          "text": [
            "155\n",
            "4.84375\n"
          ]
        },
        {
          "output_type": "stream",
          "name": "stderr",
          "text": [
            "\n"
          ]
        },
        {
          "output_type": "stream",
          "name": "stdout",
          "text": [
            "done dong doing /content/drive/MyDrive/sagar/trikonasana/1_05.mp4\n"
          ]
        },
        {
          "output_type": "stream",
          "name": "stderr",
          "text": [
            "0it [00:00, ?it/s]"
          ]
        },
        {
          "output_type": "stream",
          "name": "stdout",
          "text": [
            "95\n",
            "2.96875\n"
          ]
        },
        {
          "output_type": "stream",
          "name": "stderr",
          "text": [
            "\n"
          ]
        },
        {
          "output_type": "stream",
          "name": "stdout",
          "text": [
            "done dong doing /content/drive/MyDrive/sagar/trikonasana/1_06.mp4\n"
          ]
        },
        {
          "output_type": "stream",
          "name": "stderr",
          "text": [
            "0it [00:00, ?it/s]"
          ]
        },
        {
          "output_type": "stream",
          "name": "stdout",
          "text": [
            "177\n",
            "5.53125\n"
          ]
        },
        {
          "output_type": "stream",
          "name": "stderr",
          "text": [
            "\n"
          ]
        },
        {
          "output_type": "stream",
          "name": "stdout",
          "text": [
            "done dong doing /content/drive/MyDrive/sagar/trikonasana/1_07.mp4\n"
          ]
        },
        {
          "output_type": "stream",
          "name": "stderr",
          "text": [
            "0it [00:00, ?it/s]"
          ]
        },
        {
          "output_type": "stream",
          "name": "stdout",
          "text": [
            "333\n",
            "10.40625\n"
          ]
        },
        {
          "output_type": "stream",
          "name": "stderr",
          "text": [
            "\n"
          ]
        },
        {
          "output_type": "stream",
          "name": "stdout",
          "text": [
            "done dong doing /content/drive/MyDrive/sagar/cat_cow/3_01.mp4\n"
          ]
        },
        {
          "output_type": "stream",
          "name": "stderr",
          "text": [
            "0it [00:00, ?it/s]"
          ]
        },
        {
          "output_type": "stream",
          "name": "stdout",
          "text": [
            "228\n",
            "7.125\n"
          ]
        },
        {
          "output_type": "stream",
          "name": "stderr",
          "text": [
            "\n"
          ]
        },
        {
          "output_type": "stream",
          "name": "stdout",
          "text": [
            "done dong doing /content/drive/MyDrive/sagar/cat_cow/3_02.mp4\n"
          ]
        },
        {
          "output_type": "stream",
          "name": "stderr",
          "text": [
            "0it [00:00, ?it/s]"
          ]
        },
        {
          "output_type": "stream",
          "name": "stdout",
          "text": [
            "365\n",
            "11.40625\n"
          ]
        },
        {
          "output_type": "stream",
          "name": "stderr",
          "text": [
            "\n"
          ]
        },
        {
          "output_type": "stream",
          "name": "stdout",
          "text": [
            "done dong doing /content/drive/MyDrive/sagar/cat_cow/3_03.mp4\n"
          ]
        },
        {
          "output_type": "stream",
          "name": "stderr",
          "text": [
            "0it [00:00, ?it/s]"
          ]
        },
        {
          "output_type": "stream",
          "name": "stdout",
          "text": [
            "129\n",
            "4.03125\n"
          ]
        },
        {
          "output_type": "stream",
          "name": "stderr",
          "text": [
            "\n"
          ]
        },
        {
          "output_type": "stream",
          "name": "stdout",
          "text": [
            "done dong doing /content/drive/MyDrive/sagar/cat_cow/3_04.mp4\n"
          ]
        },
        {
          "output_type": "stream",
          "name": "stderr",
          "text": [
            "0it [00:00, ?it/s]"
          ]
        },
        {
          "output_type": "stream",
          "name": "stdout",
          "text": [
            "482\n",
            "15.0625\n"
          ]
        },
        {
          "output_type": "stream",
          "name": "stderr",
          "text": [
            "\n"
          ]
        },
        {
          "output_type": "stream",
          "name": "stdout",
          "text": [
            "done dong doing /content/drive/MyDrive/sagar/cat_cow/3_05.mp4\n"
          ]
        },
        {
          "output_type": "stream",
          "name": "stderr",
          "text": [
            "0it [00:00, ?it/s]"
          ]
        },
        {
          "output_type": "stream",
          "name": "stdout",
          "text": [
            "318\n",
            "9.9375\n"
          ]
        },
        {
          "output_type": "stream",
          "name": "stderr",
          "text": [
            "\n"
          ]
        },
        {
          "output_type": "stream",
          "name": "stdout",
          "text": [
            "done dong doing /content/drive/MyDrive/sagar/cat_cow/3_06.mp4\n"
          ]
        },
        {
          "output_type": "stream",
          "name": "stderr",
          "text": [
            "0it [00:00, ?it/s]"
          ]
        },
        {
          "output_type": "stream",
          "name": "stdout",
          "text": [
            "117\n",
            "3.65625\n"
          ]
        },
        {
          "output_type": "stream",
          "name": "stderr",
          "text": [
            "\n"
          ]
        },
        {
          "output_type": "stream",
          "name": "stdout",
          "text": [
            "done dong doing /content/drive/MyDrive/sagar/cat_cow/3_07.mp4\n"
          ]
        },
        {
          "output_type": "stream",
          "name": "stderr",
          "text": [
            "0it [00:00, ?it/s]"
          ]
        },
        {
          "output_type": "stream",
          "name": "stdout",
          "text": [
            "226\n",
            "7.0625\n"
          ]
        },
        {
          "output_type": "stream",
          "name": "stderr",
          "text": [
            "\n"
          ]
        },
        {
          "output_type": "stream",
          "name": "stdout",
          "text": [
            "done dong doing /content/drive/MyDrive/sagar/cat_cow/3_08.mp4\n"
          ]
        },
        {
          "output_type": "stream",
          "name": "stderr",
          "text": [
            "0it [00:00, ?it/s]\n"
          ]
        }
      ]
    },
    {
      "cell_type": "code",
      "source": [],
      "metadata": {
        "id": "wLeYf0J44dQ3"
      },
      "execution_count": null,
      "outputs": []
    },
    {
      "cell_type": "code",
      "source": [],
      "metadata": {
        "id": "0Cp2NTN_20Wi"
      },
      "execution_count": null,
      "outputs": []
    },
    {
      "cell_type": "code",
      "source": [],
      "metadata": {
        "id": "rlzr5if433I6"
      },
      "execution_count": null,
      "outputs": []
    },
    {
      "cell_type": "code",
      "source": [],
      "metadata": {
        "id": "7n8DnqXz3Wd-"
      },
      "execution_count": null,
      "outputs": []
    },
    {
      "cell_type": "code",
      "source": [],
      "metadata": {
        "id": "AcfqyrNV3ApB"
      },
      "execution_count": null,
      "outputs": []
    },
    {
      "cell_type": "code",
      "source": [],
      "metadata": {
        "id": "PhD4wola5KEG"
      },
      "execution_count": null,
      "outputs": []
    },
    {
      "cell_type": "code",
      "source": [],
      "metadata": {
        "id": "attzePp05KA-"
      },
      "execution_count": null,
      "outputs": []
    },
    {
      "cell_type": "code",
      "source": [],
      "metadata": {
        "id": "dQIcU9Vz5J-H"
      },
      "execution_count": null,
      "outputs": []
    },
    {
      "cell_type": "code",
      "source": [],
      "metadata": {
        "id": "5FWqXuyv5J6_"
      },
      "execution_count": null,
      "outputs": []
    },
    {
      "cell_type": "code",
      "source": [],
      "metadata": {
        "id": "43ShWBbR5J34"
      },
      "execution_count": null,
      "outputs": []
    },
    {
      "cell_type": "code",
      "source": [],
      "metadata": {
        "id": "c18yilF-5Jz9"
      },
      "execution_count": null,
      "outputs": []
    },
    {
      "cell_type": "code",
      "source": [],
      "metadata": {
        "id": "1cbmH0YK5JwV"
      },
      "execution_count": null,
      "outputs": []
    },
    {
      "cell_type": "code",
      "source": [
        "testpath = '/content/drive/MyDrive/NewDataset'"
      ],
      "metadata": {
        "id": "llYUa1AU6K3r"
      },
      "execution_count": null,
      "outputs": []
    },
    {
      "cell_type": "code",
      "source": [
        "dirs = os.listdir(testpath)"
      ],
      "metadata": {
        "id": "Bw_a0Cf_mhUX"
      },
      "execution_count": null,
      "outputs": []
    },
    {
      "cell_type": "code",
      "source": [
        "dirs"
      ],
      "metadata": {
        "id": "sUXwSDK7FX3X",
        "colab": {
          "base_uri": "https://localhost:8080/"
        },
        "outputId": "7800709a-fd4b-4586-b553-631ec7bb0816"
      },
      "execution_count": null,
      "outputs": [
        {
          "output_type": "execute_result",
          "data": {
            "text/plain": [
              "['brikshasana', 'trikonasana', 'cat_cow']"
            ]
          },
          "metadata": {},
          "execution_count": 10
        }
      ]
    },
    {
      "cell_type": "code",
      "source": [
        "import random\n",
        "random.shuffle(dirs)"
      ],
      "metadata": {
        "id": "j69Ep4TPAUGj"
      },
      "execution_count": null,
      "outputs": []
    },
    {
      "cell_type": "code",
      "source": [
        "images_path = []\n",
        "labels = []\n"
      ],
      "metadata": {
        "id": "WLPWMiOgBBHL"
      },
      "execution_count": null,
      "outputs": []
    },
    {
      "cell_type": "code",
      "source": [
        "for each in dirs:\n",
        "  os.chdir(testpath+'/'+each)\n",
        "  cur_dir =  os.getcwd()\n",
        "  for files in os.listdir(cur_dir):\n",
        "    images_path.append(cur_dir+'/'+files)\n",
        "    labels.append(cur_dir.split('/')[-1].split('-')[0])\n",
        "    "
      ],
      "metadata": {
        "id": "aXCVgWj3NTFk"
      },
      "execution_count": null,
      "outputs": []
    },
    {
      "cell_type": "code",
      "source": [
        "labels"
      ],
      "metadata": {
        "id": "_hdNna49Fkep",
        "colab": {
          "base_uri": "https://localhost:8080/"
        },
        "outputId": "81b31ace-90dc-4d1a-cf69-0978a3d13d50"
      },
      "execution_count": null,
      "outputs": [
        {
          "output_type": "execute_result",
          "data": {
            "text/plain": [
              "['brikshasana',\n",
              " 'brikshasana',\n",
              " 'brikshasana',\n",
              " 'brikshasana',\n",
              " 'brikshasana',\n",
              " 'brikshasana',\n",
              " 'brikshasana',\n",
              " 'brikshasana',\n",
              " 'brikshasana',\n",
              " 'brikshasana',\n",
              " 'brikshasana',\n",
              " 'brikshasana',\n",
              " 'brikshasana',\n",
              " 'brikshasana',\n",
              " 'brikshasana',\n",
              " 'brikshasana',\n",
              " 'brikshasana',\n",
              " 'brikshasana',\n",
              " 'brikshasana',\n",
              " 'brikshasana',\n",
              " 'brikshasana',\n",
              " 'brikshasana',\n",
              " 'brikshasana',\n",
              " 'brikshasana',\n",
              " 'brikshasana',\n",
              " 'brikshasana',\n",
              " 'brikshasana',\n",
              " 'brikshasana',\n",
              " 'brikshasana',\n",
              " 'brikshasana',\n",
              " 'brikshasana',\n",
              " 'brikshasana',\n",
              " 'brikshasana',\n",
              " 'brikshasana',\n",
              " 'brikshasana',\n",
              " 'brikshasana',\n",
              " 'brikshasana',\n",
              " 'brikshasana',\n",
              " 'brikshasana',\n",
              " 'brikshasana',\n",
              " 'brikshasana',\n",
              " 'brikshasana',\n",
              " 'brikshasana',\n",
              " 'brikshasana',\n",
              " 'brikshasana',\n",
              " 'brikshasana',\n",
              " 'brikshasana',\n",
              " 'brikshasana',\n",
              " 'brikshasana',\n",
              " 'brikshasana',\n",
              " 'brikshasana',\n",
              " 'brikshasana',\n",
              " 'brikshasana',\n",
              " 'brikshasana',\n",
              " 'brikshasana',\n",
              " 'brikshasana',\n",
              " 'brikshasana',\n",
              " 'brikshasana',\n",
              " 'brikshasana',\n",
              " 'brikshasana',\n",
              " 'brikshasana',\n",
              " 'brikshasana',\n",
              " 'brikshasana',\n",
              " 'brikshasana',\n",
              " 'brikshasana',\n",
              " 'brikshasana',\n",
              " 'brikshasana',\n",
              " 'brikshasana',\n",
              " 'brikshasana',\n",
              " 'brikshasana',\n",
              " 'brikshasana',\n",
              " 'brikshasana',\n",
              " 'brikshasana',\n",
              " 'brikshasana',\n",
              " 'brikshasana',\n",
              " 'brikshasana',\n",
              " 'brikshasana',\n",
              " 'brikshasana',\n",
              " 'brikshasana',\n",
              " 'brikshasana',\n",
              " 'brikshasana',\n",
              " 'brikshasana',\n",
              " 'brikshasana',\n",
              " 'brikshasana',\n",
              " 'brikshasana',\n",
              " 'brikshasana',\n",
              " 'brikshasana',\n",
              " 'brikshasana',\n",
              " 'brikshasana',\n",
              " 'brikshasana',\n",
              " 'brikshasana',\n",
              " 'brikshasana',\n",
              " 'brikshasana',\n",
              " 'brikshasana',\n",
              " 'brikshasana',\n",
              " 'brikshasana',\n",
              " 'brikshasana',\n",
              " 'brikshasana',\n",
              " 'brikshasana',\n",
              " 'brikshasana',\n",
              " 'brikshasana',\n",
              " 'brikshasana',\n",
              " 'brikshasana',\n",
              " 'brikshasana',\n",
              " 'brikshasana',\n",
              " 'brikshasana',\n",
              " 'brikshasana',\n",
              " 'brikshasana',\n",
              " 'brikshasana',\n",
              " 'brikshasana',\n",
              " 'brikshasana',\n",
              " 'brikshasana',\n",
              " 'brikshasana',\n",
              " 'brikshasana',\n",
              " 'brikshasana',\n",
              " 'brikshasana',\n",
              " 'brikshasana',\n",
              " 'brikshasana',\n",
              " 'brikshasana',\n",
              " 'brikshasana',\n",
              " 'brikshasana',\n",
              " 'brikshasana',\n",
              " 'brikshasana',\n",
              " 'brikshasana',\n",
              " 'brikshasana',\n",
              " 'brikshasana',\n",
              " 'brikshasana',\n",
              " 'brikshasana',\n",
              " 'brikshasana',\n",
              " 'brikshasana',\n",
              " 'brikshasana',\n",
              " 'brikshasana',\n",
              " 'brikshasana',\n",
              " 'brikshasana',\n",
              " 'brikshasana',\n",
              " 'brikshasana',\n",
              " 'brikshasana',\n",
              " 'brikshasana',\n",
              " 'brikshasana',\n",
              " 'brikshasana',\n",
              " 'brikshasana',\n",
              " 'brikshasana',\n",
              " 'brikshasana',\n",
              " 'brikshasana',\n",
              " 'brikshasana',\n",
              " 'brikshasana',\n",
              " 'brikshasana',\n",
              " 'brikshasana',\n",
              " 'brikshasana',\n",
              " 'brikshasana',\n",
              " 'brikshasana',\n",
              " 'brikshasana',\n",
              " 'brikshasana',\n",
              " 'brikshasana',\n",
              " 'brikshasana',\n",
              " 'brikshasana',\n",
              " 'brikshasana',\n",
              " 'brikshasana',\n",
              " 'brikshasana',\n",
              " 'brikshasana',\n",
              " 'brikshasana',\n",
              " 'brikshasana',\n",
              " 'brikshasana',\n",
              " 'brikshasana',\n",
              " 'brikshasana',\n",
              " 'brikshasana',\n",
              " 'brikshasana',\n",
              " 'brikshasana',\n",
              " 'brikshasana',\n",
              " 'brikshasana',\n",
              " 'brikshasana',\n",
              " 'brikshasana',\n",
              " 'brikshasana',\n",
              " 'brikshasana',\n",
              " 'brikshasana',\n",
              " 'brikshasana',\n",
              " 'brikshasana',\n",
              " 'brikshasana',\n",
              " 'brikshasana',\n",
              " 'brikshasana',\n",
              " 'brikshasana',\n",
              " 'brikshasana',\n",
              " 'brikshasana',\n",
              " 'brikshasana',\n",
              " 'brikshasana',\n",
              " 'brikshasana',\n",
              " 'brikshasana',\n",
              " 'brikshasana',\n",
              " 'brikshasana',\n",
              " 'brikshasana',\n",
              " 'brikshasana',\n",
              " 'brikshasana',\n",
              " 'brikshasana',\n",
              " 'brikshasana',\n",
              " 'brikshasana',\n",
              " 'brikshasana',\n",
              " 'brikshasana',\n",
              " 'brikshasana',\n",
              " 'brikshasana',\n",
              " 'brikshasana',\n",
              " 'brikshasana',\n",
              " 'brikshasana',\n",
              " 'brikshasana',\n",
              " 'brikshasana',\n",
              " 'brikshasana',\n",
              " 'brikshasana',\n",
              " 'brikshasana',\n",
              " 'brikshasana',\n",
              " 'brikshasana',\n",
              " 'brikshasana',\n",
              " 'brikshasana',\n",
              " 'brikshasana',\n",
              " 'brikshasana',\n",
              " 'brikshasana',\n",
              " 'brikshasana',\n",
              " 'brikshasana',\n",
              " 'brikshasana',\n",
              " 'brikshasana',\n",
              " 'brikshasana',\n",
              " 'brikshasana',\n",
              " 'brikshasana',\n",
              " 'brikshasana',\n",
              " 'brikshasana',\n",
              " 'brikshasana',\n",
              " 'cat_cow',\n",
              " 'cat_cow',\n",
              " 'cat_cow',\n",
              " 'cat_cow',\n",
              " 'cat_cow',\n",
              " 'cat_cow',\n",
              " 'cat_cow',\n",
              " 'cat_cow',\n",
              " 'cat_cow',\n",
              " 'cat_cow',\n",
              " 'cat_cow',\n",
              " 'cat_cow',\n",
              " 'cat_cow',\n",
              " 'cat_cow',\n",
              " 'cat_cow',\n",
              " 'cat_cow',\n",
              " 'cat_cow',\n",
              " 'cat_cow',\n",
              " 'cat_cow',\n",
              " 'cat_cow',\n",
              " 'cat_cow',\n",
              " 'cat_cow',\n",
              " 'cat_cow',\n",
              " 'cat_cow',\n",
              " 'cat_cow',\n",
              " 'cat_cow',\n",
              " 'cat_cow',\n",
              " 'cat_cow',\n",
              " 'cat_cow',\n",
              " 'cat_cow',\n",
              " 'cat_cow',\n",
              " 'cat_cow',\n",
              " 'cat_cow',\n",
              " 'cat_cow',\n",
              " 'cat_cow',\n",
              " 'cat_cow',\n",
              " 'cat_cow',\n",
              " 'cat_cow',\n",
              " 'cat_cow',\n",
              " 'cat_cow',\n",
              " 'cat_cow',\n",
              " 'cat_cow',\n",
              " 'cat_cow',\n",
              " 'cat_cow',\n",
              " 'cat_cow',\n",
              " 'cat_cow',\n",
              " 'cat_cow',\n",
              " 'cat_cow',\n",
              " 'cat_cow',\n",
              " 'cat_cow',\n",
              " 'cat_cow',\n",
              " 'cat_cow',\n",
              " 'cat_cow',\n",
              " 'cat_cow',\n",
              " 'cat_cow',\n",
              " 'cat_cow',\n",
              " 'cat_cow',\n",
              " 'cat_cow',\n",
              " 'cat_cow',\n",
              " 'cat_cow',\n",
              " 'cat_cow',\n",
              " 'cat_cow',\n",
              " 'cat_cow',\n",
              " 'cat_cow',\n",
              " 'cat_cow',\n",
              " 'cat_cow',\n",
              " 'cat_cow',\n",
              " 'cat_cow',\n",
              " 'cat_cow',\n",
              " 'cat_cow',\n",
              " 'cat_cow',\n",
              " 'cat_cow',\n",
              " 'cat_cow',\n",
              " 'cat_cow',\n",
              " 'cat_cow',\n",
              " 'cat_cow',\n",
              " 'cat_cow',\n",
              " 'cat_cow',\n",
              " 'cat_cow',\n",
              " 'cat_cow',\n",
              " 'cat_cow',\n",
              " 'cat_cow',\n",
              " 'cat_cow',\n",
              " 'cat_cow',\n",
              " 'cat_cow',\n",
              " 'cat_cow',\n",
              " 'cat_cow',\n",
              " 'cat_cow',\n",
              " 'cat_cow',\n",
              " 'cat_cow',\n",
              " 'cat_cow',\n",
              " 'cat_cow',\n",
              " 'cat_cow',\n",
              " 'cat_cow',\n",
              " 'cat_cow',\n",
              " 'cat_cow',\n",
              " 'cat_cow',\n",
              " 'cat_cow',\n",
              " 'cat_cow',\n",
              " 'cat_cow',\n",
              " 'cat_cow',\n",
              " 'cat_cow',\n",
              " 'cat_cow',\n",
              " 'cat_cow',\n",
              " 'cat_cow',\n",
              " 'cat_cow',\n",
              " 'cat_cow',\n",
              " 'cat_cow',\n",
              " 'cat_cow',\n",
              " 'cat_cow',\n",
              " 'cat_cow',\n",
              " 'cat_cow',\n",
              " 'cat_cow',\n",
              " 'cat_cow',\n",
              " 'cat_cow',\n",
              " 'cat_cow',\n",
              " 'cat_cow',\n",
              " 'cat_cow',\n",
              " 'cat_cow',\n",
              " 'cat_cow',\n",
              " 'cat_cow',\n",
              " 'cat_cow',\n",
              " 'cat_cow',\n",
              " 'cat_cow',\n",
              " 'cat_cow',\n",
              " 'cat_cow',\n",
              " 'cat_cow',\n",
              " 'cat_cow',\n",
              " 'cat_cow',\n",
              " 'cat_cow',\n",
              " 'cat_cow',\n",
              " 'cat_cow',\n",
              " 'cat_cow',\n",
              " 'cat_cow',\n",
              " 'cat_cow',\n",
              " 'cat_cow',\n",
              " 'cat_cow',\n",
              " 'cat_cow',\n",
              " 'cat_cow',\n",
              " 'cat_cow',\n",
              " 'cat_cow',\n",
              " 'cat_cow',\n",
              " 'cat_cow',\n",
              " 'cat_cow',\n",
              " 'cat_cow',\n",
              " 'cat_cow',\n",
              " 'cat_cow',\n",
              " 'cat_cow',\n",
              " 'cat_cow',\n",
              " 'cat_cow',\n",
              " 'cat_cow',\n",
              " 'cat_cow',\n",
              " 'cat_cow',\n",
              " 'cat_cow',\n",
              " 'cat_cow',\n",
              " 'cat_cow',\n",
              " 'cat_cow',\n",
              " 'cat_cow',\n",
              " 'cat_cow',\n",
              " 'cat_cow',\n",
              " 'cat_cow',\n",
              " 'cat_cow',\n",
              " 'cat_cow',\n",
              " 'cat_cow',\n",
              " 'cat_cow',\n",
              " 'cat_cow',\n",
              " 'cat_cow',\n",
              " 'cat_cow',\n",
              " 'cat_cow',\n",
              " 'cat_cow',\n",
              " 'cat_cow',\n",
              " 'cat_cow',\n",
              " 'cat_cow',\n",
              " 'cat_cow',\n",
              " 'cat_cow',\n",
              " 'cat_cow',\n",
              " 'cat_cow',\n",
              " 'cat_cow',\n",
              " 'cat_cow',\n",
              " 'cat_cow',\n",
              " 'cat_cow',\n",
              " 'cat_cow',\n",
              " 'cat_cow',\n",
              " 'cat_cow',\n",
              " 'cat_cow',\n",
              " 'cat_cow',\n",
              " 'cat_cow',\n",
              " 'cat_cow',\n",
              " 'cat_cow',\n",
              " 'cat_cow',\n",
              " 'cat_cow',\n",
              " 'cat_cow',\n",
              " 'cat_cow',\n",
              " 'cat_cow',\n",
              " 'cat_cow',\n",
              " 'cat_cow',\n",
              " 'cat_cow',\n",
              " 'cat_cow',\n",
              " 'cat_cow',\n",
              " 'cat_cow',\n",
              " 'cat_cow',\n",
              " 'cat_cow',\n",
              " 'cat_cow',\n",
              " 'cat_cow',\n",
              " 'cat_cow',\n",
              " 'cat_cow',\n",
              " 'cat_cow',\n",
              " 'cat_cow',\n",
              " 'cat_cow',\n",
              " 'cat_cow',\n",
              " 'cat_cow',\n",
              " 'cat_cow',\n",
              " 'cat_cow',\n",
              " 'cat_cow',\n",
              " 'cat_cow',\n",
              " 'cat_cow',\n",
              " 'cat_cow',\n",
              " 'cat_cow',\n",
              " 'cat_cow',\n",
              " 'cat_cow',\n",
              " 'cat_cow',\n",
              " 'cat_cow',\n",
              " 'cat_cow',\n",
              " 'cat_cow',\n",
              " 'cat_cow',\n",
              " 'cat_cow',\n",
              " 'cat_cow',\n",
              " 'cat_cow',\n",
              " 'cat_cow',\n",
              " 'cat_cow',\n",
              " 'cat_cow',\n",
              " 'cat_cow',\n",
              " 'cat_cow',\n",
              " 'cat_cow',\n",
              " 'cat_cow',\n",
              " 'cat_cow',\n",
              " 'cat_cow',\n",
              " 'cat_cow',\n",
              " 'cat_cow',\n",
              " 'cat_cow',\n",
              " 'cat_cow',\n",
              " 'cat_cow',\n",
              " 'cat_cow',\n",
              " 'cat_cow',\n",
              " 'cat_cow',\n",
              " 'cat_cow',\n",
              " 'cat_cow',\n",
              " 'cat_cow',\n",
              " 'cat_cow',\n",
              " 'cat_cow',\n",
              " 'cat_cow',\n",
              " 'cat_cow',\n",
              " 'cat_cow',\n",
              " 'cat_cow',\n",
              " 'cat_cow',\n",
              " 'cat_cow',\n",
              " 'trikonasana',\n",
              " 'trikonasana',\n",
              " 'trikonasana',\n",
              " 'trikonasana',\n",
              " 'trikonasana',\n",
              " 'trikonasana',\n",
              " 'trikonasana',\n",
              " 'trikonasana',\n",
              " 'trikonasana',\n",
              " 'trikonasana',\n",
              " 'trikonasana',\n",
              " 'trikonasana',\n",
              " 'trikonasana',\n",
              " 'trikonasana',\n",
              " 'trikonasana',\n",
              " 'trikonasana',\n",
              " 'trikonasana',\n",
              " 'trikonasana',\n",
              " 'trikonasana',\n",
              " 'trikonasana',\n",
              " 'trikonasana',\n",
              " 'trikonasana',\n",
              " 'trikonasana',\n",
              " 'trikonasana',\n",
              " 'trikonasana',\n",
              " 'trikonasana',\n",
              " 'trikonasana',\n",
              " 'trikonasana',\n",
              " 'trikonasana',\n",
              " 'trikonasana',\n",
              " 'trikonasana',\n",
              " 'trikonasana',\n",
              " 'trikonasana',\n",
              " 'trikonasana',\n",
              " 'trikonasana',\n",
              " 'trikonasana',\n",
              " 'trikonasana',\n",
              " 'trikonasana',\n",
              " 'trikonasana',\n",
              " 'trikonasana',\n",
              " 'trikonasana',\n",
              " 'trikonasana',\n",
              " 'trikonasana',\n",
              " 'trikonasana',\n",
              " 'trikonasana',\n",
              " 'trikonasana',\n",
              " 'trikonasana',\n",
              " 'trikonasana',\n",
              " 'trikonasana',\n",
              " 'trikonasana',\n",
              " 'trikonasana',\n",
              " 'trikonasana',\n",
              " 'trikonasana',\n",
              " 'trikonasana',\n",
              " 'trikonasana',\n",
              " 'trikonasana',\n",
              " 'trikonasana',\n",
              " 'trikonasana',\n",
              " 'trikonasana',\n",
              " 'trikonasana',\n",
              " 'trikonasana',\n",
              " 'trikonasana',\n",
              " 'trikonasana',\n",
              " 'trikonasana',\n",
              " 'trikonasana',\n",
              " 'trikonasana',\n",
              " 'trikonasana',\n",
              " 'trikonasana',\n",
              " 'trikonasana',\n",
              " 'trikonasana',\n",
              " 'trikonasana',\n",
              " 'trikonasana',\n",
              " 'trikonasana',\n",
              " 'trikonasana',\n",
              " 'trikonasana',\n",
              " 'trikonasana',\n",
              " 'trikonasana',\n",
              " 'trikonasana',\n",
              " 'trikonasana',\n",
              " 'trikonasana',\n",
              " 'trikonasana',\n",
              " 'trikonasana',\n",
              " 'trikonasana',\n",
              " 'trikonasana',\n",
              " 'trikonasana',\n",
              " 'trikonasana',\n",
              " 'trikonasana',\n",
              " 'trikonasana',\n",
              " 'trikonasana',\n",
              " 'trikonasana',\n",
              " 'trikonasana',\n",
              " 'trikonasana',\n",
              " 'trikonasana',\n",
              " 'trikonasana',\n",
              " 'trikonasana',\n",
              " 'trikonasana',\n",
              " 'trikonasana',\n",
              " 'trikonasana',\n",
              " 'trikonasana',\n",
              " 'trikonasana',\n",
              " 'trikonasana',\n",
              " 'trikonasana',\n",
              " 'trikonasana',\n",
              " 'trikonasana',\n",
              " 'trikonasana',\n",
              " 'trikonasana',\n",
              " 'trikonasana',\n",
              " 'trikonasana',\n",
              " 'trikonasana',\n",
              " 'trikonasana',\n",
              " 'trikonasana',\n",
              " 'trikonasana',\n",
              " 'trikonasana',\n",
              " 'trikonasana',\n",
              " 'trikonasana',\n",
              " 'trikonasana',\n",
              " 'trikonasana',\n",
              " 'trikonasana',\n",
              " 'trikonasana',\n",
              " 'trikonasana',\n",
              " 'trikonasana',\n",
              " 'trikonasana',\n",
              " 'trikonasana',\n",
              " 'trikonasana',\n",
              " 'trikonasana',\n",
              " 'trikonasana',\n",
              " 'trikonasana',\n",
              " 'trikonasana',\n",
              " 'trikonasana',\n",
              " 'trikonasana',\n",
              " 'trikonasana',\n",
              " 'trikonasana',\n",
              " 'trikonasana',\n",
              " 'trikonasana',\n",
              " 'trikonasana',\n",
              " 'trikonasana',\n",
              " 'trikonasana',\n",
              " 'trikonasana',\n",
              " 'trikonasana',\n",
              " 'trikonasana',\n",
              " 'trikonasana',\n",
              " 'trikonasana',\n",
              " 'trikonasana',\n",
              " 'trikonasana',\n",
              " 'trikonasana',\n",
              " 'trikonasana',\n",
              " 'trikonasana',\n",
              " 'trikonasana',\n",
              " 'trikonasana',\n",
              " 'trikonasana',\n",
              " 'trikonasana',\n",
              " 'trikonasana',\n",
              " 'trikonasana',\n",
              " 'trikonasana',\n",
              " 'trikonasana',\n",
              " 'trikonasana',\n",
              " 'trikonasana',\n",
              " 'trikonasana',\n",
              " 'trikonasana',\n",
              " 'trikonasana',\n",
              " 'trikonasana',\n",
              " 'trikonasana',\n",
              " 'trikonasana',\n",
              " 'trikonasana',\n",
              " 'trikonasana',\n",
              " 'trikonasana',\n",
              " 'trikonasana',\n",
              " 'trikonasana',\n",
              " 'trikonasana',\n",
              " 'trikonasana',\n",
              " 'trikonasana',\n",
              " 'trikonasana',\n",
              " 'trikonasana',\n",
              " 'trikonasana',\n",
              " 'trikonasana',\n",
              " 'trikonasana',\n",
              " 'trikonasana',\n",
              " 'trikonasana',\n",
              " 'trikonasana',\n",
              " 'trikonasana',\n",
              " 'trikonasana',\n",
              " 'trikonasana',\n",
              " 'trikonasana',\n",
              " 'trikonasana',\n",
              " 'trikonasana',\n",
              " 'trikonasana',\n",
              " 'trikonasana',\n",
              " 'trikonasana',\n",
              " 'trikonasana',\n",
              " 'trikonasana',\n",
              " 'trikonasana',\n",
              " 'trikonasana',\n",
              " 'trikonasana',\n",
              " 'trikonasana',\n",
              " 'trikonasana',\n",
              " 'trikonasana',\n",
              " 'trikonasana',\n",
              " 'trikonasana',\n",
              " 'trikonasana',\n",
              " 'trikonasana',\n",
              " 'trikonasana',\n",
              " 'trikonasana',\n",
              " 'trikonasana',\n",
              " 'trikonasana',\n",
              " 'trikonasana',\n",
              " 'trikonasana',\n",
              " 'trikonasana',\n",
              " 'trikonasana',\n",
              " 'trikonasana',\n",
              " 'trikonasana',\n",
              " 'trikonasana',\n",
              " 'trikonasana',\n",
              " 'trikonasana',\n",
              " 'trikonasana',\n",
              " 'trikonasana',\n",
              " 'trikonasana',\n",
              " 'trikonasana',\n",
              " 'trikonasana',\n",
              " 'trikonasana',\n",
              " 'trikonasana',\n",
              " 'trikonasana',\n",
              " 'trikonasana',\n",
              " 'trikonasana',\n",
              " 'trikonasana']"
            ]
          },
          "metadata": {},
          "execution_count": 14
        }
      ]
    },
    {
      "cell_type": "code",
      "source": [
        "import pandas as pd\n",
        "df = pd.DataFrame(list(zip(images_path, labels)), columns = ['path', 'label'])"
      ],
      "metadata": {
        "id": "JLqQFEZJPP9W"
      },
      "execution_count": null,
      "outputs": []
    },
    {
      "cell_type": "code",
      "source": [
        "df.head"
      ],
      "metadata": {
        "id": "xXwNB7o49Q16",
        "colab": {
          "base_uri": "https://localhost:8080/"
        },
        "outputId": "43babede-160e-49d9-8790-24e1c6ab2e65"
      },
      "execution_count": null,
      "outputs": [
        {
          "output_type": "execute_result",
          "data": {
            "text/plain": [
              "<bound method NDFrame.head of                                                   path        label\n",
              "0    /content/drive/MyDrive/NewDataset/brikshasana/...  brikshasana\n",
              "1    /content/drive/MyDrive/NewDataset/brikshasana/...  brikshasana\n",
              "2    /content/drive/MyDrive/NewDataset/brikshasana/...  brikshasana\n",
              "3    /content/drive/MyDrive/NewDataset/brikshasana/...  brikshasana\n",
              "4    /content/drive/MyDrive/NewDataset/brikshasana/...  brikshasana\n",
              "..                                                 ...          ...\n",
              "699  /content/drive/MyDrive/NewDataset/trikonasana/...  trikonasana\n",
              "700  /content/drive/MyDrive/NewDataset/trikonasana/...  trikonasana\n",
              "701  /content/drive/MyDrive/NewDataset/trikonasana/...  trikonasana\n",
              "702  /content/drive/MyDrive/NewDataset/trikonasana/...  trikonasana\n",
              "703  /content/drive/MyDrive/NewDataset/trikonasana/...  trikonasana\n",
              "\n",
              "[704 rows x 2 columns]>"
            ]
          },
          "metadata": {},
          "execution_count": 16
        }
      ]
    },
    {
      "cell_type": "code",
      "source": [
        "# df = df.sample(frac=1)"
      ],
      "metadata": {
        "id": "-AhehU34468N"
      },
      "execution_count": null,
      "outputs": []
    },
    {
      "cell_type": "code",
      "source": [
        "df.head(34)"
      ],
      "metadata": {
        "id": "ORkCfg2EGSe7",
        "colab": {
          "base_uri": "https://localhost:8080/",
          "height": 1000
        },
        "outputId": "b0097ec9-8904-466e-a0d5-7319c7964b9e"
      },
      "execution_count": null,
      "outputs": [
        {
          "output_type": "execute_result",
          "data": {
            "text/plain": [
              "                                                 path        label\n",
              "0   /content/drive/MyDrive/NewDataset/brikshasana/...  brikshasana\n",
              "1   /content/drive/MyDrive/NewDataset/brikshasana/...  brikshasana\n",
              "2   /content/drive/MyDrive/NewDataset/brikshasana/...  brikshasana\n",
              "3   /content/drive/MyDrive/NewDataset/brikshasana/...  brikshasana\n",
              "4   /content/drive/MyDrive/NewDataset/brikshasana/...  brikshasana\n",
              "5   /content/drive/MyDrive/NewDataset/brikshasana/...  brikshasana\n",
              "6   /content/drive/MyDrive/NewDataset/brikshasana/...  brikshasana\n",
              "7   /content/drive/MyDrive/NewDataset/brikshasana/...  brikshasana\n",
              "8   /content/drive/MyDrive/NewDataset/brikshasana/...  brikshasana\n",
              "9   /content/drive/MyDrive/NewDataset/brikshasana/...  brikshasana\n",
              "10  /content/drive/MyDrive/NewDataset/brikshasana/...  brikshasana\n",
              "11  /content/drive/MyDrive/NewDataset/brikshasana/...  brikshasana\n",
              "12  /content/drive/MyDrive/NewDataset/brikshasana/...  brikshasana\n",
              "13  /content/drive/MyDrive/NewDataset/brikshasana/...  brikshasana\n",
              "14  /content/drive/MyDrive/NewDataset/brikshasana/...  brikshasana\n",
              "15  /content/drive/MyDrive/NewDataset/brikshasana/...  brikshasana\n",
              "16  /content/drive/MyDrive/NewDataset/brikshasana/...  brikshasana\n",
              "17  /content/drive/MyDrive/NewDataset/brikshasana/...  brikshasana\n",
              "18  /content/drive/MyDrive/NewDataset/brikshasana/...  brikshasana\n",
              "19  /content/drive/MyDrive/NewDataset/brikshasana/...  brikshasana\n",
              "20  /content/drive/MyDrive/NewDataset/brikshasana/...  brikshasana\n",
              "21  /content/drive/MyDrive/NewDataset/brikshasana/...  brikshasana\n",
              "22  /content/drive/MyDrive/NewDataset/brikshasana/...  brikshasana\n",
              "23  /content/drive/MyDrive/NewDataset/brikshasana/...  brikshasana\n",
              "24  /content/drive/MyDrive/NewDataset/brikshasana/...  brikshasana\n",
              "25  /content/drive/MyDrive/NewDataset/brikshasana/...  brikshasana\n",
              "26  /content/drive/MyDrive/NewDataset/brikshasana/...  brikshasana\n",
              "27  /content/drive/MyDrive/NewDataset/brikshasana/...  brikshasana\n",
              "28  /content/drive/MyDrive/NewDataset/brikshasana/...  brikshasana\n",
              "29  /content/drive/MyDrive/NewDataset/brikshasana/...  brikshasana\n",
              "30  /content/drive/MyDrive/NewDataset/brikshasana/...  brikshasana\n",
              "31  /content/drive/MyDrive/NewDataset/brikshasana/...  brikshasana\n",
              "32  /content/drive/MyDrive/NewDataset/brikshasana/...  brikshasana\n",
              "33  /content/drive/MyDrive/NewDataset/brikshasana/...  brikshasana"
            ],
            "text/html": [
              "\n",
              "  <div id=\"df-3407e1a2-9a46-43c3-a382-a4bb8662c980\">\n",
              "    <div class=\"colab-df-container\">\n",
              "      <div>\n",
              "<style scoped>\n",
              "    .dataframe tbody tr th:only-of-type {\n",
              "        vertical-align: middle;\n",
              "    }\n",
              "\n",
              "    .dataframe tbody tr th {\n",
              "        vertical-align: top;\n",
              "    }\n",
              "\n",
              "    .dataframe thead th {\n",
              "        text-align: right;\n",
              "    }\n",
              "</style>\n",
              "<table border=\"1\" class=\"dataframe\">\n",
              "  <thead>\n",
              "    <tr style=\"text-align: right;\">\n",
              "      <th></th>\n",
              "      <th>path</th>\n",
              "      <th>label</th>\n",
              "    </tr>\n",
              "  </thead>\n",
              "  <tbody>\n",
              "    <tr>\n",
              "      <th>0</th>\n",
              "      <td>/content/drive/MyDrive/NewDataset/brikshasana/...</td>\n",
              "      <td>brikshasana</td>\n",
              "    </tr>\n",
              "    <tr>\n",
              "      <th>1</th>\n",
              "      <td>/content/drive/MyDrive/NewDataset/brikshasana/...</td>\n",
              "      <td>brikshasana</td>\n",
              "    </tr>\n",
              "    <tr>\n",
              "      <th>2</th>\n",
              "      <td>/content/drive/MyDrive/NewDataset/brikshasana/...</td>\n",
              "      <td>brikshasana</td>\n",
              "    </tr>\n",
              "    <tr>\n",
              "      <th>3</th>\n",
              "      <td>/content/drive/MyDrive/NewDataset/brikshasana/...</td>\n",
              "      <td>brikshasana</td>\n",
              "    </tr>\n",
              "    <tr>\n",
              "      <th>4</th>\n",
              "      <td>/content/drive/MyDrive/NewDataset/brikshasana/...</td>\n",
              "      <td>brikshasana</td>\n",
              "    </tr>\n",
              "    <tr>\n",
              "      <th>5</th>\n",
              "      <td>/content/drive/MyDrive/NewDataset/brikshasana/...</td>\n",
              "      <td>brikshasana</td>\n",
              "    </tr>\n",
              "    <tr>\n",
              "      <th>6</th>\n",
              "      <td>/content/drive/MyDrive/NewDataset/brikshasana/...</td>\n",
              "      <td>brikshasana</td>\n",
              "    </tr>\n",
              "    <tr>\n",
              "      <th>7</th>\n",
              "      <td>/content/drive/MyDrive/NewDataset/brikshasana/...</td>\n",
              "      <td>brikshasana</td>\n",
              "    </tr>\n",
              "    <tr>\n",
              "      <th>8</th>\n",
              "      <td>/content/drive/MyDrive/NewDataset/brikshasana/...</td>\n",
              "      <td>brikshasana</td>\n",
              "    </tr>\n",
              "    <tr>\n",
              "      <th>9</th>\n",
              "      <td>/content/drive/MyDrive/NewDataset/brikshasana/...</td>\n",
              "      <td>brikshasana</td>\n",
              "    </tr>\n",
              "    <tr>\n",
              "      <th>10</th>\n",
              "      <td>/content/drive/MyDrive/NewDataset/brikshasana/...</td>\n",
              "      <td>brikshasana</td>\n",
              "    </tr>\n",
              "    <tr>\n",
              "      <th>11</th>\n",
              "      <td>/content/drive/MyDrive/NewDataset/brikshasana/...</td>\n",
              "      <td>brikshasana</td>\n",
              "    </tr>\n",
              "    <tr>\n",
              "      <th>12</th>\n",
              "      <td>/content/drive/MyDrive/NewDataset/brikshasana/...</td>\n",
              "      <td>brikshasana</td>\n",
              "    </tr>\n",
              "    <tr>\n",
              "      <th>13</th>\n",
              "      <td>/content/drive/MyDrive/NewDataset/brikshasana/...</td>\n",
              "      <td>brikshasana</td>\n",
              "    </tr>\n",
              "    <tr>\n",
              "      <th>14</th>\n",
              "      <td>/content/drive/MyDrive/NewDataset/brikshasana/...</td>\n",
              "      <td>brikshasana</td>\n",
              "    </tr>\n",
              "    <tr>\n",
              "      <th>15</th>\n",
              "      <td>/content/drive/MyDrive/NewDataset/brikshasana/...</td>\n",
              "      <td>brikshasana</td>\n",
              "    </tr>\n",
              "    <tr>\n",
              "      <th>16</th>\n",
              "      <td>/content/drive/MyDrive/NewDataset/brikshasana/...</td>\n",
              "      <td>brikshasana</td>\n",
              "    </tr>\n",
              "    <tr>\n",
              "      <th>17</th>\n",
              "      <td>/content/drive/MyDrive/NewDataset/brikshasana/...</td>\n",
              "      <td>brikshasana</td>\n",
              "    </tr>\n",
              "    <tr>\n",
              "      <th>18</th>\n",
              "      <td>/content/drive/MyDrive/NewDataset/brikshasana/...</td>\n",
              "      <td>brikshasana</td>\n",
              "    </tr>\n",
              "    <tr>\n",
              "      <th>19</th>\n",
              "      <td>/content/drive/MyDrive/NewDataset/brikshasana/...</td>\n",
              "      <td>brikshasana</td>\n",
              "    </tr>\n",
              "    <tr>\n",
              "      <th>20</th>\n",
              "      <td>/content/drive/MyDrive/NewDataset/brikshasana/...</td>\n",
              "      <td>brikshasana</td>\n",
              "    </tr>\n",
              "    <tr>\n",
              "      <th>21</th>\n",
              "      <td>/content/drive/MyDrive/NewDataset/brikshasana/...</td>\n",
              "      <td>brikshasana</td>\n",
              "    </tr>\n",
              "    <tr>\n",
              "      <th>22</th>\n",
              "      <td>/content/drive/MyDrive/NewDataset/brikshasana/...</td>\n",
              "      <td>brikshasana</td>\n",
              "    </tr>\n",
              "    <tr>\n",
              "      <th>23</th>\n",
              "      <td>/content/drive/MyDrive/NewDataset/brikshasana/...</td>\n",
              "      <td>brikshasana</td>\n",
              "    </tr>\n",
              "    <tr>\n",
              "      <th>24</th>\n",
              "      <td>/content/drive/MyDrive/NewDataset/brikshasana/...</td>\n",
              "      <td>brikshasana</td>\n",
              "    </tr>\n",
              "    <tr>\n",
              "      <th>25</th>\n",
              "      <td>/content/drive/MyDrive/NewDataset/brikshasana/...</td>\n",
              "      <td>brikshasana</td>\n",
              "    </tr>\n",
              "    <tr>\n",
              "      <th>26</th>\n",
              "      <td>/content/drive/MyDrive/NewDataset/brikshasana/...</td>\n",
              "      <td>brikshasana</td>\n",
              "    </tr>\n",
              "    <tr>\n",
              "      <th>27</th>\n",
              "      <td>/content/drive/MyDrive/NewDataset/brikshasana/...</td>\n",
              "      <td>brikshasana</td>\n",
              "    </tr>\n",
              "    <tr>\n",
              "      <th>28</th>\n",
              "      <td>/content/drive/MyDrive/NewDataset/brikshasana/...</td>\n",
              "      <td>brikshasana</td>\n",
              "    </tr>\n",
              "    <tr>\n",
              "      <th>29</th>\n",
              "      <td>/content/drive/MyDrive/NewDataset/brikshasana/...</td>\n",
              "      <td>brikshasana</td>\n",
              "    </tr>\n",
              "    <tr>\n",
              "      <th>30</th>\n",
              "      <td>/content/drive/MyDrive/NewDataset/brikshasana/...</td>\n",
              "      <td>brikshasana</td>\n",
              "    </tr>\n",
              "    <tr>\n",
              "      <th>31</th>\n",
              "      <td>/content/drive/MyDrive/NewDataset/brikshasana/...</td>\n",
              "      <td>brikshasana</td>\n",
              "    </tr>\n",
              "    <tr>\n",
              "      <th>32</th>\n",
              "      <td>/content/drive/MyDrive/NewDataset/brikshasana/...</td>\n",
              "      <td>brikshasana</td>\n",
              "    </tr>\n",
              "    <tr>\n",
              "      <th>33</th>\n",
              "      <td>/content/drive/MyDrive/NewDataset/brikshasana/...</td>\n",
              "      <td>brikshasana</td>\n",
              "    </tr>\n",
              "  </tbody>\n",
              "</table>\n",
              "</div>\n",
              "      <button class=\"colab-df-convert\" onclick=\"convertToInteractive('df-3407e1a2-9a46-43c3-a382-a4bb8662c980')\"\n",
              "              title=\"Convert this dataframe to an interactive table.\"\n",
              "              style=\"display:none;\">\n",
              "        \n",
              "  <svg xmlns=\"http://www.w3.org/2000/svg\" height=\"24px\"viewBox=\"0 0 24 24\"\n",
              "       width=\"24px\">\n",
              "    <path d=\"M0 0h24v24H0V0z\" fill=\"none\"/>\n",
              "    <path d=\"M18.56 5.44l.94 2.06.94-2.06 2.06-.94-2.06-.94-.94-2.06-.94 2.06-2.06.94zm-11 1L8.5 8.5l.94-2.06 2.06-.94-2.06-.94L8.5 2.5l-.94 2.06-2.06.94zm10 10l.94 2.06.94-2.06 2.06-.94-2.06-.94-.94-2.06-.94 2.06-2.06.94z\"/><path d=\"M17.41 7.96l-1.37-1.37c-.4-.4-.92-.59-1.43-.59-.52 0-1.04.2-1.43.59L10.3 9.45l-7.72 7.72c-.78.78-.78 2.05 0 2.83L4 21.41c.39.39.9.59 1.41.59.51 0 1.02-.2 1.41-.59l7.78-7.78 2.81-2.81c.8-.78.8-2.07 0-2.86zM5.41 20L4 18.59l7.72-7.72 1.47 1.35L5.41 20z\"/>\n",
              "  </svg>\n",
              "      </button>\n",
              "      \n",
              "  <style>\n",
              "    .colab-df-container {\n",
              "      display:flex;\n",
              "      flex-wrap:wrap;\n",
              "      gap: 12px;\n",
              "    }\n",
              "\n",
              "    .colab-df-convert {\n",
              "      background-color: #E8F0FE;\n",
              "      border: none;\n",
              "      border-radius: 50%;\n",
              "      cursor: pointer;\n",
              "      display: none;\n",
              "      fill: #1967D2;\n",
              "      height: 32px;\n",
              "      padding: 0 0 0 0;\n",
              "      width: 32px;\n",
              "    }\n",
              "\n",
              "    .colab-df-convert:hover {\n",
              "      background-color: #E2EBFA;\n",
              "      box-shadow: 0px 1px 2px rgba(60, 64, 67, 0.3), 0px 1px 3px 1px rgba(60, 64, 67, 0.15);\n",
              "      fill: #174EA6;\n",
              "    }\n",
              "\n",
              "    [theme=dark] .colab-df-convert {\n",
              "      background-color: #3B4455;\n",
              "      fill: #D2E3FC;\n",
              "    }\n",
              "\n",
              "    [theme=dark] .colab-df-convert:hover {\n",
              "      background-color: #434B5C;\n",
              "      box-shadow: 0px 1px 3px 1px rgba(0, 0, 0, 0.15);\n",
              "      filter: drop-shadow(0px 1px 2px rgba(0, 0, 0, 0.3));\n",
              "      fill: #FFFFFF;\n",
              "    }\n",
              "  </style>\n",
              "\n",
              "      <script>\n",
              "        const buttonEl =\n",
              "          document.querySelector('#df-3407e1a2-9a46-43c3-a382-a4bb8662c980 button.colab-df-convert');\n",
              "        buttonEl.style.display =\n",
              "          google.colab.kernel.accessAllowed ? 'block' : 'none';\n",
              "\n",
              "        async function convertToInteractive(key) {\n",
              "          const element = document.querySelector('#df-3407e1a2-9a46-43c3-a382-a4bb8662c980');\n",
              "          const dataTable =\n",
              "            await google.colab.kernel.invokeFunction('convertToInteractive',\n",
              "                                                     [key], {});\n",
              "          if (!dataTable) return;\n",
              "\n",
              "          const docLinkHtml = 'Like what you see? Visit the ' +\n",
              "            '<a target=\"_blank\" href=https://colab.research.google.com/notebooks/data_table.ipynb>data table notebook</a>'\n",
              "            + ' to learn more about interactive tables.';\n",
              "          element.innerHTML = '';\n",
              "          dataTable['output_type'] = 'display_data';\n",
              "          await google.colab.output.renderOutput(dataTable, element);\n",
              "          const docLink = document.createElement('div');\n",
              "          docLink.innerHTML = docLinkHtml;\n",
              "          element.appendChild(docLink);\n",
              "        }\n",
              "      </script>\n",
              "    </div>\n",
              "  </div>\n",
              "  "
            ]
          },
          "metadata": {},
          "execution_count": 20
        }
      ]
    },
    {
      "cell_type": "code",
      "source": [
        "df.to_csv('newdf_image_path.csv')"
      ],
      "metadata": {
        "id": "EEc6Klv5GZi1"
      },
      "execution_count": null,
      "outputs": []
    },
    {
      "cell_type": "code",
      "source": [
        "!pwd"
      ],
      "metadata": {
        "id": "4983NZGoGgf_"
      },
      "execution_count": null,
      "outputs": []
    },
    {
      "cell_type": "code",
      "source": [],
      "metadata": {
        "id": "YpRS7f7SGk67"
      },
      "execution_count": null,
      "outputs": []
    }
  ]
}