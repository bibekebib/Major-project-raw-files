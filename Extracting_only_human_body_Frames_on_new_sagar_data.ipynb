{
  "nbformat": 4,
  "nbformat_minor": 0,
  "metadata": {
    "colab": {
      "provenance": [],
      "mount_file_id": "1kg938jfXtIF1bmykY1rFRIV5ImxIic6v",
      "authorship_tag": "ABX9TyNP2JIm4eQACTuAm6ToX6Ly",
      "include_colab_link": true
    },
    "kernelspec": {
      "name": "python3",
      "display_name": "Python 3"
    },
    "language_info": {
      "name": "python"
    },
    "gpuClass": "standard"
  },
  "cells": [
    {
      "cell_type": "markdown",
      "metadata": {
        "id": "view-in-github",
        "colab_type": "text"
      },
      "source": [
        "<a href=\"https://colab.research.google.com/github/bibekebib/Major-project-raw-files/blob/main/Extracting_only_human_body_Frames_on_new_sagar_data.ipynb\" target=\"_parent\"><img src=\"https://colab.research.google.com/assets/colab-badge.svg\" alt=\"Open In Colab\"/></a>"
      ]
    },
    {
      "cell_type": "code",
      "source": [
        "from google.colab import drive\n",
        "drive.mount('/content/drive')\n"
      ],
      "metadata": {
        "id": "UWMcpTB5vnUi",
        "colab": {
          "base_uri": "https://localhost:8080/"
        },
        "outputId": "7441b7c7-effc-4e96-efde-92bddd95bde8"
      },
      "execution_count": null,
      "outputs": [
        {
          "output_type": "stream",
          "name": "stdout",
          "text": [
            "Drive already mounted at /content/drive; to attempt to forcibly remount, call drive.mount(\"/content/drive\", force_remount=True).\n"
          ]
        }
      ]
    },
    {
      "cell_type": "code",
      "source": [
        "dataset_path = '/content/drive/MyDrive/dataset'"
      ],
      "metadata": {
        "id": "uILOoRcKv330"
      },
      "execution_count": null,
      "outputs": []
    },
    {
      "cell_type": "code",
      "source": [
        "from glob import glob\n",
        "import pandas as pd\n",
        "import cv2 as cv2\n",
        "import matplotlib.pyplot as plt\n",
        "import numpy as np\n",
        "import torch"
      ],
      "metadata": {
        "id": "lCZty5b9v-v5"
      },
      "execution_count": null,
      "outputs": []
    },
    {
      "cell_type": "code",
      "source": [
        "testdf = pd.read_csv(dataset_path+'/df_sagar.csv')"
      ],
      "metadata": {
        "id": "p2oDrRX2Od3i"
      },
      "execution_count": null,
      "outputs": []
    },
    {
      "cell_type": "code",
      "source": [
        "testdf.Label.unique()"
      ],
      "metadata": {
        "id": "h1rYHS4j0bTF",
        "colab": {
          "base_uri": "https://localhost:8080/"
        },
        "outputId": "a27888be-daa0-45c8-c449-d7a67435c675"
      },
      "execution_count": null,
      "outputs": [
        {
          "output_type": "execute_result",
          "data": {
            "text/plain": [
              "array(['brikshasana', 'trikonasana', 'cat_cow'], dtype=object)"
            ]
          },
          "metadata": {},
          "execution_count": 5
        }
      ]
    },
    {
      "cell_type": "code",
      "source": [
        "# def label_mapping(label):\n",
        "#   mapp = {'vriksh':0, 'bhujan':1}\n",
        "#   return mapp[label]"
      ],
      "metadata": {
        "id": "JmM3jpL7u2IN"
      },
      "execution_count": null,
      "outputs": []
    },
    {
      "cell_type": "code",
      "source": [
        "# label_mapping('bhujan')"
      ],
      "metadata": {
        "id": "3qEBjoZUwNgz"
      },
      "execution_count": null,
      "outputs": []
    },
    {
      "cell_type": "code",
      "source": [
        "# #Read frame number 53 of each video:\n",
        "# frame_number=93 #random\n",
        "# import cv2\n",
        "# def showFrame(path):\n",
        "#     cap = cv2.VideoCapture(path)\n",
        "#     cap.set(1, frame_number)\n",
        "#     res, frame = cap.read()\n",
        "#     print(f'Before conversion to grayscale {frame.shape}')\n",
        "#     frame = cv2.cvtColor(frame, cv2.COLOR_RGB2GRAY)\n",
        "#     print(f'afer conversion to grayscale {frame.shape} ')\n",
        "#     frame = frame[30:700,200:1050]\n",
        "#     frame.tolist()\n",
        "#     print(frame/255)\n",
        "#     # plt.title(path.split('/')[-2])\n",
        "#     # plt.axis(False)\n",
        "#     # plt.show()"
      ],
      "metadata": {
        "id": "9Kb8x4YNPyo_"
      },
      "execution_count": null,
      "outputs": []
    },
    {
      "cell_type": "code",
      "source": [
        "# showFrame(testdf.Path[2])"
      ],
      "metadata": {
        "id": "gnmXkiJqR7dI"
      },
      "execution_count": null,
      "outputs": []
    },
    {
      "cell_type": "code",
      "source": [
        "# padding_frame = 1500\n",
        "# video = cv2.VideoCapture(testdf.Path[0])\n",
        "\n",
        "# count = 0\n",
        "# testlist = []\n",
        "# while (count < padding_frame):\n",
        "#   success, cap = video.read()\n",
        "#   testlist.append(cap)\n",
        "#   count =+1\n"
      ],
      "metadata": {
        "id": "KoODrX4vhSIw"
      },
      "execution_count": null,
      "outputs": []
    },
    {
      "cell_type": "code",
      "source": [
        "testdf.Path[0].split('/')[-2]"
      ],
      "metadata": {
        "colab": {
          "base_uri": "https://localhost:8080/",
          "height": 35
        },
        "id": "uwGyynAZON0S",
        "outputId": "13ccb9c2-8630-4d21-a55b-9859f1e76fbf"
      },
      "execution_count": null,
      "outputs": [
        {
          "output_type": "execute_result",
          "data": {
            "text/plain": [
              "'brikshasana'"
            ],
            "application/vnd.google.colaboratory.intrinsic+json": {
              "type": "string"
            }
          },
          "metadata": {},
          "execution_count": 6
        }
      ]
    },
    {
      "cell_type": "code",
      "source": [
        "(testdf.Label[0]+'-'+testdf.Path[0].split('/')[-1].split('.')[0]).lower()"
      ],
      "metadata": {
        "id": "-oqcoX4Hn1ni",
        "colab": {
          "base_uri": "https://localhost:8080/",
          "height": 35
        },
        "outputId": "560162bd-8601-4018-f5f5-540490994a9c"
      },
      "execution_count": null,
      "outputs": [
        {
          "output_type": "execute_result",
          "data": {
            "text/plain": [
              "'brikshasana-2_01'"
            ],
            "application/vnd.google.colaboratory.intrinsic+json": {
              "type": "string"
            }
          },
          "metadata": {},
          "execution_count": 7
        }
      ]
    },
    {
      "cell_type": "code",
      "source": [
        "import torch"
      ],
      "metadata": {
        "id": "bOXHgWqNx3qd"
      },
      "execution_count": null,
      "outputs": []
    },
    {
      "cell_type": "code",
      "source": [
        "(testdf.Label[0]+'-'+testdf.Path[0].split('/')[-1].split('.')[0]).lower()"
      ],
      "metadata": {
        "colab": {
          "base_uri": "https://localhost:8080/",
          "height": 35
        },
        "id": "GKN7ubrSB8px",
        "outputId": "123b2839-1c2f-4d86-a92a-48f64e7a0e2a"
      },
      "execution_count": null,
      "outputs": [
        {
          "output_type": "execute_result",
          "data": {
            "text/plain": [
              "'brikshasana-2_01'"
            ],
            "application/vnd.google.colaboratory.intrinsic+json": {
              "type": "string"
            }
          },
          "metadata": {},
          "execution_count": 21
        }
      ]
    },
    {
      "cell_type": "code",
      "source": [
        "# xml_file = '/content/haar-cascade-files/haarcascade_fullbody.xml'\n",
        "# body_cascade = cv2.CascadeClassifier(xml_file)"
      ],
      "metadata": {
        "id": "6R8w3LWHvVei"
      },
      "execution_count": null,
      "outputs": []
    },
    {
      "cell_type": "code",
      "source": [
        "padding_frame = 300\n",
        "import os\n",
        "parentFolder = '/content/drive/MyDrive/NewDataset'\n",
        "def listframe(path, Label):\n",
        "  os.chdir(parentFolder)\n",
        "  foldername = (Label).lower()\n",
        "  count = 0\n",
        "  X_st = 30\n",
        "  X_en = 700\n",
        "  Y_st = 200\n",
        "  Y_en = 1050\n",
        "  Img_Size_X = X_en - X_st\n",
        "  Img_Size_y = -Y_st + Y_en\n",
        "  # frames = torch.empty(1, Img_Size_X, Img_Size_y)\n",
        "  \n",
        "  # testlist = []\n",
        "  if os.path.exists(parentFolder+'/'+foldername):\n",
        "    # os.rmdir(foldername)\n",
        "    os.chdir(foldername)\n",
        "  else:\n",
        "    os.mkdir(foldername)\n",
        "    os.chdir(foldername)\n",
        "  # print('ok')\n",
        "  video = cv2.VideoCapture(path)\n",
        "  # frames = torch.empty()\n",
        "  # label = label_mapping(Label)\n",
        "  while (count<padding_frame): \n",
        "    try:\n",
        "        if count%3 == 0:\n",
        "          success, cap = video.read()\n",
        "          # print(success)\n",
        "\n",
        "          cap = cv2.cvtColor(cap, cv2.COLOR_RGB2GRAY)\n",
        "          # cap = cap[X_st:X_en,Y_st:Y_en]\n",
        "          # plt.imshow(cap)\n",
        "          # body = body_cascade.detectMultiScale(cap)\n",
        "          # for (x, y,w, h) in body:\n",
        "\n",
        "            # cap = cap[x-5:x+y+5, w-5:w+h+5]\n",
        "            # plt.imshow(cap)\n",
        "          # cap = cv2.resize(cap, (224,224))\n",
        "\n",
        "          cv2.imwrite(f\" {Label+'-'+path.split('/')[-1].split('.')[0]} frame%d.jpg\" % count, cap) # save frame as JPEG file.\n",
        "          \n",
        "          # print(frames)\n",
        "          # print(count)\n",
        "        else:\n",
        "          pass\n",
        "        count = count+1\n",
        "    except:\n",
        "        pass\n",
        "        count = count +1\n",
        "    # with  open(f'{foldername}.txt', 'w') as f:\n",
        "      # # f.write(frames)\n",
        "      # for each in frames:\n",
        "      #   # print(each)\n",
        "      # print(frames)\n",
        "      #   f.write(each)\n",
        "      # np.save('/', np.array(frames))\n",
        "  # print(frames[0].shape)\n",
        "  # plt.imshow(frames[0])\n",
        "  print(f'done dong doing {path}')\n",
        "  # torch.save(frames, f'{foldername}.pt')\n",
        "    "
      ],
      "metadata": {
        "id": "mWvKbd3Cbwbm"
      },
      "execution_count": null,
      "outputs": []
    },
    {
      "cell_type": "code",
      "source": [
        "import tqdm\n",
        "for i in range(len(testdf.Path)):\n",
        "  tqdm.tqdm(listframe(testdf.Path[i], testdf.Label[i]))"
      ],
      "metadata": {
        "id": "T3LrgTtRS9HX",
        "colab": {
          "base_uri": "https://localhost:8080/"
        },
        "outputId": "94e95061-8168-4a96-ee5e-b5c571ec7686"
      },
      "execution_count": null,
      "outputs": [
        {
          "output_type": "stream",
          "name": "stdout",
          "text": [
            "done dong doing /content/drive/MyDrive/sagar/brikshasana/2_01.mp4\n"
          ]
        },
        {
          "output_type": "stream",
          "name": "stderr",
          "text": [
            "0it [00:00, ?it/s]\n"
          ]
        },
        {
          "output_type": "stream",
          "name": "stdout",
          "text": [
            "done dong doing /content/drive/MyDrive/sagar/brikshasana/2_02.mp4\n"
          ]
        },
        {
          "output_type": "stream",
          "name": "stderr",
          "text": [
            "0it [00:00, ?it/s]\n"
          ]
        },
        {
          "output_type": "stream",
          "name": "stdout",
          "text": [
            "done dong doing /content/drive/MyDrive/sagar/brikshasana/2_03.mp4\n"
          ]
        },
        {
          "output_type": "stream",
          "name": "stderr",
          "text": [
            "0it [00:00, ?it/s]\n"
          ]
        },
        {
          "output_type": "stream",
          "name": "stdout",
          "text": [
            "done dong doing /content/drive/MyDrive/sagar/brikshasana/2_04.mp4\n"
          ]
        },
        {
          "output_type": "stream",
          "name": "stderr",
          "text": [
            "0it [00:00, ?it/s]\n"
          ]
        },
        {
          "output_type": "stream",
          "name": "stdout",
          "text": [
            "done dong doing /content/drive/MyDrive/sagar/brikshasana/2_05.mp4\n"
          ]
        },
        {
          "output_type": "stream",
          "name": "stderr",
          "text": [
            "0it [00:00, ?it/s]\n"
          ]
        },
        {
          "output_type": "stream",
          "name": "stdout",
          "text": [
            "done dong doing /content/drive/MyDrive/sagar/brikshasana/2_06.mp4\n"
          ]
        },
        {
          "output_type": "stream",
          "name": "stderr",
          "text": [
            "0it [00:00, ?it/s]\n"
          ]
        },
        {
          "output_type": "stream",
          "name": "stdout",
          "text": [
            "done dong doing /content/drive/MyDrive/sagar/brikshasana/2_07.mp4\n"
          ]
        },
        {
          "output_type": "stream",
          "name": "stderr",
          "text": [
            "0it [00:00, ?it/s]\n"
          ]
        },
        {
          "output_type": "stream",
          "name": "stdout",
          "text": [
            "done dong doing /content/drive/MyDrive/sagar/brikshasana/2_08.mp4\n"
          ]
        },
        {
          "output_type": "stream",
          "name": "stderr",
          "text": [
            "0it [00:00, ?it/s]\n"
          ]
        },
        {
          "output_type": "stream",
          "name": "stdout",
          "text": [
            "done dong doing /content/drive/MyDrive/sagar/trikonasana/1_01.mp4\n"
          ]
        },
        {
          "output_type": "stream",
          "name": "stderr",
          "text": [
            "0it [00:00, ?it/s]\n"
          ]
        },
        {
          "output_type": "stream",
          "name": "stdout",
          "text": [
            "done dong doing /content/drive/MyDrive/sagar/trikonasana/1_02.mp4\n"
          ]
        },
        {
          "output_type": "stream",
          "name": "stderr",
          "text": [
            "0it [00:00, ?it/s]\n"
          ]
        },
        {
          "output_type": "stream",
          "name": "stdout",
          "text": [
            "done dong doing /content/drive/MyDrive/sagar/trikonasana/1_03.mp4\n"
          ]
        },
        {
          "output_type": "stream",
          "name": "stderr",
          "text": [
            "0it [00:00, ?it/s]\n"
          ]
        },
        {
          "output_type": "stream",
          "name": "stdout",
          "text": [
            "done dong doing /content/drive/MyDrive/sagar/trikonasana/1_04.mp4\n"
          ]
        },
        {
          "output_type": "stream",
          "name": "stderr",
          "text": [
            "0it [00:00, ?it/s]\n"
          ]
        },
        {
          "output_type": "stream",
          "name": "stdout",
          "text": [
            "done dong doing /content/drive/MyDrive/sagar/trikonasana/1_05.mp4\n"
          ]
        },
        {
          "output_type": "stream",
          "name": "stderr",
          "text": [
            "0it [00:00, ?it/s]\n"
          ]
        },
        {
          "output_type": "stream",
          "name": "stdout",
          "text": [
            "done dong doing /content/drive/MyDrive/sagar/trikonasana/1_06.mp4\n"
          ]
        },
        {
          "output_type": "stream",
          "name": "stderr",
          "text": [
            "0it [00:00, ?it/s]\n"
          ]
        },
        {
          "output_type": "stream",
          "name": "stdout",
          "text": [
            "done dong doing /content/drive/MyDrive/sagar/trikonasana/1_07.mp4\n"
          ]
        },
        {
          "output_type": "stream",
          "name": "stderr",
          "text": [
            "0it [00:00, ?it/s]\n"
          ]
        },
        {
          "output_type": "stream",
          "name": "stdout",
          "text": [
            "done dong doing /content/drive/MyDrive/sagar/cat_cow/3_01.mp4\n"
          ]
        },
        {
          "output_type": "stream",
          "name": "stderr",
          "text": [
            "0it [00:00, ?it/s]\n"
          ]
        },
        {
          "output_type": "stream",
          "name": "stdout",
          "text": [
            "done dong doing /content/drive/MyDrive/sagar/cat_cow/3_02.mp4\n"
          ]
        },
        {
          "output_type": "stream",
          "name": "stderr",
          "text": [
            "0it [00:00, ?it/s]\n"
          ]
        },
        {
          "output_type": "stream",
          "name": "stdout",
          "text": [
            "done dong doing /content/drive/MyDrive/sagar/cat_cow/3_03.mp4\n"
          ]
        },
        {
          "output_type": "stream",
          "name": "stderr",
          "text": [
            "0it [00:00, ?it/s]\n"
          ]
        },
        {
          "output_type": "stream",
          "name": "stdout",
          "text": [
            "done dong doing /content/drive/MyDrive/sagar/cat_cow/3_04.mp4\n"
          ]
        },
        {
          "output_type": "stream",
          "name": "stderr",
          "text": [
            "0it [00:00, ?it/s]\n"
          ]
        },
        {
          "output_type": "stream",
          "name": "stdout",
          "text": [
            "done dong doing /content/drive/MyDrive/sagar/cat_cow/3_05.mp4\n"
          ]
        },
        {
          "output_type": "stream",
          "name": "stderr",
          "text": [
            "0it [00:00, ?it/s]\n"
          ]
        },
        {
          "output_type": "stream",
          "name": "stdout",
          "text": [
            "done dong doing /content/drive/MyDrive/sagar/cat_cow/3_06.mp4\n"
          ]
        },
        {
          "output_type": "stream",
          "name": "stderr",
          "text": [
            "0it [00:00, ?it/s]\n"
          ]
        },
        {
          "output_type": "stream",
          "name": "stdout",
          "text": [
            "done dong doing /content/drive/MyDrive/sagar/cat_cow/3_07.mp4\n"
          ]
        },
        {
          "output_type": "stream",
          "name": "stderr",
          "text": [
            "0it [00:00, ?it/s]\n"
          ]
        },
        {
          "output_type": "stream",
          "name": "stdout",
          "text": [
            "done dong doing /content/drive/MyDrive/sagar/cat_cow/3_08.mp4\n"
          ]
        },
        {
          "output_type": "stream",
          "name": "stderr",
          "text": [
            "0it [00:00, ?it/s]\n"
          ]
        }
      ]
    },
    {
      "cell_type": "code",
      "source": [],
      "metadata": {
        "id": "X5zoYzqbmf4T"
      },
      "execution_count": null,
      "outputs": []
    },
    {
      "cell_type": "code",
      "source": [],
      "metadata": {
        "id": "wLeYf0J44dQ3"
      },
      "execution_count": null,
      "outputs": []
    },
    {
      "cell_type": "code",
      "source": [],
      "metadata": {
        "id": "0Cp2NTN_20Wi"
      },
      "execution_count": null,
      "outputs": []
    },
    {
      "cell_type": "code",
      "source": [],
      "metadata": {
        "id": "rlzr5if433I6"
      },
      "execution_count": null,
      "outputs": []
    },
    {
      "cell_type": "code",
      "source": [],
      "metadata": {
        "id": "7n8DnqXz3Wd-"
      },
      "execution_count": null,
      "outputs": []
    },
    {
      "cell_type": "code",
      "source": [],
      "metadata": {
        "colab": {
          "base_uri": "https://localhost:8080/"
        },
        "id": "AcfqyrNV3ApB",
        "outputId": "2ecf4caf-f45f-47bc-8de7-a269816087f5"
      },
      "execution_count": null,
      "outputs": [
        {
          "output_type": "execute_result",
          "data": {
            "text/plain": [
              "()"
            ]
          },
          "metadata": {},
          "execution_count": 17
        }
      ]
    },
    {
      "cell_type": "code",
      "source": [],
      "metadata": {
        "id": "PhD4wola5KEG"
      },
      "execution_count": null,
      "outputs": []
    },
    {
      "cell_type": "code",
      "source": [],
      "metadata": {
        "id": "attzePp05KA-"
      },
      "execution_count": null,
      "outputs": []
    },
    {
      "cell_type": "code",
      "source": [],
      "metadata": {
        "id": "dQIcU9Vz5J-H"
      },
      "execution_count": null,
      "outputs": []
    },
    {
      "cell_type": "code",
      "source": [],
      "metadata": {
        "id": "5FWqXuyv5J6_"
      },
      "execution_count": null,
      "outputs": []
    },
    {
      "cell_type": "code",
      "source": [],
      "metadata": {
        "id": "43ShWBbR5J34"
      },
      "execution_count": null,
      "outputs": []
    },
    {
      "cell_type": "code",
      "source": [],
      "metadata": {
        "id": "c18yilF-5Jz9"
      },
      "execution_count": null,
      "outputs": []
    },
    {
      "cell_type": "code",
      "source": [],
      "metadata": {
        "id": "1cbmH0YK5JwV"
      },
      "execution_count": null,
      "outputs": []
    },
    {
      "cell_type": "code",
      "source": [
        "testpath = '/content/drive/MyDrive/NewDataset'"
      ],
      "metadata": {
        "id": "llYUa1AU6K3r"
      },
      "execution_count": null,
      "outputs": []
    },
    {
      "cell_type": "code",
      "source": [
        "dirs = os.listdir(testpath)"
      ],
      "metadata": {
        "id": "Bw_a0Cf_mhUX"
      },
      "execution_count": null,
      "outputs": []
    },
    {
      "cell_type": "code",
      "source": [
        "dirs"
      ],
      "metadata": {
        "colab": {
          "base_uri": "https://localhost:8080/"
        },
        "id": "sUXwSDK7FX3X",
        "outputId": "633e4e15-26ad-4df7-ec8d-a219521ebc92"
      },
      "execution_count": null,
      "outputs": [
        {
          "output_type": "execute_result",
          "data": {
            "text/plain": [
              "['brikshasana', 'trikonasana', 'cat_cow']"
            ]
          },
          "metadata": {},
          "execution_count": 32
        }
      ]
    },
    {
      "cell_type": "code",
      "source": [
        "import random\n",
        "random.shuffle(dirs)"
      ],
      "metadata": {
        "id": "j69Ep4TPAUGj"
      },
      "execution_count": null,
      "outputs": []
    },
    {
      "cell_type": "code",
      "source": [
        "images_path = []\n",
        "labels = []\n"
      ],
      "metadata": {
        "id": "WLPWMiOgBBHL"
      },
      "execution_count": null,
      "outputs": []
    },
    {
      "cell_type": "code",
      "source": [
        "for each in dirs:\n",
        "  os.chdir(testpath+'/'+each)\n",
        "  cur_dir =  os.getcwd()\n",
        "  for files in os.listdir(cur_dir):\n",
        "    images_path.append(cur_dir+'/'+files)\n",
        "    labels.append(cur_dir.split('/')[-1].split('-')[0])\n",
        "    "
      ],
      "metadata": {
        "id": "aXCVgWj3NTFk"
      },
      "execution_count": null,
      "outputs": []
    },
    {
      "cell_type": "code",
      "source": [
        "labels"
      ],
      "metadata": {
        "colab": {
          "base_uri": "https://localhost:8080/"
        },
        "id": "_hdNna49Fkep",
        "outputId": "a0298184-0bad-4a86-d0a8-f9c7eeb787ca"
      },
      "execution_count": null,
      "outputs": [
        {
          "output_type": "execute_result",
          "data": {
            "text/plain": [
              "['cat_cow',\n",
              " 'cat_cow',\n",
              " 'cat_cow',\n",
              " 'cat_cow',\n",
              " 'cat_cow',\n",
              " 'cat_cow',\n",
              " 'cat_cow',\n",
              " 'cat_cow',\n",
              " 'cat_cow',\n",
              " 'cat_cow',\n",
              " 'cat_cow',\n",
              " 'cat_cow',\n",
              " 'cat_cow',\n",
              " 'cat_cow',\n",
              " 'cat_cow',\n",
              " 'cat_cow',\n",
              " 'cat_cow',\n",
              " 'cat_cow',\n",
              " 'cat_cow',\n",
              " 'cat_cow',\n",
              " 'cat_cow',\n",
              " 'cat_cow',\n",
              " 'cat_cow',\n",
              " 'cat_cow',\n",
              " 'cat_cow',\n",
              " 'cat_cow',\n",
              " 'cat_cow',\n",
              " 'cat_cow',\n",
              " 'cat_cow',\n",
              " 'cat_cow',\n",
              " 'cat_cow',\n",
              " 'cat_cow',\n",
              " 'cat_cow',\n",
              " 'cat_cow',\n",
              " 'cat_cow',\n",
              " 'cat_cow',\n",
              " 'cat_cow',\n",
              " 'cat_cow',\n",
              " 'cat_cow',\n",
              " 'cat_cow',\n",
              " 'cat_cow',\n",
              " 'cat_cow',\n",
              " 'cat_cow',\n",
              " 'cat_cow',\n",
              " 'cat_cow',\n",
              " 'cat_cow',\n",
              " 'cat_cow',\n",
              " 'cat_cow',\n",
              " 'cat_cow',\n",
              " 'cat_cow',\n",
              " 'cat_cow',\n",
              " 'cat_cow',\n",
              " 'cat_cow',\n",
              " 'cat_cow',\n",
              " 'cat_cow',\n",
              " 'cat_cow',\n",
              " 'cat_cow',\n",
              " 'cat_cow',\n",
              " 'cat_cow',\n",
              " 'cat_cow',\n",
              " 'cat_cow',\n",
              " 'cat_cow',\n",
              " 'cat_cow',\n",
              " 'cat_cow',\n",
              " 'cat_cow',\n",
              " 'cat_cow',\n",
              " 'cat_cow',\n",
              " 'cat_cow',\n",
              " 'cat_cow',\n",
              " 'cat_cow',\n",
              " 'cat_cow',\n",
              " 'cat_cow',\n",
              " 'cat_cow',\n",
              " 'cat_cow',\n",
              " 'cat_cow',\n",
              " 'cat_cow',\n",
              " 'cat_cow',\n",
              " 'cat_cow',\n",
              " 'cat_cow',\n",
              " 'cat_cow',\n",
              " 'cat_cow',\n",
              " 'cat_cow',\n",
              " 'cat_cow',\n",
              " 'cat_cow',\n",
              " 'cat_cow',\n",
              " 'cat_cow',\n",
              " 'cat_cow',\n",
              " 'cat_cow',\n",
              " 'cat_cow',\n",
              " 'cat_cow',\n",
              " 'cat_cow',\n",
              " 'cat_cow',\n",
              " 'cat_cow',\n",
              " 'cat_cow',\n",
              " 'cat_cow',\n",
              " 'cat_cow',\n",
              " 'cat_cow',\n",
              " 'cat_cow',\n",
              " 'cat_cow',\n",
              " 'cat_cow',\n",
              " 'cat_cow',\n",
              " 'cat_cow',\n",
              " 'cat_cow',\n",
              " 'cat_cow',\n",
              " 'cat_cow',\n",
              " 'cat_cow',\n",
              " 'cat_cow',\n",
              " 'cat_cow',\n",
              " 'cat_cow',\n",
              " 'cat_cow',\n",
              " 'cat_cow',\n",
              " 'cat_cow',\n",
              " 'cat_cow',\n",
              " 'cat_cow',\n",
              " 'cat_cow',\n",
              " 'cat_cow',\n",
              " 'cat_cow',\n",
              " 'cat_cow',\n",
              " 'cat_cow',\n",
              " 'cat_cow',\n",
              " 'cat_cow',\n",
              " 'cat_cow',\n",
              " 'cat_cow',\n",
              " 'cat_cow',\n",
              " 'cat_cow',\n",
              " 'cat_cow',\n",
              " 'cat_cow',\n",
              " 'cat_cow',\n",
              " 'cat_cow',\n",
              " 'cat_cow',\n",
              " 'cat_cow',\n",
              " 'cat_cow',\n",
              " 'cat_cow',\n",
              " 'cat_cow',\n",
              " 'cat_cow',\n",
              " 'cat_cow',\n",
              " 'cat_cow',\n",
              " 'cat_cow',\n",
              " 'cat_cow',\n",
              " 'cat_cow',\n",
              " 'cat_cow',\n",
              " 'cat_cow',\n",
              " 'cat_cow',\n",
              " 'cat_cow',\n",
              " 'cat_cow',\n",
              " 'cat_cow',\n",
              " 'cat_cow',\n",
              " 'cat_cow',\n",
              " 'cat_cow',\n",
              " 'cat_cow',\n",
              " 'cat_cow',\n",
              " 'cat_cow',\n",
              " 'cat_cow',\n",
              " 'cat_cow',\n",
              " 'cat_cow',\n",
              " 'cat_cow',\n",
              " 'cat_cow',\n",
              " 'cat_cow',\n",
              " 'cat_cow',\n",
              " 'cat_cow',\n",
              " 'cat_cow',\n",
              " 'cat_cow',\n",
              " 'cat_cow',\n",
              " 'cat_cow',\n",
              " 'cat_cow',\n",
              " 'cat_cow',\n",
              " 'cat_cow',\n",
              " 'cat_cow',\n",
              " 'cat_cow',\n",
              " 'cat_cow',\n",
              " 'cat_cow',\n",
              " 'cat_cow',\n",
              " 'cat_cow',\n",
              " 'cat_cow',\n",
              " 'cat_cow',\n",
              " 'cat_cow',\n",
              " 'cat_cow',\n",
              " 'cat_cow',\n",
              " 'cat_cow',\n",
              " 'cat_cow',\n",
              " 'cat_cow',\n",
              " 'cat_cow',\n",
              " 'cat_cow',\n",
              " 'cat_cow',\n",
              " 'cat_cow',\n",
              " 'cat_cow',\n",
              " 'cat_cow',\n",
              " 'cat_cow',\n",
              " 'cat_cow',\n",
              " 'cat_cow',\n",
              " 'cat_cow',\n",
              " 'cat_cow',\n",
              " 'cat_cow',\n",
              " 'cat_cow',\n",
              " 'cat_cow',\n",
              " 'cat_cow',\n",
              " 'cat_cow',\n",
              " 'cat_cow',\n",
              " 'cat_cow',\n",
              " 'cat_cow',\n",
              " 'cat_cow',\n",
              " 'cat_cow',\n",
              " 'cat_cow',\n",
              " 'cat_cow',\n",
              " 'cat_cow',\n",
              " 'cat_cow',\n",
              " 'cat_cow',\n",
              " 'cat_cow',\n",
              " 'cat_cow',\n",
              " 'cat_cow',\n",
              " 'cat_cow',\n",
              " 'cat_cow',\n",
              " 'cat_cow',\n",
              " 'cat_cow',\n",
              " 'cat_cow',\n",
              " 'cat_cow',\n",
              " 'cat_cow',\n",
              " 'cat_cow',\n",
              " 'cat_cow',\n",
              " 'cat_cow',\n",
              " 'cat_cow',\n",
              " 'cat_cow',\n",
              " 'cat_cow',\n",
              " 'cat_cow',\n",
              " 'cat_cow',\n",
              " 'cat_cow',\n",
              " 'cat_cow',\n",
              " 'cat_cow',\n",
              " 'cat_cow',\n",
              " 'cat_cow',\n",
              " 'cat_cow',\n",
              " 'cat_cow',\n",
              " 'cat_cow',\n",
              " 'cat_cow',\n",
              " 'cat_cow',\n",
              " 'cat_cow',\n",
              " 'cat_cow',\n",
              " 'cat_cow',\n",
              " 'cat_cow',\n",
              " 'cat_cow',\n",
              " 'cat_cow',\n",
              " 'cat_cow',\n",
              " 'cat_cow',\n",
              " 'cat_cow',\n",
              " 'cat_cow',\n",
              " 'cat_cow',\n",
              " 'cat_cow',\n",
              " 'cat_cow',\n",
              " 'cat_cow',\n",
              " 'cat_cow',\n",
              " 'cat_cow',\n",
              " 'cat_cow',\n",
              " 'cat_cow',\n",
              " 'cat_cow',\n",
              " 'cat_cow',\n",
              " 'cat_cow',\n",
              " 'cat_cow',\n",
              " 'cat_cow',\n",
              " 'cat_cow',\n",
              " 'cat_cow',\n",
              " 'cat_cow',\n",
              " 'cat_cow',\n",
              " 'cat_cow',\n",
              " 'cat_cow',\n",
              " 'cat_cow',\n",
              " 'cat_cow',\n",
              " 'cat_cow',\n",
              " 'cat_cow',\n",
              " 'cat_cow',\n",
              " 'cat_cow',\n",
              " 'cat_cow',\n",
              " 'cat_cow',\n",
              " 'cat_cow',\n",
              " 'cat_cow',\n",
              " 'cat_cow',\n",
              " 'cat_cow',\n",
              " 'cat_cow',\n",
              " 'cat_cow',\n",
              " 'cat_cow',\n",
              " 'cat_cow',\n",
              " 'cat_cow',\n",
              " 'cat_cow',\n",
              " 'cat_cow',\n",
              " 'cat_cow',\n",
              " 'cat_cow',\n",
              " 'cat_cow',\n",
              " 'cat_cow',\n",
              " 'cat_cow',\n",
              " 'cat_cow',\n",
              " 'cat_cow',\n",
              " 'cat_cow',\n",
              " 'cat_cow',\n",
              " 'cat_cow',\n",
              " 'cat_cow',\n",
              " 'cat_cow',\n",
              " 'cat_cow',\n",
              " 'cat_cow',\n",
              " 'cat_cow',\n",
              " 'cat_cow',\n",
              " 'cat_cow',\n",
              " 'cat_cow',\n",
              " 'cat_cow',\n",
              " 'cat_cow',\n",
              " 'cat_cow',\n",
              " 'cat_cow',\n",
              " 'cat_cow',\n",
              " 'cat_cow',\n",
              " 'cat_cow',\n",
              " 'cat_cow',\n",
              " 'cat_cow',\n",
              " 'cat_cow',\n",
              " 'cat_cow',\n",
              " 'cat_cow',\n",
              " 'cat_cow',\n",
              " 'cat_cow',\n",
              " 'cat_cow',\n",
              " 'cat_cow',\n",
              " 'cat_cow',\n",
              " 'cat_cow',\n",
              " 'cat_cow',\n",
              " 'cat_cow',\n",
              " 'cat_cow',\n",
              " 'cat_cow',\n",
              " 'cat_cow',\n",
              " 'cat_cow',\n",
              " 'cat_cow',\n",
              " 'cat_cow',\n",
              " 'cat_cow',\n",
              " 'cat_cow',\n",
              " 'cat_cow',\n",
              " 'cat_cow',\n",
              " 'cat_cow',\n",
              " 'cat_cow',\n",
              " 'cat_cow',\n",
              " 'cat_cow',\n",
              " 'cat_cow',\n",
              " 'cat_cow',\n",
              " 'cat_cow',\n",
              " 'cat_cow',\n",
              " 'cat_cow',\n",
              " 'cat_cow',\n",
              " 'cat_cow',\n",
              " 'cat_cow',\n",
              " 'cat_cow',\n",
              " 'cat_cow',\n",
              " 'cat_cow',\n",
              " 'cat_cow',\n",
              " 'cat_cow',\n",
              " 'cat_cow',\n",
              " 'cat_cow',\n",
              " 'cat_cow',\n",
              " 'cat_cow',\n",
              " 'cat_cow',\n",
              " 'cat_cow',\n",
              " 'cat_cow',\n",
              " 'cat_cow',\n",
              " 'cat_cow',\n",
              " 'cat_cow',\n",
              " 'cat_cow',\n",
              " 'cat_cow',\n",
              " 'cat_cow',\n",
              " 'cat_cow',\n",
              " 'cat_cow',\n",
              " 'cat_cow',\n",
              " 'cat_cow',\n",
              " 'cat_cow',\n",
              " 'cat_cow',\n",
              " 'cat_cow',\n",
              " 'cat_cow',\n",
              " 'cat_cow',\n",
              " 'cat_cow',\n",
              " 'cat_cow',\n",
              " 'cat_cow',\n",
              " 'cat_cow',\n",
              " 'cat_cow',\n",
              " 'cat_cow',\n",
              " 'cat_cow',\n",
              " 'cat_cow',\n",
              " 'cat_cow',\n",
              " 'cat_cow',\n",
              " 'cat_cow',\n",
              " 'cat_cow',\n",
              " 'cat_cow',\n",
              " 'cat_cow',\n",
              " 'cat_cow',\n",
              " 'cat_cow',\n",
              " 'cat_cow',\n",
              " 'cat_cow',\n",
              " 'cat_cow',\n",
              " 'cat_cow',\n",
              " 'cat_cow',\n",
              " 'cat_cow',\n",
              " 'cat_cow',\n",
              " 'cat_cow',\n",
              " 'cat_cow',\n",
              " 'cat_cow',\n",
              " 'cat_cow',\n",
              " 'cat_cow',\n",
              " 'cat_cow',\n",
              " 'cat_cow',\n",
              " 'cat_cow',\n",
              " 'cat_cow',\n",
              " 'cat_cow',\n",
              " 'cat_cow',\n",
              " 'cat_cow',\n",
              " 'cat_cow',\n",
              " 'cat_cow',\n",
              " 'cat_cow',\n",
              " 'cat_cow',\n",
              " 'cat_cow',\n",
              " 'cat_cow',\n",
              " 'cat_cow',\n",
              " 'cat_cow',\n",
              " 'cat_cow',\n",
              " 'cat_cow',\n",
              " 'cat_cow',\n",
              " 'cat_cow',\n",
              " 'cat_cow',\n",
              " 'cat_cow',\n",
              " 'cat_cow',\n",
              " 'cat_cow',\n",
              " 'cat_cow',\n",
              " 'cat_cow',\n",
              " 'cat_cow',\n",
              " 'cat_cow',\n",
              " 'cat_cow',\n",
              " 'cat_cow',\n",
              " 'cat_cow',\n",
              " 'cat_cow',\n",
              " 'cat_cow',\n",
              " 'cat_cow',\n",
              " 'cat_cow',\n",
              " 'cat_cow',\n",
              " 'cat_cow',\n",
              " 'cat_cow',\n",
              " 'cat_cow',\n",
              " 'cat_cow',\n",
              " 'cat_cow',\n",
              " 'cat_cow',\n",
              " 'cat_cow',\n",
              " 'cat_cow',\n",
              " 'cat_cow',\n",
              " 'cat_cow',\n",
              " 'cat_cow',\n",
              " 'cat_cow',\n",
              " 'cat_cow',\n",
              " 'cat_cow',\n",
              " 'cat_cow',\n",
              " 'cat_cow',\n",
              " 'cat_cow',\n",
              " 'cat_cow',\n",
              " 'cat_cow',\n",
              " 'cat_cow',\n",
              " 'cat_cow',\n",
              " 'cat_cow',\n",
              " 'cat_cow',\n",
              " 'cat_cow',\n",
              " 'cat_cow',\n",
              " 'cat_cow',\n",
              " 'cat_cow',\n",
              " 'cat_cow',\n",
              " 'cat_cow',\n",
              " 'cat_cow',\n",
              " 'cat_cow',\n",
              " 'cat_cow',\n",
              " 'cat_cow',\n",
              " 'cat_cow',\n",
              " 'cat_cow',\n",
              " 'cat_cow',\n",
              " 'cat_cow',\n",
              " 'cat_cow',\n",
              " 'cat_cow',\n",
              " 'cat_cow',\n",
              " 'cat_cow',\n",
              " 'cat_cow',\n",
              " 'cat_cow',\n",
              " 'cat_cow',\n",
              " 'cat_cow',\n",
              " 'cat_cow',\n",
              " 'cat_cow',\n",
              " 'cat_cow',\n",
              " 'cat_cow',\n",
              " 'cat_cow',\n",
              " 'cat_cow',\n",
              " 'cat_cow',\n",
              " 'cat_cow',\n",
              " 'cat_cow',\n",
              " 'cat_cow',\n",
              " 'cat_cow',\n",
              " 'cat_cow',\n",
              " 'cat_cow',\n",
              " 'cat_cow',\n",
              " 'cat_cow',\n",
              " 'cat_cow',\n",
              " 'cat_cow',\n",
              " 'cat_cow',\n",
              " 'cat_cow',\n",
              " 'cat_cow',\n",
              " 'cat_cow',\n",
              " 'cat_cow',\n",
              " 'cat_cow',\n",
              " 'cat_cow',\n",
              " 'cat_cow',\n",
              " 'cat_cow',\n",
              " 'cat_cow',\n",
              " 'cat_cow',\n",
              " 'cat_cow',\n",
              " 'cat_cow',\n",
              " 'cat_cow',\n",
              " 'cat_cow',\n",
              " 'cat_cow',\n",
              " 'cat_cow',\n",
              " 'cat_cow',\n",
              " 'cat_cow',\n",
              " 'cat_cow',\n",
              " 'cat_cow',\n",
              " 'cat_cow',\n",
              " 'cat_cow',\n",
              " 'cat_cow',\n",
              " 'cat_cow',\n",
              " 'cat_cow',\n",
              " 'cat_cow',\n",
              " 'cat_cow',\n",
              " 'cat_cow',\n",
              " 'cat_cow',\n",
              " 'cat_cow',\n",
              " 'cat_cow',\n",
              " 'cat_cow',\n",
              " 'cat_cow',\n",
              " 'cat_cow',\n",
              " 'cat_cow',\n",
              " 'cat_cow',\n",
              " 'cat_cow',\n",
              " 'cat_cow',\n",
              " 'cat_cow',\n",
              " 'cat_cow',\n",
              " 'cat_cow',\n",
              " 'cat_cow',\n",
              " 'cat_cow',\n",
              " 'cat_cow',\n",
              " 'cat_cow',\n",
              " 'cat_cow',\n",
              " 'cat_cow',\n",
              " 'cat_cow',\n",
              " 'cat_cow',\n",
              " 'cat_cow',\n",
              " 'cat_cow',\n",
              " 'cat_cow',\n",
              " 'cat_cow',\n",
              " 'cat_cow',\n",
              " 'cat_cow',\n",
              " 'cat_cow',\n",
              " 'cat_cow',\n",
              " 'cat_cow',\n",
              " 'cat_cow',\n",
              " 'cat_cow',\n",
              " 'cat_cow',\n",
              " 'cat_cow',\n",
              " 'cat_cow',\n",
              " 'cat_cow',\n",
              " 'cat_cow',\n",
              " 'cat_cow',\n",
              " 'cat_cow',\n",
              " 'cat_cow',\n",
              " 'cat_cow',\n",
              " 'cat_cow',\n",
              " 'cat_cow',\n",
              " 'cat_cow',\n",
              " 'cat_cow',\n",
              " 'cat_cow',\n",
              " 'cat_cow',\n",
              " 'cat_cow',\n",
              " 'cat_cow',\n",
              " 'cat_cow',\n",
              " 'cat_cow',\n",
              " 'cat_cow',\n",
              " 'cat_cow',\n",
              " 'cat_cow',\n",
              " 'cat_cow',\n",
              " 'cat_cow',\n",
              " 'cat_cow',\n",
              " 'cat_cow',\n",
              " 'cat_cow',\n",
              " 'cat_cow',\n",
              " 'cat_cow',\n",
              " 'cat_cow',\n",
              " 'cat_cow',\n",
              " 'cat_cow',\n",
              " 'cat_cow',\n",
              " 'cat_cow',\n",
              " 'cat_cow',\n",
              " 'cat_cow',\n",
              " 'cat_cow',\n",
              " 'cat_cow',\n",
              " 'cat_cow',\n",
              " 'cat_cow',\n",
              " 'cat_cow',\n",
              " 'cat_cow',\n",
              " 'cat_cow',\n",
              " 'cat_cow',\n",
              " 'cat_cow',\n",
              " 'cat_cow',\n",
              " 'cat_cow',\n",
              " 'cat_cow',\n",
              " 'cat_cow',\n",
              " 'cat_cow',\n",
              " 'cat_cow',\n",
              " 'cat_cow',\n",
              " 'cat_cow',\n",
              " 'cat_cow',\n",
              " 'cat_cow',\n",
              " 'cat_cow',\n",
              " 'cat_cow',\n",
              " 'cat_cow',\n",
              " 'cat_cow',\n",
              " 'cat_cow',\n",
              " 'cat_cow',\n",
              " 'cat_cow',\n",
              " 'cat_cow',\n",
              " 'cat_cow',\n",
              " 'cat_cow',\n",
              " 'cat_cow',\n",
              " 'cat_cow',\n",
              " 'cat_cow',\n",
              " 'cat_cow',\n",
              " 'cat_cow',\n",
              " 'cat_cow',\n",
              " 'cat_cow',\n",
              " 'cat_cow',\n",
              " 'cat_cow',\n",
              " 'cat_cow',\n",
              " 'cat_cow',\n",
              " 'cat_cow',\n",
              " 'cat_cow',\n",
              " 'cat_cow',\n",
              " 'cat_cow',\n",
              " 'cat_cow',\n",
              " 'cat_cow',\n",
              " 'cat_cow',\n",
              " 'cat_cow',\n",
              " 'cat_cow',\n",
              " 'cat_cow',\n",
              " 'cat_cow',\n",
              " 'cat_cow',\n",
              " 'cat_cow',\n",
              " 'cat_cow',\n",
              " 'cat_cow',\n",
              " 'cat_cow',\n",
              " 'cat_cow',\n",
              " 'cat_cow',\n",
              " 'cat_cow',\n",
              " 'cat_cow',\n",
              " 'cat_cow',\n",
              " 'cat_cow',\n",
              " 'cat_cow',\n",
              " 'cat_cow',\n",
              " 'cat_cow',\n",
              " 'cat_cow',\n",
              " 'cat_cow',\n",
              " 'cat_cow',\n",
              " 'cat_cow',\n",
              " 'cat_cow',\n",
              " 'cat_cow',\n",
              " 'cat_cow',\n",
              " 'cat_cow',\n",
              " 'cat_cow',\n",
              " 'cat_cow',\n",
              " 'cat_cow',\n",
              " 'cat_cow',\n",
              " 'cat_cow',\n",
              " 'cat_cow',\n",
              " 'cat_cow',\n",
              " 'cat_cow',\n",
              " 'cat_cow',\n",
              " 'cat_cow',\n",
              " 'cat_cow',\n",
              " 'cat_cow',\n",
              " 'cat_cow',\n",
              " 'cat_cow',\n",
              " 'cat_cow',\n",
              " 'cat_cow',\n",
              " 'cat_cow',\n",
              " 'cat_cow',\n",
              " 'cat_cow',\n",
              " 'cat_cow',\n",
              " 'cat_cow',\n",
              " 'cat_cow',\n",
              " 'cat_cow',\n",
              " 'cat_cow',\n",
              " 'cat_cow',\n",
              " 'cat_cow',\n",
              " 'cat_cow',\n",
              " 'cat_cow',\n",
              " 'cat_cow',\n",
              " 'cat_cow',\n",
              " 'cat_cow',\n",
              " 'cat_cow',\n",
              " 'cat_cow',\n",
              " 'cat_cow',\n",
              " 'cat_cow',\n",
              " 'cat_cow',\n",
              " 'cat_cow',\n",
              " 'cat_cow',\n",
              " 'cat_cow',\n",
              " 'cat_cow',\n",
              " 'cat_cow',\n",
              " 'cat_cow',\n",
              " 'cat_cow',\n",
              " 'cat_cow',\n",
              " 'cat_cow',\n",
              " 'cat_cow',\n",
              " 'cat_cow',\n",
              " 'cat_cow',\n",
              " 'cat_cow',\n",
              " 'cat_cow',\n",
              " 'cat_cow',\n",
              " 'cat_cow',\n",
              " 'cat_cow',\n",
              " 'cat_cow',\n",
              " 'cat_cow',\n",
              " 'cat_cow',\n",
              " 'cat_cow',\n",
              " 'cat_cow',\n",
              " 'cat_cow',\n",
              " 'cat_cow',\n",
              " 'cat_cow',\n",
              " 'cat_cow',\n",
              " 'cat_cow',\n",
              " 'cat_cow',\n",
              " 'cat_cow',\n",
              " 'cat_cow',\n",
              " 'cat_cow',\n",
              " 'cat_cow',\n",
              " 'cat_cow',\n",
              " 'cat_cow',\n",
              " 'cat_cow',\n",
              " 'cat_cow',\n",
              " 'cat_cow',\n",
              " 'cat_cow',\n",
              " 'cat_cow',\n",
              " 'cat_cow',\n",
              " 'cat_cow',\n",
              " 'cat_cow',\n",
              " 'cat_cow',\n",
              " 'cat_cow',\n",
              " 'cat_cow',\n",
              " 'cat_cow',\n",
              " 'cat_cow',\n",
              " 'cat_cow',\n",
              " 'cat_cow',\n",
              " 'cat_cow',\n",
              " 'cat_cow',\n",
              " 'cat_cow',\n",
              " 'cat_cow',\n",
              " 'cat_cow',\n",
              " 'cat_cow',\n",
              " 'cat_cow',\n",
              " 'cat_cow',\n",
              " 'cat_cow',\n",
              " 'cat_cow',\n",
              " 'cat_cow',\n",
              " 'cat_cow',\n",
              " 'cat_cow',\n",
              " 'cat_cow',\n",
              " 'cat_cow',\n",
              " 'cat_cow',\n",
              " 'cat_cow',\n",
              " 'cat_cow',\n",
              " 'cat_cow',\n",
              " 'cat_cow',\n",
              " 'cat_cow',\n",
              " 'cat_cow',\n",
              " 'cat_cow',\n",
              " 'cat_cow',\n",
              " 'cat_cow',\n",
              " 'cat_cow',\n",
              " 'cat_cow',\n",
              " 'cat_cow',\n",
              " 'cat_cow',\n",
              " 'cat_cow',\n",
              " 'cat_cow',\n",
              " 'cat_cow',\n",
              " 'cat_cow',\n",
              " 'cat_cow',\n",
              " 'cat_cow',\n",
              " 'cat_cow',\n",
              " 'cat_cow',\n",
              " 'cat_cow',\n",
              " 'cat_cow',\n",
              " 'cat_cow',\n",
              " 'cat_cow',\n",
              " 'cat_cow',\n",
              " 'cat_cow',\n",
              " 'cat_cow',\n",
              " 'cat_cow',\n",
              " 'cat_cow',\n",
              " 'cat_cow',\n",
              " 'cat_cow',\n",
              " 'cat_cow',\n",
              " 'cat_cow',\n",
              " 'trikonasana',\n",
              " 'trikonasana',\n",
              " 'trikonasana',\n",
              " 'trikonasana',\n",
              " 'trikonasana',\n",
              " 'trikonasana',\n",
              " 'trikonasana',\n",
              " 'trikonasana',\n",
              " 'trikonasana',\n",
              " 'trikonasana',\n",
              " 'trikonasana',\n",
              " 'trikonasana',\n",
              " 'trikonasana',\n",
              " 'trikonasana',\n",
              " 'trikonasana',\n",
              " 'trikonasana',\n",
              " 'trikonasana',\n",
              " 'trikonasana',\n",
              " 'trikonasana',\n",
              " 'trikonasana',\n",
              " 'trikonasana',\n",
              " 'trikonasana',\n",
              " 'trikonasana',\n",
              " 'trikonasana',\n",
              " 'trikonasana',\n",
              " 'trikonasana',\n",
              " 'trikonasana',\n",
              " 'trikonasana',\n",
              " 'trikonasana',\n",
              " 'trikonasana',\n",
              " 'trikonasana',\n",
              " 'trikonasana',\n",
              " 'trikonasana',\n",
              " 'trikonasana',\n",
              " 'trikonasana',\n",
              " 'trikonasana',\n",
              " 'trikonasana',\n",
              " 'trikonasana',\n",
              " 'trikonasana',\n",
              " 'trikonasana',\n",
              " 'trikonasana',\n",
              " 'trikonasana',\n",
              " 'trikonasana',\n",
              " 'trikonasana',\n",
              " 'trikonasana',\n",
              " 'trikonasana',\n",
              " 'trikonasana',\n",
              " 'trikonasana',\n",
              " 'trikonasana',\n",
              " 'trikonasana',\n",
              " 'trikonasana',\n",
              " 'trikonasana',\n",
              " 'trikonasana',\n",
              " 'trikonasana',\n",
              " 'trikonasana',\n",
              " 'trikonasana',\n",
              " 'trikonasana',\n",
              " 'trikonasana',\n",
              " 'trikonasana',\n",
              " 'trikonasana',\n",
              " 'trikonasana',\n",
              " 'trikonasana',\n",
              " 'trikonasana',\n",
              " 'trikonasana',\n",
              " 'trikonasana',\n",
              " 'trikonasana',\n",
              " 'trikonasana',\n",
              " 'trikonasana',\n",
              " 'trikonasana',\n",
              " 'trikonasana',\n",
              " 'trikonasana',\n",
              " 'trikonasana',\n",
              " 'trikonasana',\n",
              " 'trikonasana',\n",
              " 'trikonasana',\n",
              " 'trikonasana',\n",
              " 'trikonasana',\n",
              " 'trikonasana',\n",
              " 'trikonasana',\n",
              " 'trikonasana',\n",
              " 'trikonasana',\n",
              " 'trikonasana',\n",
              " 'trikonasana',\n",
              " 'trikonasana',\n",
              " 'trikonasana',\n",
              " 'trikonasana',\n",
              " 'trikonasana',\n",
              " 'trikonasana',\n",
              " 'trikonasana',\n",
              " 'trikonasana',\n",
              " 'trikonasana',\n",
              " 'trikonasana',\n",
              " 'trikonasana',\n",
              " 'trikonasana',\n",
              " 'trikonasana',\n",
              " 'trikonasana',\n",
              " 'trikonasana',\n",
              " 'trikonasana',\n",
              " 'trikonasana',\n",
              " 'trikonasana',\n",
              " 'trikonasana',\n",
              " 'trikonasana',\n",
              " 'trikonasana',\n",
              " 'trikonasana',\n",
              " 'trikonasana',\n",
              " 'trikonasana',\n",
              " 'trikonasana',\n",
              " 'trikonasana',\n",
              " 'trikonasana',\n",
              " 'trikonasana',\n",
              " 'trikonasana',\n",
              " 'trikonasana',\n",
              " 'trikonasana',\n",
              " 'trikonasana',\n",
              " 'trikonasana',\n",
              " 'trikonasana',\n",
              " 'trikonasana',\n",
              " 'trikonasana',\n",
              " 'trikonasana',\n",
              " 'trikonasana',\n",
              " 'trikonasana',\n",
              " 'trikonasana',\n",
              " 'trikonasana',\n",
              " 'trikonasana',\n",
              " 'trikonasana',\n",
              " 'trikonasana',\n",
              " 'trikonasana',\n",
              " 'trikonasana',\n",
              " 'trikonasana',\n",
              " 'trikonasana',\n",
              " 'trikonasana',\n",
              " 'trikonasana',\n",
              " 'trikonasana',\n",
              " 'trikonasana',\n",
              " 'trikonasana',\n",
              " 'trikonasana',\n",
              " 'trikonasana',\n",
              " 'trikonasana',\n",
              " 'trikonasana',\n",
              " 'trikonasana',\n",
              " 'trikonasana',\n",
              " 'trikonasana',\n",
              " 'trikonasana',\n",
              " 'trikonasana',\n",
              " 'trikonasana',\n",
              " 'trikonasana',\n",
              " 'trikonasana',\n",
              " 'trikonasana',\n",
              " 'trikonasana',\n",
              " 'trikonasana',\n",
              " 'trikonasana',\n",
              " 'trikonasana',\n",
              " 'trikonasana',\n",
              " 'trikonasana',\n",
              " 'trikonasana',\n",
              " 'trikonasana',\n",
              " 'trikonasana',\n",
              " 'trikonasana',\n",
              " 'trikonasana',\n",
              " 'trikonasana',\n",
              " 'trikonasana',\n",
              " 'trikonasana',\n",
              " 'trikonasana',\n",
              " 'trikonasana',\n",
              " 'trikonasana',\n",
              " 'trikonasana',\n",
              " 'trikonasana',\n",
              " 'trikonasana',\n",
              " 'trikonasana',\n",
              " 'trikonasana',\n",
              " 'trikonasana',\n",
              " 'trikonasana',\n",
              " 'trikonasana',\n",
              " 'trikonasana',\n",
              " 'trikonasana',\n",
              " 'trikonasana',\n",
              " 'trikonasana',\n",
              " 'trikonasana',\n",
              " 'trikonasana',\n",
              " 'trikonasana',\n",
              " 'trikonasana',\n",
              " 'trikonasana',\n",
              " 'trikonasana',\n",
              " 'trikonasana',\n",
              " 'trikonasana',\n",
              " 'trikonasana',\n",
              " 'trikonasana',\n",
              " 'trikonasana',\n",
              " 'trikonasana',\n",
              " 'trikonasana',\n",
              " 'trikonasana',\n",
              " 'trikonasana',\n",
              " 'trikonasana',\n",
              " 'trikonasana',\n",
              " 'trikonasana',\n",
              " 'trikonasana',\n",
              " 'trikonasana',\n",
              " 'trikonasana',\n",
              " 'trikonasana',\n",
              " 'trikonasana',\n",
              " ...]"
            ]
          },
          "metadata": {},
          "execution_count": 37
        }
      ]
    },
    {
      "cell_type": "code",
      "source": [
        "import pandas as pd\n",
        "df = pd.DataFrame(list(zip(images_path, labels)), columns = ['path', 'label'])"
      ],
      "metadata": {
        "id": "JLqQFEZJPP9W"
      },
      "execution_count": null,
      "outputs": []
    },
    {
      "cell_type": "code",
      "source": [
        "df.head"
      ],
      "metadata": {
        "id": "xXwNB7o49Q16",
        "colab": {
          "base_uri": "https://localhost:8080/"
        },
        "outputId": "88674531-c556-4511-e262-681374e26091"
      },
      "execution_count": null,
      "outputs": [
        {
          "output_type": "execute_result",
          "data": {
            "text/plain": [
              "<bound method NDFrame.head of                                                    path        label\n",
              "0     /content/drive/MyDrive/NewDataset/cat_cow/ cat...      cat_cow\n",
              "1     /content/drive/MyDrive/NewDataset/cat_cow/ cat...      cat_cow\n",
              "2     /content/drive/MyDrive/NewDataset/cat_cow/ cat...      cat_cow\n",
              "3     /content/drive/MyDrive/NewDataset/cat_cow/ cat...      cat_cow\n",
              "4     /content/drive/MyDrive/NewDataset/cat_cow/ cat...      cat_cow\n",
              "...                                                 ...          ...\n",
              "2025  /content/drive/MyDrive/NewDataset/brikshasana/...  brikshasana\n",
              "2026  /content/drive/MyDrive/NewDataset/brikshasana/...  brikshasana\n",
              "2027  /content/drive/MyDrive/NewDataset/brikshasana/...  brikshasana\n",
              "2028  /content/drive/MyDrive/NewDataset/brikshasana/...  brikshasana\n",
              "2029  /content/drive/MyDrive/NewDataset/brikshasana/...  brikshasana\n",
              "\n",
              "[2030 rows x 2 columns]>"
            ]
          },
          "metadata": {},
          "execution_count": 39
        }
      ]
    },
    {
      "cell_type": "code",
      "source": [
        "df = df.sample(frac=1)"
      ],
      "metadata": {
        "id": "-AhehU34468N"
      },
      "execution_count": null,
      "outputs": []
    },
    {
      "cell_type": "code",
      "source": [
        "df.head()"
      ],
      "metadata": {
        "colab": {
          "base_uri": "https://localhost:8080/",
          "height": 206
        },
        "id": "ORkCfg2EGSe7",
        "outputId": "b58336ed-02c9-4950-9852-0b1b745f50a4"
      },
      "execution_count": null,
      "outputs": [
        {
          "output_type": "execute_result",
          "data": {
            "text/plain": [
              "                                                   path        label\n",
              "1992  /content/drive/MyDrive/NewDataset/brikshasana/...  brikshasana\n",
              "939   /content/drive/MyDrive/NewDataset/trikonasana/...  trikonasana\n",
              "1188  /content/drive/MyDrive/NewDataset/trikonasana/...  trikonasana\n",
              "253   /content/drive/MyDrive/NewDataset/cat_cow/ cat...      cat_cow\n",
              "1690  /content/drive/MyDrive/NewDataset/brikshasana/...  brikshasana"
            ],
            "text/html": [
              "\n",
              "  <div id=\"df-ff76d5f5-adcf-45f6-bce0-7dc84ee5199f\">\n",
              "    <div class=\"colab-df-container\">\n",
              "      <div>\n",
              "<style scoped>\n",
              "    .dataframe tbody tr th:only-of-type {\n",
              "        vertical-align: middle;\n",
              "    }\n",
              "\n",
              "    .dataframe tbody tr th {\n",
              "        vertical-align: top;\n",
              "    }\n",
              "\n",
              "    .dataframe thead th {\n",
              "        text-align: right;\n",
              "    }\n",
              "</style>\n",
              "<table border=\"1\" class=\"dataframe\">\n",
              "  <thead>\n",
              "    <tr style=\"text-align: right;\">\n",
              "      <th></th>\n",
              "      <th>path</th>\n",
              "      <th>label</th>\n",
              "    </tr>\n",
              "  </thead>\n",
              "  <tbody>\n",
              "    <tr>\n",
              "      <th>1992</th>\n",
              "      <td>/content/drive/MyDrive/NewDataset/brikshasana/...</td>\n",
              "      <td>brikshasana</td>\n",
              "    </tr>\n",
              "    <tr>\n",
              "      <th>939</th>\n",
              "      <td>/content/drive/MyDrive/NewDataset/trikonasana/...</td>\n",
              "      <td>trikonasana</td>\n",
              "    </tr>\n",
              "    <tr>\n",
              "      <th>1188</th>\n",
              "      <td>/content/drive/MyDrive/NewDataset/trikonasana/...</td>\n",
              "      <td>trikonasana</td>\n",
              "    </tr>\n",
              "    <tr>\n",
              "      <th>253</th>\n",
              "      <td>/content/drive/MyDrive/NewDataset/cat_cow/ cat...</td>\n",
              "      <td>cat_cow</td>\n",
              "    </tr>\n",
              "    <tr>\n",
              "      <th>1690</th>\n",
              "      <td>/content/drive/MyDrive/NewDataset/brikshasana/...</td>\n",
              "      <td>brikshasana</td>\n",
              "    </tr>\n",
              "  </tbody>\n",
              "</table>\n",
              "</div>\n",
              "      <button class=\"colab-df-convert\" onclick=\"convertToInteractive('df-ff76d5f5-adcf-45f6-bce0-7dc84ee5199f')\"\n",
              "              title=\"Convert this dataframe to an interactive table.\"\n",
              "              style=\"display:none;\">\n",
              "        \n",
              "  <svg xmlns=\"http://www.w3.org/2000/svg\" height=\"24px\"viewBox=\"0 0 24 24\"\n",
              "       width=\"24px\">\n",
              "    <path d=\"M0 0h24v24H0V0z\" fill=\"none\"/>\n",
              "    <path d=\"M18.56 5.44l.94 2.06.94-2.06 2.06-.94-2.06-.94-.94-2.06-.94 2.06-2.06.94zm-11 1L8.5 8.5l.94-2.06 2.06-.94-2.06-.94L8.5 2.5l-.94 2.06-2.06.94zm10 10l.94 2.06.94-2.06 2.06-.94-2.06-.94-.94-2.06-.94 2.06-2.06.94z\"/><path d=\"M17.41 7.96l-1.37-1.37c-.4-.4-.92-.59-1.43-.59-.52 0-1.04.2-1.43.59L10.3 9.45l-7.72 7.72c-.78.78-.78 2.05 0 2.83L4 21.41c.39.39.9.59 1.41.59.51 0 1.02-.2 1.41-.59l7.78-7.78 2.81-2.81c.8-.78.8-2.07 0-2.86zM5.41 20L4 18.59l7.72-7.72 1.47 1.35L5.41 20z\"/>\n",
              "  </svg>\n",
              "      </button>\n",
              "      \n",
              "  <style>\n",
              "    .colab-df-container {\n",
              "      display:flex;\n",
              "      flex-wrap:wrap;\n",
              "      gap: 12px;\n",
              "    }\n",
              "\n",
              "    .colab-df-convert {\n",
              "      background-color: #E8F0FE;\n",
              "      border: none;\n",
              "      border-radius: 50%;\n",
              "      cursor: pointer;\n",
              "      display: none;\n",
              "      fill: #1967D2;\n",
              "      height: 32px;\n",
              "      padding: 0 0 0 0;\n",
              "      width: 32px;\n",
              "    }\n",
              "\n",
              "    .colab-df-convert:hover {\n",
              "      background-color: #E2EBFA;\n",
              "      box-shadow: 0px 1px 2px rgba(60, 64, 67, 0.3), 0px 1px 3px 1px rgba(60, 64, 67, 0.15);\n",
              "      fill: #174EA6;\n",
              "    }\n",
              "\n",
              "    [theme=dark] .colab-df-convert {\n",
              "      background-color: #3B4455;\n",
              "      fill: #D2E3FC;\n",
              "    }\n",
              "\n",
              "    [theme=dark] .colab-df-convert:hover {\n",
              "      background-color: #434B5C;\n",
              "      box-shadow: 0px 1px 3px 1px rgba(0, 0, 0, 0.15);\n",
              "      filter: drop-shadow(0px 1px 2px rgba(0, 0, 0, 0.3));\n",
              "      fill: #FFFFFF;\n",
              "    }\n",
              "  </style>\n",
              "\n",
              "      <script>\n",
              "        const buttonEl =\n",
              "          document.querySelector('#df-ff76d5f5-adcf-45f6-bce0-7dc84ee5199f button.colab-df-convert');\n",
              "        buttonEl.style.display =\n",
              "          google.colab.kernel.accessAllowed ? 'block' : 'none';\n",
              "\n",
              "        async function convertToInteractive(key) {\n",
              "          const element = document.querySelector('#df-ff76d5f5-adcf-45f6-bce0-7dc84ee5199f');\n",
              "          const dataTable =\n",
              "            await google.colab.kernel.invokeFunction('convertToInteractive',\n",
              "                                                     [key], {});\n",
              "          if (!dataTable) return;\n",
              "\n",
              "          const docLinkHtml = 'Like what you see? Visit the ' +\n",
              "            '<a target=\"_blank\" href=https://colab.research.google.com/notebooks/data_table.ipynb>data table notebook</a>'\n",
              "            + ' to learn more about interactive tables.';\n",
              "          element.innerHTML = '';\n",
              "          dataTable['output_type'] = 'display_data';\n",
              "          await google.colab.output.renderOutput(dataTable, element);\n",
              "          const docLink = document.createElement('div');\n",
              "          docLink.innerHTML = docLinkHtml;\n",
              "          element.appendChild(docLink);\n",
              "        }\n",
              "      </script>\n",
              "    </div>\n",
              "  </div>\n",
              "  "
            ]
          },
          "metadata": {},
          "execution_count": 42
        }
      ]
    },
    {
      "cell_type": "code",
      "source": [
        "df.to_csv('newdf_image_path.csv')"
      ],
      "metadata": {
        "id": "EEc6Klv5GZi1"
      },
      "execution_count": null,
      "outputs": []
    },
    {
      "cell_type": "code",
      "source": [
        "!pwd"
      ],
      "metadata": {
        "colab": {
          "base_uri": "https://localhost:8080/"
        },
        "id": "4983NZGoGgf_",
        "outputId": "a4cceb30-f5e6-47fe-bf6c-56d721a3a95d"
      },
      "execution_count": null,
      "outputs": [
        {
          "output_type": "stream",
          "name": "stdout",
          "text": [
            "/content/drive/MyDrive/NewDataset/brikshasana\n"
          ]
        }
      ]
    },
    {
      "cell_type": "code",
      "source": [],
      "metadata": {
        "id": "YpRS7f7SGk67"
      },
      "execution_count": null,
      "outputs": []
    }
  ]
}