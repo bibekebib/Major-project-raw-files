{
  "nbformat": 4,
  "nbformat_minor": 0,
  "metadata": {
    "colab": {
      "provenance": [],
      "collapsed_sections": [],
      "mount_file_id": "1kg938jfXtIF1bmykY1rFRIV5ImxIic6v",
      "authorship_tag": "ABX9TyMcPdLjZY7v8APRaZQVkS1T",
      "include_colab_link": true
    },
    "kernelspec": {
      "name": "python3",
      "display_name": "Python 3"
    },
    "language_info": {
      "name": "python"
    },
    "gpuClass": "standard"
  },
  "cells": [
    {
      "cell_type": "markdown",
      "metadata": {
        "id": "view-in-github",
        "colab_type": "text"
      },
      "source": [
        "<a href=\"https://colab.research.google.com/github/bibekebib/Major-project-raw-files/blob/main/Copy_of_Copy_of_let_the_dice_roll_over.ipynb\" target=\"_parent\"><img src=\"https://colab.research.google.com/assets/colab-badge.svg\" alt=\"Open In Colab\"/></a>"
      ]
    },
    {
      "cell_type": "code",
      "execution_count": null,
      "metadata": {
        "id": "ZP0AxZZwvaDz"
      },
      "outputs": [],
      "source": []
    },
    {
      "cell_type": "code",
      "source": [
        "from google.colab import drive\n",
        "drive.mount('/content/drive')\n"
      ],
      "metadata": {
        "id": "UWMcpTB5vnUi",
        "colab": {
          "base_uri": "https://localhost:8080/"
        },
        "outputId": "3d9e6aad-05d1-4031-e44f-c64a4e7a9bf8"
      },
      "execution_count": null,
      "outputs": [
        {
          "output_type": "stream",
          "name": "stdout",
          "text": [
            "Drive already mounted at /content/drive; to attempt to forcibly remount, call drive.mount(\"/content/drive\", force_remount=True).\n"
          ]
        }
      ]
    },
    {
      "cell_type": "code",
      "source": [
        "dataset_path = '/content/drive/MyDrive/dataset'"
      ],
      "metadata": {
        "id": "uILOoRcKv330"
      },
      "execution_count": null,
      "outputs": []
    },
    {
      "cell_type": "code",
      "source": [
        "from glob import glob\n",
        "import pandas as pd\n",
        "import cv2 as cv2\n",
        "import matplotlib.pyplot as plt\n",
        "import numpy as np\n",
        "import torch"
      ],
      "metadata": {
        "id": "lCZty5b9v-v5"
      },
      "execution_count": null,
      "outputs": []
    },
    {
      "cell_type": "code",
      "source": [
        "testdf = pd.read_csv(dataset_path+'/testdf.csv')"
      ],
      "metadata": {
        "id": "p2oDrRX2Od3i"
      },
      "execution_count": null,
      "outputs": []
    },
    {
      "cell_type": "code",
      "source": [
        "testdf.Label.unique()"
      ],
      "metadata": {
        "id": "h1rYHS4j0bTF",
        "colab": {
          "base_uri": "https://localhost:8080/"
        },
        "outputId": "16472170-42d9-4cca-e42d-ba83c86605ad"
      },
      "execution_count": null,
      "outputs": [
        {
          "output_type": "execute_result",
          "data": {
            "text/plain": [
              "array(['vriksh', 'bhujan'], dtype=object)"
            ]
          },
          "metadata": {},
          "execution_count": 7
        }
      ]
    },
    {
      "cell_type": "code",
      "source": [
        "def label_mapping(label):\n",
        "  mapp = {'vriksh':0, 'bhujan':1}\n",
        "  return mapp[label]"
      ],
      "metadata": {
        "id": "JmM3jpL7u2IN"
      },
      "execution_count": null,
      "outputs": []
    },
    {
      "cell_type": "code",
      "source": [
        "label_mapping('bhujan')"
      ],
      "metadata": {
        "colab": {
          "base_uri": "https://localhost:8080/"
        },
        "id": "3qEBjoZUwNgz",
        "outputId": "d9681525-7ab1-4ef9-a1b2-e7b343874b74"
      },
      "execution_count": null,
      "outputs": [
        {
          "output_type": "execute_result",
          "data": {
            "text/plain": [
              "1"
            ]
          },
          "metadata": {},
          "execution_count": 9
        }
      ]
    },
    {
      "cell_type": "code",
      "source": [
        "# #Read frame number 53 of each video:\n",
        "# frame_number=93 #random\n",
        "# import cv2\n",
        "# def showFrame(path):\n",
        "#     cap = cv2.VideoCapture(path)\n",
        "#     cap.set(1, frame_number)\n",
        "#     res, frame = cap.read()\n",
        "#     print(f'Before conversion to grayscale {frame.shape}')\n",
        "#     frame = cv2.cvtColor(frame, cv2.COLOR_RGB2GRAY)\n",
        "#     print(f'afer conversion to grayscale {frame.shape} ')\n",
        "#     frame = frame[30:700,200:1050]\n",
        "#     frame.tolist()\n",
        "#     print(frame/255)\n",
        "#     # plt.title(path.split('/')[-2])\n",
        "#     # plt.axis(False)\n",
        "#     # plt.show()"
      ],
      "metadata": {
        "id": "9Kb8x4YNPyo_"
      },
      "execution_count": null,
      "outputs": []
    },
    {
      "cell_type": "code",
      "source": [
        "# showFrame(testdf.Path[2])"
      ],
      "metadata": {
        "id": "gnmXkiJqR7dI"
      },
      "execution_count": null,
      "outputs": []
    },
    {
      "cell_type": "code",
      "source": [
        "# padding_frame = 1500\n",
        "# video = cv2.VideoCapture(testdf.Path[0])\n",
        "\n",
        "# count = 0\n",
        "# testlist = []\n",
        "# while (count < padding_frame):\n",
        "#   success, cap = video.read()\n",
        "#   testlist.append(cap)\n",
        "#   count =+1\n"
      ],
      "metadata": {
        "id": "KoODrX4vhSIw"
      },
      "execution_count": null,
      "outputs": []
    },
    {
      "cell_type": "code",
      "source": [
        "(testdf.Label[0]+'-'+testdf.Path[0].split('/')[-1].split('.')[0]).lower()"
      ],
      "metadata": {
        "id": "-oqcoX4Hn1ni",
        "colab": {
          "base_uri": "https://localhost:8080/",
          "height": 35
        },
        "outputId": "140740d4-42c7-4010-be49-163ba1b7afa6"
      },
      "execution_count": null,
      "outputs": [
        {
          "output_type": "execute_result",
          "data": {
            "text/plain": [
              "'vriksh-deepa_vriksh'"
            ],
            "application/vnd.google.colaboratory.intrinsic+json": {
              "type": "string"
            }
          },
          "metadata": {},
          "execution_count": 13
        }
      ]
    },
    {
      "cell_type": "code",
      "source": [
        "import torch"
      ],
      "metadata": {
        "id": "bOXHgWqNx3qd"
      },
      "execution_count": null,
      "outputs": []
    },
    {
      "cell_type": "code",
      "source": [
        "padding_frame = 1500\n",
        "import os\n",
        "parentFolder = '/content/drive/MyDrive/TestFolder'\n",
        "def listframe(path, Label):\n",
        "  os.chdir(parentFolder)\n",
        "  foldername = (Label+'-'+path.split('/')[-1].split('.')[0]).lower()\n",
        "  count = 0\n",
        "  X_st = 30\n",
        "  X_en = 700\n",
        "  Y_st = 200\n",
        "  Y_en = 1050\n",
        "  Img_Size_X = X_en - X_st\n",
        "  Img_Size_y = -Y_st + Y_en\n",
        "  frames = torch.empty(1, Img_Size_X, Img_Size_y)\n",
        "  \n",
        "  # testlist = []\n",
        "  os.mkdir(foldername)\n",
        "\n",
        "  os.chdir(foldername)\n",
        "  # print('ok')\n",
        "  video = cv2.VideoCapture(path)\n",
        "  # frames = torch.empty()\n",
        "  label = label_mapping(Label)\n",
        "  while (count<padding_frame): \n",
        "    try:\n",
        "        if count%10 == 0:\n",
        "          success, cap = video.read()\n",
        "          # print('okk')\n",
        "          cap = cv2.cvtColor(cap, cv2.COLOR_RGB2GRAY)\n",
        "          cap = cap[X_st:X_en,Y_st:Y_en]\n",
        "          cap = cv2.resize(cap, (224,224))\n",
        "          cv2.imwrite(\"frame%d.jpg\" % count, cap) # save frame as JPEG file.\n",
        "          \n",
        "          # print(frames)\n",
        "          # print(count)\n",
        "        else:\n",
        "          pass\n",
        "        count = count+1\n",
        "    except:\n",
        "        pass\n",
        "        count = count +1\n",
        "    # with  open(f'{foldername}.txt', 'w') as f:\n",
        "      # # f.write(frames)\n",
        "      # for each in frames:\n",
        "      #   # print(each)\n",
        "      # print(frames)\n",
        "      #   f.write(each)\n",
        "      # np.save('/', np.array(frames))\n",
        "  # print(frames[0].shape)\n",
        "  # plt.imshow(frames[0])\n",
        "  print(f'done dong doing {path}')\n",
        "  # torch.save(frames, f'{foldername}.pt')\n",
        "    "
      ],
      "metadata": {
        "id": "mWvKbd3Cbwbm"
      },
      "execution_count": null,
      "outputs": []
    },
    {
      "cell_type": "code",
      "source": [
        "import tqdm\n",
        "for i in range(len(testdf.Path)):\n",
        "  tqdm.tqdm(listframe(testdf.Path[i], testdf.Label[i]))"
      ],
      "metadata": {
        "id": "T3LrgTtRS9HX",
        "colab": {
          "base_uri": "https://localhost:8080/"
        },
        "outputId": "7aab2d40-0bfe-47d8-e628-277002e292f5"
      },
      "execution_count": null,
      "outputs": [
        {
          "output_type": "stream",
          "name": "stdout",
          "text": [
            "done dong doing /content/drive/MyDrive/dataset/vriksh/deepa_vriksh.mp4\n"
          ]
        },
        {
          "output_type": "stream",
          "name": "stderr",
          "text": [
            "0it [00:00, ?it/s]\n"
          ]
        },
        {
          "output_type": "stream",
          "name": "stdout",
          "text": [
            "done dong doing /content/drive/MyDrive/dataset/bhujan/Santosh_Bhuj2.mp4\n"
          ]
        },
        {
          "output_type": "stream",
          "name": "stderr",
          "text": [
            "0it [00:00, ?it/s]\n"
          ]
        },
        {
          "output_type": "stream",
          "name": "stdout",
          "text": [
            "done dong doing /content/drive/MyDrive/dataset/vriksh/Piyush_Vriksh.mp4\n"
          ]
        },
        {
          "output_type": "stream",
          "name": "stderr",
          "text": [
            "0it [00:00, ?it/s]\n"
          ]
        },
        {
          "output_type": "stream",
          "name": "stdout",
          "text": [
            "done dong doing /content/drive/MyDrive/dataset/vriksh/Dristi_Vriksh.mp4\n"
          ]
        },
        {
          "output_type": "stream",
          "name": "stderr",
          "text": [
            "0it [00:00, ?it/s]\n"
          ]
        },
        {
          "output_type": "stream",
          "name": "stdout",
          "text": [
            "done dong doing /content/drive/MyDrive/dataset/vriksh/lakshmi_vriksh.mp4\n"
          ]
        },
        {
          "output_type": "stream",
          "name": "stderr",
          "text": [
            "0it [00:00, ?it/s]\n"
          ]
        },
        {
          "output_type": "stream",
          "name": "stdout",
          "text": [
            "done dong doing /content/drive/MyDrive/dataset/vriksh/Bhumi_Vriksh.mp4\n"
          ]
        },
        {
          "output_type": "stream",
          "name": "stderr",
          "text": [
            "0it [00:00, ?it/s]\n"
          ]
        },
        {
          "output_type": "stream",
          "name": "stdout",
          "text": [
            "done dong doing /content/drive/MyDrive/dataset/vriksh/Shiva_Vriksh.mp4\n"
          ]
        },
        {
          "output_type": "stream",
          "name": "stderr",
          "text": [
            "0it [00:00, ?it/s]\n"
          ]
        },
        {
          "output_type": "stream",
          "name": "stdout",
          "text": [
            "done dong doing /content/drive/MyDrive/dataset/bhujan/Shiv_bhuj.mp4\n"
          ]
        },
        {
          "output_type": "stream",
          "name": "stderr",
          "text": [
            "0it [00:00, ?it/s]\n"
          ]
        },
        {
          "output_type": "stream",
          "name": "stdout",
          "text": [
            "done dong doing /content/drive/MyDrive/dataset/bhujan/Dristi_Bhuj.mp4\n"
          ]
        },
        {
          "output_type": "stream",
          "name": "stderr",
          "text": [
            "0it [00:00, ?it/s]\n"
          ]
        },
        {
          "output_type": "stream",
          "name": "stdout",
          "text": [
            "done dong doing /content/drive/MyDrive/dataset/bhujan/lakshmi_bhujang.mp4\n"
          ]
        },
        {
          "output_type": "stream",
          "name": "stderr",
          "text": [
            "0it [00:00, ?it/s]\n"
          ]
        },
        {
          "output_type": "stream",
          "name": "stdout",
          "text": [
            "done dong doing /content/drive/MyDrive/dataset/bhujan/Sarthak_Bhuj.mp4\n"
          ]
        },
        {
          "output_type": "stream",
          "name": "stderr",
          "text": [
            "0it [00:00, ?it/s]\n"
          ]
        },
        {
          "output_type": "stream",
          "name": "stdout",
          "text": [
            "done dong doing /content/drive/MyDrive/dataset/bhujan/Rakesh_Bhuj.mp4\n"
          ]
        },
        {
          "output_type": "stream",
          "name": "stderr",
          "text": [
            "0it [00:00, ?it/s]\n"
          ]
        },
        {
          "output_type": "stream",
          "name": "stdout",
          "text": [
            "done dong doing /content/drive/MyDrive/dataset/bhujan/Veena_Bhu.mp4\n"
          ]
        },
        {
          "output_type": "stream",
          "name": "stderr",
          "text": [
            "0it [00:00, ?it/s]\n"
          ]
        },
        {
          "output_type": "stream",
          "name": "stdout",
          "text": [
            "done dong doing /content/drive/MyDrive/dataset/bhujan/Pranshul_Bhuj.mp4\n"
          ]
        },
        {
          "output_type": "stream",
          "name": "stderr",
          "text": [
            "0it [00:00, ?it/s]\n"
          ]
        },
        {
          "output_type": "stream",
          "name": "stdout",
          "text": [
            "done dong doing /content/drive/MyDrive/dataset/bhujan/deepa_bhujan.mp4\n"
          ]
        },
        {
          "output_type": "stream",
          "name": "stderr",
          "text": [
            "0it [00:00, ?it/s]\n"
          ]
        },
        {
          "output_type": "stream",
          "name": "stdout",
          "text": [
            "done dong doing /content/drive/MyDrive/dataset/bhujan/Bhumi_Bhuj.mp4\n"
          ]
        },
        {
          "output_type": "stream",
          "name": "stderr",
          "text": [
            "0it [00:00, ?it/s]\n"
          ]
        },
        {
          "output_type": "stream",
          "name": "stdout",
          "text": [
            "done dong doing /content/drive/MyDrive/dataset/vriksh/veena_vriksh.mp4\n"
          ]
        },
        {
          "output_type": "stream",
          "name": "stderr",
          "text": [
            "0it [00:00, ?it/s]\n"
          ]
        },
        {
          "output_type": "stream",
          "name": "stdout",
          "text": [
            "done dong doing /content/drive/MyDrive/dataset/bhujan/Harshav_Bhuj.mp4\n"
          ]
        },
        {
          "output_type": "stream",
          "name": "stderr",
          "text": [
            "0it [00:00, ?it/s]\n"
          ]
        },
        {
          "output_type": "stream",
          "name": "stdout",
          "text": [
            "done dong doing /content/drive/MyDrive/dataset/vriksh/Harshav_Vriksh.mp4\n"
          ]
        },
        {
          "output_type": "stream",
          "name": "stderr",
          "text": [
            "0it [00:00, ?it/s]\n"
          ]
        },
        {
          "output_type": "stream",
          "name": "stdout",
          "text": [
            "done dong doing /content/drive/MyDrive/dataset/vriksh/Abhay_Vriksh.mp4\n"
          ]
        },
        {
          "output_type": "stream",
          "name": "stderr",
          "text": [
            "0it [00:00, ?it/s]\n"
          ]
        },
        {
          "output_type": "stream",
          "name": "stdout",
          "text": [
            "done dong doing /content/drive/MyDrive/dataset/bhujan/Abhay_Bhuj.mp4\n"
          ]
        },
        {
          "output_type": "stream",
          "name": "stderr",
          "text": [
            "0it [00:00, ?it/s]\n"
          ]
        },
        {
          "output_type": "stream",
          "name": "stdout",
          "text": [
            "done dong doing /content/drive/MyDrive/dataset/vriksh/Ameya_Vriksh.mp4\n"
          ]
        },
        {
          "output_type": "stream",
          "name": "stderr",
          "text": [
            "0it [00:00, ?it/s]\n"
          ]
        },
        {
          "output_type": "stream",
          "name": "stdout",
          "text": [
            "done dong doing /content/drive/MyDrive/dataset/bhujan/Piyush_Bhuj.mp4\n"
          ]
        },
        {
          "output_type": "stream",
          "name": "stderr",
          "text": [
            "0it [00:00, ?it/s]\n"
          ]
        },
        {
          "output_type": "stream",
          "name": "stdout",
          "text": [
            "done dong doing /content/drive/MyDrive/dataset/vriksh/Santosh_vriksh.mp4\n"
          ]
        },
        {
          "output_type": "stream",
          "name": "stderr",
          "text": [
            "0it [00:00, ?it/s]\n"
          ]
        },
        {
          "output_type": "stream",
          "name": "stdout",
          "text": [
            "done dong doing /content/drive/MyDrive/dataset/bhujan/Ameya_Bhuj.mp4\n"
          ]
        },
        {
          "output_type": "stream",
          "name": "stderr",
          "text": [
            "0it [00:00, ?it/s]\n"
          ]
        },
        {
          "output_type": "stream",
          "name": "stdout",
          "text": [
            "done dong doing /content/drive/MyDrive/dataset/vriksh/Sarthak_Vriksh.mp4\n"
          ]
        },
        {
          "output_type": "stream",
          "name": "stderr",
          "text": [
            "0it [00:00, ?it/s]\n"
          ]
        },
        {
          "output_type": "stream",
          "name": "stdout",
          "text": [
            "done dong doing /content/drive/MyDrive/dataset/vriksh/Kaustuk_Vriksh.mp4\n"
          ]
        },
        {
          "output_type": "stream",
          "name": "stderr",
          "text": [
            "0it [00:00, ?it/s]\n"
          ]
        },
        {
          "output_type": "stream",
          "name": "stdout",
          "text": [
            "done dong doing /content/drive/MyDrive/dataset/bhujan/Kaustuk_Bhuj.mp4\n"
          ]
        },
        {
          "output_type": "stream",
          "name": "stderr",
          "text": [
            "0it [00:00, ?it/s]\n"
          ]
        },
        {
          "output_type": "stream",
          "name": "stdout",
          "text": [
            "done dong doing /content/drive/MyDrive/dataset/vriksh/Rakesh_Vriksh.mp4\n"
          ]
        },
        {
          "output_type": "stream",
          "name": "stderr",
          "text": [
            "0it [00:00, ?it/s]\n"
          ]
        },
        {
          "output_type": "stream",
          "name": "stdout",
          "text": [
            "done dong doing /content/drive/MyDrive/dataset/bhujan/Santosh_Bhuj.mp4\n"
          ]
        },
        {
          "output_type": "stream",
          "name": "stderr",
          "text": [
            "0it [00:00, ?it/s]\n"
          ]
        },
        {
          "output_type": "stream",
          "name": "stdout",
          "text": [
            "done dong doing /content/drive/MyDrive/dataset/vriksh/Pranshul_Vriksh.mp4\n"
          ]
        },
        {
          "output_type": "stream",
          "name": "stderr",
          "text": [
            "0it [00:00, ?it/s]\n"
          ]
        }
      ]
    },
    {
      "cell_type": "code",
      "source": [],
      "metadata": {
        "id": "X5zoYzqbmf4T"
      },
      "execution_count": null,
      "outputs": []
    },
    {
      "cell_type": "code",
      "source": [
        "testpath = '/content/drive/MyDrive/TestFolder'"
      ],
      "metadata": {
        "id": "llYUa1AU6K3r"
      },
      "execution_count": null,
      "outputs": []
    },
    {
      "cell_type": "code",
      "source": [
        "dirs = os.listdir(testpath)"
      ],
      "metadata": {
        "id": "Bw_a0Cf_mhUX"
      },
      "execution_count": null,
      "outputs": []
    },
    {
      "cell_type": "code",
      "source": [
        "import random\n",
        "dirs = random.shuffle(dirs)"
      ],
      "metadata": {
        "id": "j69Ep4TPAUGj"
      },
      "execution_count": null,
      "outputs": []
    },
    {
      "cell_type": "code",
      "source": [
        "images_path = []\n",
        "labels = []\n"
      ],
      "metadata": {
        "id": "WLPWMiOgBBHL"
      },
      "execution_count": null,
      "outputs": []
    },
    {
      "cell_type": "code",
      "source": [
        "for each in dirs:\n",
        "  os.chdir(testpath+'/'+each)\n",
        "  cur_dir =  os.getcwd()\n",
        "  for files in os.listdir(cur_dir):\n",
        "    images_path.append(cur_dir+'/'+files)\n",
        "    labels.append(cur_dir.split('/')[-1].split('-')[0])\n",
        "    "
      ],
      "metadata": {
        "id": "aXCVgWj3NTFk"
      },
      "execution_count": null,
      "outputs": []
    },
    {
      "cell_type": "code",
      "source": [
        "import pandas as pd\n",
        "df = pd.DataFrame(list(zip(images_path, labels)), columns = ['path', 'label'])"
      ],
      "metadata": {
        "id": "JLqQFEZJPP9W"
      },
      "execution_count": null,
      "outputs": []
    },
    {
      "cell_type": "code",
      "source": [],
      "metadata": {
        "id": "xXwNB7o49Q16",
        "colab": {
          "base_uri": "https://localhost:8080/"
        },
        "outputId": "69ac62e7-b627-478d-fd04-91d94928206f"
      },
      "execution_count": null,
      "outputs": [
        {
          "output_type": "execute_result",
          "data": {
            "text/plain": [
              "path     /content/drive/MyDrive/TestFolder/vriksh-veena...\n",
              "label                                               vriksh\n",
              "Name: 2500, dtype: object"
            ]
          },
          "metadata": {},
          "execution_count": 47
        }
      ]
    },
    {
      "cell_type": "code",
      "source": [],
      "metadata": {
        "id": "-AhehU34468N"
      },
      "execution_count": null,
      "outputs": []
    }
  ]
}